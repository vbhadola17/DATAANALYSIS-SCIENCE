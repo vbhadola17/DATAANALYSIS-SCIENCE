{
  "nbformat": 4,
  "nbformat_minor": 0,
  "metadata": {
    "colab": {
      "name": "Book/Movie Analysis.ipynb",
      "provenance": []
    },
    "kernelspec": {
      "name": "python3",
      "display_name": "Python 3"
    }
  },
  "cells": [
    {
      "cell_type": "markdown",
      "metadata": {
        "id": "4Q3-1IK1sWpk"
      },
      "source": [
        "# Movie & Book Reviews Project"
      ]
    },
    {
      "cell_type": "markdown",
      "metadata": {
        "id": "fXiloO06s75e"
      },
      "source": [
        "Author: Noah Jett\n",
        "\n",
        "Date: 12/05/2019\n",
        "\n",
        "Made as part of Data Science 377 at Illinois Wesleyan University\n",
        "\n",
        "I am interested in why some books are made into movies and some are not. I think there might be something measurably different about books that are made into movies and those which are not. To answer this I found two datasets 'Goodreads-books' and 'TMDB 5000 Movie Dataset'.\n"
      ]
    },
    {
      "cell_type": "markdown",
      "metadata": {
        "id": "MbGjHkJDq52F"
      },
      "source": [
        "### Dataset 1: Goodreads-books from Kaggle\n",
        "Goodreads-books is data pulled from popular book review and reccomendation site Goodreads. Each entry in this dataset is a unique book, and contains information like author, pages, average rating, and number of reviews. The data was scraped from the site directly using the publically available Goodreads API.\n",
        "\n",
        "Can be found here:\n",
        "https://www.kaggle.com/jealousleopard/goodreadsbooks\n",
        "\n"
      ]
    },
    {
      "cell_type": "markdown",
      "metadata": {
        "id": "fTahXy09hWgB"
      },
      "source": [
        "### Dataset 2: TMDB 5000 Movie Dataset from Kaggle\n",
        "Data on 5000 movies scraped from The Movie Database (TMDB).\n",
        "\n",
        "Can be found here:\n",
        "https://www.kaggle.com/tmdb/tmdb-movie-metadata#tmdb_5000_credits.csv\n",
        "\n"
      ]
    },
    {
      "cell_type": "markdown",
      "metadata": {
        "id": "-LNrzfHcvsgU"
      },
      "source": [
        "### Goal\n",
        "\n",
        "The goal of this project is to do exploratory analyses on these datasets, combine them, and look at entries occurring in both datasets, i.e. books which have a movie adaptation.\n",
        "\n"
      ]
    },
    {
      "cell_type": "markdown",
      "metadata": {
        "id": "LnWuV9LMUzOB"
      },
      "source": [
        "### Research Questions:\n",
        "1. Is the mean rating of books made into a movie significantly different than those that are not?\n",
        "2. Is the mean rating of movies based on a book significantly different than those that are not?\n",
        "3. Can we make a model to predict what rating a book would get if it were turned into a movie?\n",
        "4. Can we make a model to predict whether a book will be made into a movie?\n",
        "\n",
        "An important note is that merging the two datasets is itself an important goal of the project. Combining datasets can create value by allowing future data scientists to look at data in different ways, and ask different questions.\n"
      ]
    },
    {
      "cell_type": "markdown",
      "metadata": {
        "id": "hkBNM9pA3Jyg"
      },
      "source": [
        "### Ethics Statement\n",
        "\n",
        "This project uses two publically available datasets, which can be found here https://www.kaggle.com/jealousleopard/goodreadsbooks, and here https://www.kaggle.com/tmdb/tmdb-movie-metadata#tmdb_5000_credits.csv.\n",
        "\n",
        "These datasets were created through publically available APIs, and are some of the highest rated sets on the popular data science site Kaggle. They do not contain any private information on persons or compaines. The movie dataset contains information about movie budgets and revenues, both of which are publically available information.\n",
        "\n",
        "The result of this project, to combine the datasets and identify relationships between them, should not have any negative impact on specific works or their creators. The subjects of the datasets can realistically only gain from the information created from this project."
      ]
    },
    {
      "cell_type": "markdown",
      "metadata": {
        "id": "HPV640LxWNh1"
      },
      "source": [
        "### Imports and setup"
      ]
    },
    {
      "cell_type": "code",
      "metadata": {
        "id": "doX8HGMMqPJv"
      },
      "source": [
        "import os\n",
        "import pandas as pd\n",
        "import matplotlib.pyplot as plt\n",
        "import seaborn as sns\n",
        "import numpy as np\n",
        "\n",
        "pd.options.display.float_format = '{:.2f}'.format\n",
        "pd.set_option('display.max_colwidth',1000)"
      ],
      "execution_count": null,
      "outputs": []
    },
    {
      "cell_type": "code",
      "metadata": {
        "id": "lSGNvBTp6SNW",
        "outputId": "d9c7837d-a8e4-4a09-da18-45100dbf8132",
        "colab": {
          "base_uri": "https://localhost:8080/",
          "height": 67
        }
      },
      "source": [
        "!pip install fuzzywuzzy\n",
        "!pip install python-Levenshtein"
      ],
      "execution_count": null,
      "outputs": [
        {
          "output_type": "stream",
          "text": [
            "Requirement already satisfied: fuzzywuzzy in /usr/local/lib/python3.6/dist-packages (0.17.0)\n",
            "Requirement already satisfied: python-Levenshtein in /usr/local/lib/python3.6/dist-packages (0.12.0)\n",
            "Requirement already satisfied: setuptools in /usr/local/lib/python3.6/dist-packages (from python-Levenshtein) (42.0.1)\n"
          ],
          "name": "stdout"
        }
      ]
    },
    {
      "cell_type": "code",
      "metadata": {
        "id": "ECssR9Jt6aTQ"
      },
      "source": [
        "import fuzzywuzzy\n",
        "from fuzzywuzzy import process"
      ],
      "execution_count": null,
      "outputs": []
    },
    {
      "cell_type": "markdown",
      "metadata": {
        "id": "S1OeY1tGq0nP"
      },
      "source": [
        "Import Method: From Google Drive"
      ]
    },
    {
      "cell_type": "code",
      "metadata": {
        "id": "Y06KtUVkqRvW",
        "outputId": "cb884fe4-4f41-4139-c188-50b4da3360ff",
        "colab": {
          "base_uri": "https://localhost:8080/",
          "height": 34
        }
      },
      "source": [
        "\"\"\"\n",
        "from google.colab import drive\n",
        "drive.mount('/content/drive/')\n",
        "\"\"\""
      ],
      "execution_count": null,
      "outputs": [
        {
          "output_type": "execute_result",
          "data": {
            "text/plain": [
              "\"\\nfrom google.colab import drive\\ndrive.mount('/content/drive/')\\n\""
            ]
          },
          "metadata": {
            "tags": []
          },
          "execution_count": 4
        }
      ]
    },
    {
      "cell_type": "code",
      "metadata": {
        "id": "WZ0LSb5R0t3W",
        "outputId": "42157589-1de0-4629-e4cd-ec27481cf590",
        "colab": {
          "base_uri": "https://localhost:8080/",
          "height": 54
        }
      },
      "source": [
        "bookpath = 'https://raw.githubusercontent.com/noahjett/Movie-Goodreads-Analysis/master/books.csv'\n",
        "moviepath = 'https://raw.githubusercontent.com/noahjett/Movie-Goodreads-Analysis/master/tmdb_5000_movies.csv'\n",
        "creditpath = 'https://raw.githubusercontent.com/noahjett/Movie-Goodreads-Analysis/master/tmdb_5000_credits.csv'\n",
        "\n",
        "if not os.path.exists(\"/content/books.csv\"):\n",
        "  books = pd.read_csv(bookpath, error_bad_lines=False)\n",
        "\n",
        "if not os.path.exists('/content/tmdb_5000_movies.csv'):\n",
        "  movies = pd.read_csv(moviepath, error_bad_lines=False)\n",
        "\n",
        "if not os.path.exists('/content/tmdb_5000_credits.csv'):\n",
        "  credits = pd.read_csv(creditpath, error_bad_lines=False)\n"
      ],
      "execution_count": null,
      "outputs": [
        {
          "output_type": "stream",
          "text": [
            "b'Skipping line 4012: expected 10 fields, saw 11\\nSkipping line 5688: expected 10 fields, saw 11\\nSkipping line 7056: expected 10 fields, saw 11\\nSkipping line 10601: expected 10 fields, saw 11\\nSkipping line 10668: expected 10 fields, saw 11\\n'\n"
          ],
          "name": "stderr"
        }
      ]
    },
    {
      "cell_type": "code",
      "metadata": {
        "id": "3VokIlj8qU_J",
        "outputId": "03916d0f-dcc6-482d-8239-71bcad59c734",
        "colab": {
          "base_uri": "https://localhost:8080/",
          "height": 54
        }
      },
      "source": [
        "\n",
        "\n",
        "\"\"\"\n",
        "path1 = \"/content/drive/My Drive/data/books.csv\"\n",
        "books = pd.read_csv(path1, error_bad_lines=False)\n",
        "\n",
        "path2 = \"/content/drive/My Drive/data/tmdb_5000_movies.csv\"\n",
        "movies = pd.read_csv(path2, error_bad_lines=False)\n",
        "\n",
        "path3 = \"/content/drive/My Drive/data/tmdb_5000_credits.csv\"\n",
        "credits = pd.read_csv(path3, error_bad_lines=False)\n",
        "\n",
        "#path4 = \"/content/drive/My Drive/data/Dataframe.csv\"\n",
        "#df = pd.read_csv(path4, error_bad_lines=False)\n",
        "\"\"\""
      ],
      "execution_count": null,
      "outputs": [
        {
          "output_type": "execute_result",
          "data": {
            "text/plain": [
              "'\\npath1 = \"/content/drive/My Drive/data/books.csv\"\\nbooks = pd.read_csv(path1, error_bad_lines=False)\\n\\npath2 = \"/content/drive/My Drive/data/tmdb_5000_movies.csv\"\\nmovies = pd.read_csv(path2, error_bad_lines=False)\\n\\npath3 = \"/content/drive/My Drive/data/tmdb_5000_credits.csv\"\\ncredits = pd.read_csv(path3, error_bad_lines=False)\\n\\n#path4 = \"/content/drive/My Drive/data/Dataframe.csv\"\\n#df = pd.read_csv(path4, error_bad_lines=False)\\n'"
            ]
          },
          "metadata": {
            "tags": []
          },
          "execution_count": 6
        }
      ]
    },
    {
      "cell_type": "markdown",
      "metadata": {
        "id": "dA5pyQjprO1H"
      },
      "source": [
        "### Missing values"
      ]
    },
    {
      "cell_type": "code",
      "metadata": {
        "id": "_6hvhR8yqu_n",
        "outputId": "1a935add-8b4f-4009-9384-8129ce4109e3",
        "colab": {
          "base_uri": "https://localhost:8080/",
          "height": 202
        }
      },
      "source": [
        "books.isna().sum()\n"
      ],
      "execution_count": null,
      "outputs": [
        {
          "output_type": "execute_result",
          "data": {
            "text/plain": [
              "bookID                0\n",
              "title                 0\n",
              "authors               0\n",
              "average_rating        0\n",
              "isbn                  0\n",
              "isbn13                0\n",
              "language_code         0\n",
              "# num_pages           0\n",
              "ratings_count         0\n",
              "text_reviews_count    0\n",
              "dtype: int64"
            ]
          },
          "metadata": {
            "tags": []
          },
          "execution_count": 7
        }
      ]
    },
    {
      "cell_type": "markdown",
      "metadata": {
        "id": "3FrwTbrurWI0"
      },
      "source": [
        "Goodreads dataset has no missing values"
      ]
    },
    {
      "cell_type": "code",
      "metadata": {
        "id": "NI_iD_puQF2_",
        "outputId": "44c4b16a-07e7-4435-fe07-0cf886b41cd3",
        "colab": {
          "base_uri": "https://localhost:8080/",
          "height": 370
        }
      },
      "source": [
        "movies.isna().sum()"
      ],
      "execution_count": null,
      "outputs": [
        {
          "output_type": "execute_result",
          "data": {
            "text/plain": [
              "budget                     0\n",
              "genres                     0\n",
              "homepage                3091\n",
              "id                         0\n",
              "keywords                   0\n",
              "original_language          0\n",
              "original_title             0\n",
              "overview                   3\n",
              "popularity                 0\n",
              "production_companies       0\n",
              "production_countries       0\n",
              "release_date               1\n",
              "revenue                    0\n",
              "runtime                    2\n",
              "spoken_languages           0\n",
              "status                     0\n",
              "tagline                  844\n",
              "title                      0\n",
              "vote_average               0\n",
              "vote_count                 0\n",
              "dtype: int64"
            ]
          },
          "metadata": {
            "tags": []
          },
          "execution_count": 8
        }
      ]
    },
    {
      "cell_type": "markdown",
      "metadata": {
        "id": "NEUmvTq_QQYN"
      },
      "source": [
        "We see that the 'homepage' and 'tagline' fields are empty for many entries, but these are values we are not concerned with.\n",
        "\n",
        "There are also a few (<=3) for other fields, but since they are so few these can likely be dropped with no effect."
      ]
    },
    {
      "cell_type": "markdown",
      "metadata": {
        "id": "EHPEx373XGWR"
      },
      "source": [
        "### Goodreads Relevant Columns/Variables\n",
        "\n",
        "\n",
        "\n",
        "*   **title** - The name of the book\n",
        "*   **authors** - The writer of the book\n",
        "*   **average_rating** - From 1-5, the average rating given by reviewers\n",
        "*   **language_code** - A shorthand for the language used\n",
        "*   **# num_pages** - The number of pages in the book\n",
        "*   **ratings_count** - The total number of reviews for the book\n",
        "\n",
        "\n"
      ]
    },
    {
      "cell_type": "markdown",
      "metadata": {
        "id": "XJ0c2aPTeuDc"
      },
      "source": [
        "### Goodreads descriptives"
      ]
    },
    {
      "cell_type": "code",
      "metadata": {
        "id": "LubAVYZWrUjc",
        "outputId": "bc2e1c55-4fb0-40c3-eeba-a78456ed002e",
        "colab": {
          "base_uri": "https://localhost:8080/",
          "height": 582
        }
      },
      "source": [
        "books.head(5)"
      ],
      "execution_count": null,
      "outputs": [
        {
          "output_type": "execute_result",
          "data": {
            "text/html": [
              "<div>\n",
              "<style scoped>\n",
              "    .dataframe tbody tr th:only-of-type {\n",
              "        vertical-align: middle;\n",
              "    }\n",
              "\n",
              "    .dataframe tbody tr th {\n",
              "        vertical-align: top;\n",
              "    }\n",
              "\n",
              "    .dataframe thead th {\n",
              "        text-align: right;\n",
              "    }\n",
              "</style>\n",
              "<table border=\"1\" class=\"dataframe\">\n",
              "  <thead>\n",
              "    <tr style=\"text-align: right;\">\n",
              "      <th></th>\n",
              "      <th>bookID</th>\n",
              "      <th>title</th>\n",
              "      <th>authors</th>\n",
              "      <th>average_rating</th>\n",
              "      <th>isbn</th>\n",
              "      <th>isbn13</th>\n",
              "      <th>language_code</th>\n",
              "      <th># num_pages</th>\n",
              "      <th>ratings_count</th>\n",
              "      <th>text_reviews_count</th>\n",
              "    </tr>\n",
              "  </thead>\n",
              "  <tbody>\n",
              "    <tr>\n",
              "      <th>0</th>\n",
              "      <td>1</td>\n",
              "      <td>Harry Potter and the Half-Blood Prince (Harry Potter  #6)</td>\n",
              "      <td>J.K. Rowling-Mary GrandPré</td>\n",
              "      <td>4.56</td>\n",
              "      <td>0439785960</td>\n",
              "      <td>9780439785969</td>\n",
              "      <td>eng</td>\n",
              "      <td>652</td>\n",
              "      <td>1944099</td>\n",
              "      <td>26249</td>\n",
              "    </tr>\n",
              "    <tr>\n",
              "      <th>1</th>\n",
              "      <td>2</td>\n",
              "      <td>Harry Potter and the Order of the Phoenix (Harry Potter  #5)</td>\n",
              "      <td>J.K. Rowling-Mary GrandPré</td>\n",
              "      <td>4.49</td>\n",
              "      <td>0439358078</td>\n",
              "      <td>9780439358071</td>\n",
              "      <td>eng</td>\n",
              "      <td>870</td>\n",
              "      <td>1996446</td>\n",
              "      <td>27613</td>\n",
              "    </tr>\n",
              "    <tr>\n",
              "      <th>2</th>\n",
              "      <td>3</td>\n",
              "      <td>Harry Potter and the Sorcerer's Stone (Harry Potter  #1)</td>\n",
              "      <td>J.K. Rowling-Mary GrandPré</td>\n",
              "      <td>4.47</td>\n",
              "      <td>0439554934</td>\n",
              "      <td>9780439554930</td>\n",
              "      <td>eng</td>\n",
              "      <td>320</td>\n",
              "      <td>5629932</td>\n",
              "      <td>70390</td>\n",
              "    </tr>\n",
              "    <tr>\n",
              "      <th>3</th>\n",
              "      <td>4</td>\n",
              "      <td>Harry Potter and the Chamber of Secrets (Harry Potter  #2)</td>\n",
              "      <td>J.K. Rowling</td>\n",
              "      <td>4.41</td>\n",
              "      <td>0439554896</td>\n",
              "      <td>9780439554893</td>\n",
              "      <td>eng</td>\n",
              "      <td>352</td>\n",
              "      <td>6267</td>\n",
              "      <td>272</td>\n",
              "    </tr>\n",
              "    <tr>\n",
              "      <th>4</th>\n",
              "      <td>5</td>\n",
              "      <td>Harry Potter and the Prisoner of Azkaban (Harry Potter  #3)</td>\n",
              "      <td>J.K. Rowling-Mary GrandPré</td>\n",
              "      <td>4.55</td>\n",
              "      <td>043965548X</td>\n",
              "      <td>9780439655484</td>\n",
              "      <td>eng</td>\n",
              "      <td>435</td>\n",
              "      <td>2149872</td>\n",
              "      <td>33964</td>\n",
              "    </tr>\n",
              "  </tbody>\n",
              "</table>\n",
              "</div>"
            ],
            "text/plain": [
              "   bookID  ... text_reviews_count\n",
              "0       1  ...              26249\n",
              "1       2  ...              27613\n",
              "2       3  ...              70390\n",
              "3       4  ...                272\n",
              "4       5  ...              33964\n",
              "\n",
              "[5 rows x 10 columns]"
            ]
          },
          "metadata": {
            "tags": []
          },
          "execution_count": 9
        }
      ]
    },
    {
      "cell_type": "markdown",
      "metadata": {
        "id": "HZ3eagQcrsUq"
      },
      "source": [
        "### Dropping unused columns"
      ]
    },
    {
      "cell_type": "code",
      "metadata": {
        "id": "FoSNoayfGqRO"
      },
      "source": [
        "books = books.drop(columns=['bookID', 'isbn', 'isbn13', 'language_code'])"
      ],
      "execution_count": null,
      "outputs": []
    },
    {
      "cell_type": "code",
      "metadata": {
        "id": "wBeTX2ZErjGn",
        "outputId": "82e81b91-935d-4974-c10a-1fb3f8bf1d24",
        "colab": {
          "base_uri": "https://localhost:8080/",
          "height": 202
        }
      },
      "source": [
        "books.info()"
      ],
      "execution_count": null,
      "outputs": [
        {
          "output_type": "stream",
          "text": [
            "<class 'pandas.core.frame.DataFrame'>\n",
            "RangeIndex: 13714 entries, 0 to 13713\n",
            "Data columns (total 6 columns):\n",
            "title                 13714 non-null object\n",
            "authors               13714 non-null object\n",
            "average_rating        13714 non-null float64\n",
            "# num_pages           13714 non-null int64\n",
            "ratings_count         13714 non-null int64\n",
            "text_reviews_count    13714 non-null int64\n",
            "dtypes: float64(1), int64(3), object(2)\n",
            "memory usage: 643.0+ KB\n"
          ],
          "name": "stdout"
        }
      ]
    },
    {
      "cell_type": "code",
      "metadata": {
        "id": "_KZC7i6Cr62j",
        "outputId": "3f077c7a-dc5c-42ad-9a10-11a5827a2101",
        "colab": {
          "base_uri": "https://localhost:8080/",
          "height": 166
        }
      },
      "source": [
        "books.describe().T"
      ],
      "execution_count": null,
      "outputs": [
        {
          "output_type": "execute_result",
          "data": {
            "text/html": [
              "<div>\n",
              "<style scoped>\n",
              "    .dataframe tbody tr th:only-of-type {\n",
              "        vertical-align: middle;\n",
              "    }\n",
              "\n",
              "    .dataframe tbody tr th {\n",
              "        vertical-align: top;\n",
              "    }\n",
              "\n",
              "    .dataframe thead th {\n",
              "        text-align: right;\n",
              "    }\n",
              "</style>\n",
              "<table border=\"1\" class=\"dataframe\">\n",
              "  <thead>\n",
              "    <tr style=\"text-align: right;\">\n",
              "      <th></th>\n",
              "      <th>count</th>\n",
              "      <th>mean</th>\n",
              "      <th>std</th>\n",
              "      <th>min</th>\n",
              "      <th>25%</th>\n",
              "      <th>50%</th>\n",
              "      <th>75%</th>\n",
              "      <th>max</th>\n",
              "    </tr>\n",
              "  </thead>\n",
              "  <tbody>\n",
              "    <tr>\n",
              "      <th>average_rating</th>\n",
              "      <td>13714.00</td>\n",
              "      <td>3.93</td>\n",
              "      <td>0.36</td>\n",
              "      <td>0.00</td>\n",
              "      <td>3.77</td>\n",
              "      <td>3.96</td>\n",
              "      <td>4.13</td>\n",
              "      <td>5.00</td>\n",
              "    </tr>\n",
              "    <tr>\n",
              "      <th># num_pages</th>\n",
              "      <td>13714.00</td>\n",
              "      <td>342.40</td>\n",
              "      <td>252.65</td>\n",
              "      <td>0.00</td>\n",
              "      <td>196.00</td>\n",
              "      <td>301.00</td>\n",
              "      <td>421.00</td>\n",
              "      <td>6576.00</td>\n",
              "    </tr>\n",
              "    <tr>\n",
              "      <th>ratings_count</th>\n",
              "      <td>13714.00</td>\n",
              "      <td>17765.40</td>\n",
              "      <td>112957.23</td>\n",
              "      <td>0.00</td>\n",
              "      <td>83.00</td>\n",
              "      <td>630.50</td>\n",
              "      <td>4742.25</td>\n",
              "      <td>5629932.00</td>\n",
              "    </tr>\n",
              "    <tr>\n",
              "      <th>text_reviews_count</th>\n",
              "      <td>13714.00</td>\n",
              "      <td>533.63</td>\n",
              "      <td>2529.01</td>\n",
              "      <td>0.00</td>\n",
              "      <td>7.00</td>\n",
              "      <td>40.00</td>\n",
              "      <td>222.00</td>\n",
              "      <td>93619.00</td>\n",
              "    </tr>\n",
              "  </tbody>\n",
              "</table>\n",
              "</div>"
            ],
            "text/plain": [
              "                      count     mean       std  ...    50%     75%        max\n",
              "average_rating     13714.00     3.93      0.36  ...   3.96    4.13       5.00\n",
              "# num_pages        13714.00   342.40    252.65  ... 301.00  421.00    6576.00\n",
              "ratings_count      13714.00 17765.40 112957.23  ... 630.50 4742.25 5629932.00\n",
              "text_reviews_count 13714.00   533.63   2529.01  ...  40.00  222.00   93619.00\n",
              "\n",
              "[4 rows x 8 columns]"
            ]
          },
          "metadata": {
            "tags": []
          },
          "execution_count": 12
        }
      ]
    },
    {
      "cell_type": "markdown",
      "metadata": {
        "id": "j7NTRFu1YhOf"
      },
      "source": [
        "### Movies Relevant Columns/Variables\n",
        "\n",
        "\n",
        "\n",
        "*  **title** - The name of the movie\n",
        "*  **vote_average** - From 1-10, the average score given by reviewers\n",
        "*  **runtime** - Length of the movie in minutes\n",
        "*  **revenue** - Money earned in USD\n",
        "*  **overview** - A short description of the movie\n",
        "*  **popularity** - A metric for the movie's popularity, provided by TMDB, poorly defined\n",
        "*  **keywords** - Word/phrases/names assiciated with the movie, its type/genre\n",
        "*  **budget** - Budget the movie had in production in USD\n",
        "\n"
      ]
    },
    {
      "cell_type": "markdown",
      "metadata": {
        "id": "ITjTsPR7e2qR"
      },
      "source": [
        "### Movie descriptives"
      ]
    },
    {
      "cell_type": "code",
      "metadata": {
        "id": "B7B5rc7ufKUm",
        "outputId": "9abb9acd-2632-4e0d-a38c-8f8ecaca62e6",
        "colab": {
          "base_uri": "https://localhost:8080/",
          "height": 1000
        }
      },
      "source": [
        "movies.head(5)"
      ],
      "execution_count": null,
      "outputs": [
        {
          "output_type": "execute_result",
          "data": {
            "text/html": [
              "<div>\n",
              "<style scoped>\n",
              "    .dataframe tbody tr th:only-of-type {\n",
              "        vertical-align: middle;\n",
              "    }\n",
              "\n",
              "    .dataframe tbody tr th {\n",
              "        vertical-align: top;\n",
              "    }\n",
              "\n",
              "    .dataframe thead th {\n",
              "        text-align: right;\n",
              "    }\n",
              "</style>\n",
              "<table border=\"1\" class=\"dataframe\">\n",
              "  <thead>\n",
              "    <tr style=\"text-align: right;\">\n",
              "      <th></th>\n",
              "      <th>budget</th>\n",
              "      <th>genres</th>\n",
              "      <th>homepage</th>\n",
              "      <th>id</th>\n",
              "      <th>keywords</th>\n",
              "      <th>original_language</th>\n",
              "      <th>original_title</th>\n",
              "      <th>overview</th>\n",
              "      <th>popularity</th>\n",
              "      <th>production_companies</th>\n",
              "      <th>production_countries</th>\n",
              "      <th>release_date</th>\n",
              "      <th>revenue</th>\n",
              "      <th>runtime</th>\n",
              "      <th>spoken_languages</th>\n",
              "      <th>status</th>\n",
              "      <th>tagline</th>\n",
              "      <th>title</th>\n",
              "      <th>vote_average</th>\n",
              "      <th>vote_count</th>\n",
              "    </tr>\n",
              "  </thead>\n",
              "  <tbody>\n",
              "    <tr>\n",
              "      <th>0</th>\n",
              "      <td>237000000</td>\n",
              "      <td>[{\"id\": 28, \"name\": \"Action\"}, {\"id\": 12, \"name\": \"Adventure\"}, {\"id\": 14, \"name\": \"Fantasy\"}, {\"id\": 878, \"name\": \"Science Fiction\"}]</td>\n",
              "      <td>http://www.avatarmovie.com/</td>\n",
              "      <td>19995</td>\n",
              "      <td>[{\"id\": 1463, \"name\": \"culture clash\"}, {\"id\": 2964, \"name\": \"future\"}, {\"id\": 3386, \"name\": \"space war\"}, {\"id\": 3388, \"name\": \"space colony\"}, {\"id\": 3679, \"name\": \"society\"}, {\"id\": 3801, \"name\": \"space travel\"}, {\"id\": 9685, \"name\": \"futuristic\"}, {\"id\": 9840, \"name\": \"romance\"}, {\"id\": 9882, \"name\": \"space\"}, {\"id\": 9951, \"name\": \"alien\"}, {\"id\": 10148, \"name\": \"tribe\"}, {\"id\": 10158, \"name\": \"alien planet\"}, {\"id\": 10987, \"name\": \"cgi\"}, {\"id\": 11399, \"name\": \"marine\"}, {\"id\": 13065, \"name\": \"soldier\"}, {\"id\": 14643, \"name\": \"battle\"}, {\"id\": 14720, \"name\": \"love affair\"}, {\"id\": 165431, \"name\": \"anti war\"}, {\"id\": 193554, \"name\": \"power relations\"}, {\"id\": 206690, \"name\": \"mind and soul\"}, {\"id\": 209714, \"name\": \"3d\"}]</td>\n",
              "      <td>en</td>\n",
              "      <td>Avatar</td>\n",
              "      <td>In the 22nd century, a paraplegic Marine is dispatched to the moon Pandora on a unique mission, but becomes torn between following orders and protecting an alien civilization.</td>\n",
              "      <td>150.44</td>\n",
              "      <td>[{\"name\": \"Ingenious Film Partners\", \"id\": 289}, {\"name\": \"Twentieth Century Fox Film Corporation\", \"id\": 306}, {\"name\": \"Dune Entertainment\", \"id\": 444}, {\"name\": \"Lightstorm Entertainment\", \"id\": 574}]</td>\n",
              "      <td>[{\"iso_3166_1\": \"US\", \"name\": \"United States of America\"}, {\"iso_3166_1\": \"GB\", \"name\": \"United Kingdom\"}]</td>\n",
              "      <td>2009-12-10</td>\n",
              "      <td>2787965087</td>\n",
              "      <td>162.00</td>\n",
              "      <td>[{\"iso_639_1\": \"en\", \"name\": \"English\"}, {\"iso_639_1\": \"es\", \"name\": \"Espa\\u00f1ol\"}]</td>\n",
              "      <td>Released</td>\n",
              "      <td>Enter the World of Pandora.</td>\n",
              "      <td>Avatar</td>\n",
              "      <td>7.20</td>\n",
              "      <td>11800</td>\n",
              "    </tr>\n",
              "    <tr>\n",
              "      <th>1</th>\n",
              "      <td>300000000</td>\n",
              "      <td>[{\"id\": 12, \"name\": \"Adventure\"}, {\"id\": 14, \"name\": \"Fantasy\"}, {\"id\": 28, \"name\": \"Action\"}]</td>\n",
              "      <td>http://disney.go.com/disneypictures/pirates/</td>\n",
              "      <td>285</td>\n",
              "      <td>[{\"id\": 270, \"name\": \"ocean\"}, {\"id\": 726, \"name\": \"drug abuse\"}, {\"id\": 911, \"name\": \"exotic island\"}, {\"id\": 1319, \"name\": \"east india trading company\"}, {\"id\": 2038, \"name\": \"love of one's life\"}, {\"id\": 2052, \"name\": \"traitor\"}, {\"id\": 2580, \"name\": \"shipwreck\"}, {\"id\": 2660, \"name\": \"strong woman\"}, {\"id\": 3799, \"name\": \"ship\"}, {\"id\": 5740, \"name\": \"alliance\"}, {\"id\": 5941, \"name\": \"calypso\"}, {\"id\": 6155, \"name\": \"afterlife\"}, {\"id\": 6211, \"name\": \"fighter\"}, {\"id\": 12988, \"name\": \"pirate\"}, {\"id\": 157186, \"name\": \"swashbuckler\"}, {\"id\": 179430, \"name\": \"aftercreditsstinger\"}]</td>\n",
              "      <td>en</td>\n",
              "      <td>Pirates of the Caribbean: At World's End</td>\n",
              "      <td>Captain Barbossa, long believed to be dead, has come back to life and is headed to the edge of the Earth with Will Turner and Elizabeth Swann. But nothing is quite as it seems.</td>\n",
              "      <td>139.08</td>\n",
              "      <td>[{\"name\": \"Walt Disney Pictures\", \"id\": 2}, {\"name\": \"Jerry Bruckheimer Films\", \"id\": 130}, {\"name\": \"Second Mate Productions\", \"id\": 19936}]</td>\n",
              "      <td>[{\"iso_3166_1\": \"US\", \"name\": \"United States of America\"}]</td>\n",
              "      <td>2007-05-19</td>\n",
              "      <td>961000000</td>\n",
              "      <td>169.00</td>\n",
              "      <td>[{\"iso_639_1\": \"en\", \"name\": \"English\"}]</td>\n",
              "      <td>Released</td>\n",
              "      <td>At the end of the world, the adventure begins.</td>\n",
              "      <td>Pirates of the Caribbean: At World's End</td>\n",
              "      <td>6.90</td>\n",
              "      <td>4500</td>\n",
              "    </tr>\n",
              "    <tr>\n",
              "      <th>2</th>\n",
              "      <td>245000000</td>\n",
              "      <td>[{\"id\": 28, \"name\": \"Action\"}, {\"id\": 12, \"name\": \"Adventure\"}, {\"id\": 80, \"name\": \"Crime\"}]</td>\n",
              "      <td>http://www.sonypictures.com/movies/spectre/</td>\n",
              "      <td>206647</td>\n",
              "      <td>[{\"id\": 470, \"name\": \"spy\"}, {\"id\": 818, \"name\": \"based on novel\"}, {\"id\": 4289, \"name\": \"secret agent\"}, {\"id\": 9663, \"name\": \"sequel\"}, {\"id\": 14555, \"name\": \"mi6\"}, {\"id\": 156095, \"name\": \"british secret service\"}, {\"id\": 158431, \"name\": \"united kingdom\"}]</td>\n",
              "      <td>en</td>\n",
              "      <td>Spectre</td>\n",
              "      <td>A cryptic message from Bond’s past sends him on a trail to uncover a sinister organization. While M battles political forces to keep the secret service alive, Bond peels back the layers of deceit to reveal the terrible truth behind SPECTRE.</td>\n",
              "      <td>107.38</td>\n",
              "      <td>[{\"name\": \"Columbia Pictures\", \"id\": 5}, {\"name\": \"Danjaq\", \"id\": 10761}, {\"name\": \"B24\", \"id\": 69434}]</td>\n",
              "      <td>[{\"iso_3166_1\": \"GB\", \"name\": \"United Kingdom\"}, {\"iso_3166_1\": \"US\", \"name\": \"United States of America\"}]</td>\n",
              "      <td>2015-10-26</td>\n",
              "      <td>880674609</td>\n",
              "      <td>148.00</td>\n",
              "      <td>[{\"iso_639_1\": \"fr\", \"name\": \"Fran\\u00e7ais\"}, {\"iso_639_1\": \"en\", \"name\": \"English\"}, {\"iso_639_1\": \"es\", \"name\": \"Espa\\u00f1ol\"}, {\"iso_639_1\": \"it\", \"name\": \"Italiano\"}, {\"iso_639_1\": \"de\", \"name\": \"Deutsch\"}]</td>\n",
              "      <td>Released</td>\n",
              "      <td>A Plan No One Escapes</td>\n",
              "      <td>Spectre</td>\n",
              "      <td>6.30</td>\n",
              "      <td>4466</td>\n",
              "    </tr>\n",
              "    <tr>\n",
              "      <th>3</th>\n",
              "      <td>250000000</td>\n",
              "      <td>[{\"id\": 28, \"name\": \"Action\"}, {\"id\": 80, \"name\": \"Crime\"}, {\"id\": 18, \"name\": \"Drama\"}, {\"id\": 53, \"name\": \"Thriller\"}]</td>\n",
              "      <td>http://www.thedarkknightrises.com/</td>\n",
              "      <td>49026</td>\n",
              "      <td>[{\"id\": 849, \"name\": \"dc comics\"}, {\"id\": 853, \"name\": \"crime fighter\"}, {\"id\": 949, \"name\": \"terrorist\"}, {\"id\": 1308, \"name\": \"secret identity\"}, {\"id\": 1437, \"name\": \"burglar\"}, {\"id\": 3051, \"name\": \"hostage drama\"}, {\"id\": 3562, \"name\": \"time bomb\"}, {\"id\": 6969, \"name\": \"gotham city\"}, {\"id\": 7002, \"name\": \"vigilante\"}, {\"id\": 9665, \"name\": \"cover-up\"}, {\"id\": 9715, \"name\": \"superhero\"}, {\"id\": 9990, \"name\": \"villainess\"}, {\"id\": 10044, \"name\": \"tragic hero\"}, {\"id\": 13015, \"name\": \"terrorism\"}, {\"id\": 14796, \"name\": \"destruction\"}, {\"id\": 18933, \"name\": \"catwoman\"}, {\"id\": 156082, \"name\": \"cat burglar\"}, {\"id\": 156395, \"name\": \"imax\"}, {\"id\": 173272, \"name\": \"flood\"}, {\"id\": 179093, \"name\": \"criminal underworld\"}, {\"id\": 230775, \"name\": \"batman\"}]</td>\n",
              "      <td>en</td>\n",
              "      <td>The Dark Knight Rises</td>\n",
              "      <td>Following the death of District Attorney Harvey Dent, Batman assumes responsibility for Dent's crimes to protect the late attorney's reputation and is subsequently hunted by the Gotham City Police Department. Eight years later, Batman encounters the mysterious Selina Kyle and the villainous Bane, a new terrorist leader who overwhelms Gotham's finest. The Dark Knight resurfaces to protect a city that has branded him an enemy.</td>\n",
              "      <td>112.31</td>\n",
              "      <td>[{\"name\": \"Legendary Pictures\", \"id\": 923}, {\"name\": \"Warner Bros.\", \"id\": 6194}, {\"name\": \"DC Entertainment\", \"id\": 9993}, {\"name\": \"Syncopy\", \"id\": 9996}]</td>\n",
              "      <td>[{\"iso_3166_1\": \"US\", \"name\": \"United States of America\"}]</td>\n",
              "      <td>2012-07-16</td>\n",
              "      <td>1084939099</td>\n",
              "      <td>165.00</td>\n",
              "      <td>[{\"iso_639_1\": \"en\", \"name\": \"English\"}]</td>\n",
              "      <td>Released</td>\n",
              "      <td>The Legend Ends</td>\n",
              "      <td>The Dark Knight Rises</td>\n",
              "      <td>7.60</td>\n",
              "      <td>9106</td>\n",
              "    </tr>\n",
              "    <tr>\n",
              "      <th>4</th>\n",
              "      <td>260000000</td>\n",
              "      <td>[{\"id\": 28, \"name\": \"Action\"}, {\"id\": 12, \"name\": \"Adventure\"}, {\"id\": 878, \"name\": \"Science Fiction\"}]</td>\n",
              "      <td>http://movies.disney.com/john-carter</td>\n",
              "      <td>49529</td>\n",
              "      <td>[{\"id\": 818, \"name\": \"based on novel\"}, {\"id\": 839, \"name\": \"mars\"}, {\"id\": 1456, \"name\": \"medallion\"}, {\"id\": 3801, \"name\": \"space travel\"}, {\"id\": 7376, \"name\": \"princess\"}, {\"id\": 9951, \"name\": \"alien\"}, {\"id\": 10028, \"name\": \"steampunk\"}, {\"id\": 10539, \"name\": \"martian\"}, {\"id\": 10685, \"name\": \"escape\"}, {\"id\": 161511, \"name\": \"edgar rice burroughs\"}, {\"id\": 163252, \"name\": \"alien race\"}, {\"id\": 179102, \"name\": \"superhuman strength\"}, {\"id\": 190320, \"name\": \"mars civilization\"}, {\"id\": 195446, \"name\": \"sword and planet\"}, {\"id\": 207928, \"name\": \"19th century\"}, {\"id\": 209714, \"name\": \"3d\"}]</td>\n",
              "      <td>en</td>\n",
              "      <td>John Carter</td>\n",
              "      <td>John Carter is a war-weary, former military captain who's inexplicably transported to the mysterious and exotic planet of Barsoom (Mars) and reluctantly becomes embroiled in an epic conflict. It's a world on the brink of collapse, and Carter rediscovers his humanity when he realizes the survival of Barsoom and its people rests in his hands.</td>\n",
              "      <td>43.93</td>\n",
              "      <td>[{\"name\": \"Walt Disney Pictures\", \"id\": 2}]</td>\n",
              "      <td>[{\"iso_3166_1\": \"US\", \"name\": \"United States of America\"}]</td>\n",
              "      <td>2012-03-07</td>\n",
              "      <td>284139100</td>\n",
              "      <td>132.00</td>\n",
              "      <td>[{\"iso_639_1\": \"en\", \"name\": \"English\"}]</td>\n",
              "      <td>Released</td>\n",
              "      <td>Lost in our world, found in another.</td>\n",
              "      <td>John Carter</td>\n",
              "      <td>6.10</td>\n",
              "      <td>2124</td>\n",
              "    </tr>\n",
              "  </tbody>\n",
              "</table>\n",
              "</div>"
            ],
            "text/plain": [
              "      budget  ... vote_count\n",
              "0  237000000  ...      11800\n",
              "1  300000000  ...       4500\n",
              "2  245000000  ...       4466\n",
              "3  250000000  ...       9106\n",
              "4  260000000  ...       2124\n",
              "\n",
              "[5 rows x 20 columns]"
            ]
          },
          "metadata": {
            "tags": []
          },
          "execution_count": 13
        }
      ]
    },
    {
      "cell_type": "markdown",
      "metadata": {
        "id": "L-nD5Gh1G-A-"
      },
      "source": [
        "### Dropping unused movie columns"
      ]
    },
    {
      "cell_type": "code",
      "metadata": {
        "id": "cb-uc_i3HA54"
      },
      "source": [
        "movies = movies.drop(columns=['genres', 'homepage', 'id', 'original_language', 'production_countries'])"
      ],
      "execution_count": null,
      "outputs": []
    },
    {
      "cell_type": "code",
      "metadata": {
        "id": "h6yilouUe5Gz",
        "outputId": "9fce065a-d082-46f9-8669-6ad879778f66",
        "colab": {
          "base_uri": "https://localhost:8080/",
          "height": 353
        }
      },
      "source": [
        "movies.info()"
      ],
      "execution_count": null,
      "outputs": [
        {
          "output_type": "stream",
          "text": [
            "<class 'pandas.core.frame.DataFrame'>\n",
            "RangeIndex: 4803 entries, 0 to 4802\n",
            "Data columns (total 15 columns):\n",
            "budget                  4803 non-null int64\n",
            "keywords                4803 non-null object\n",
            "original_title          4803 non-null object\n",
            "overview                4800 non-null object\n",
            "popularity              4803 non-null float64\n",
            "production_companies    4803 non-null object\n",
            "release_date            4802 non-null object\n",
            "revenue                 4803 non-null int64\n",
            "runtime                 4801 non-null float64\n",
            "spoken_languages        4803 non-null object\n",
            "status                  4803 non-null object\n",
            "tagline                 3959 non-null object\n",
            "title                   4803 non-null object\n",
            "vote_average            4803 non-null float64\n",
            "vote_count              4803 non-null int64\n",
            "dtypes: float64(3), int64(3), object(9)\n",
            "memory usage: 563.0+ KB\n"
          ],
          "name": "stdout"
        }
      ]
    },
    {
      "cell_type": "code",
      "metadata": {
        "id": "LMfbcirUfHiu",
        "outputId": "560e3fff-d800-4714-a36d-a93e1a98483e",
        "colab": {
          "base_uri": "https://localhost:8080/",
          "height": 225
        }
      },
      "source": [
        "movies.describe().T"
      ],
      "execution_count": null,
      "outputs": [
        {
          "output_type": "execute_result",
          "data": {
            "text/html": [
              "<div>\n",
              "<style scoped>\n",
              "    .dataframe tbody tr th:only-of-type {\n",
              "        vertical-align: middle;\n",
              "    }\n",
              "\n",
              "    .dataframe tbody tr th {\n",
              "        vertical-align: top;\n",
              "    }\n",
              "\n",
              "    .dataframe thead th {\n",
              "        text-align: right;\n",
              "    }\n",
              "</style>\n",
              "<table border=\"1\" class=\"dataframe\">\n",
              "  <thead>\n",
              "    <tr style=\"text-align: right;\">\n",
              "      <th></th>\n",
              "      <th>count</th>\n",
              "      <th>mean</th>\n",
              "      <th>std</th>\n",
              "      <th>min</th>\n",
              "      <th>25%</th>\n",
              "      <th>50%</th>\n",
              "      <th>75%</th>\n",
              "      <th>max</th>\n",
              "    </tr>\n",
              "  </thead>\n",
              "  <tbody>\n",
              "    <tr>\n",
              "      <th>budget</th>\n",
              "      <td>4803.00</td>\n",
              "      <td>29045039.88</td>\n",
              "      <td>40722391.26</td>\n",
              "      <td>0.00</td>\n",
              "      <td>790000.00</td>\n",
              "      <td>15000000.00</td>\n",
              "      <td>40000000.00</td>\n",
              "      <td>380000000.00</td>\n",
              "    </tr>\n",
              "    <tr>\n",
              "      <th>popularity</th>\n",
              "      <td>4803.00</td>\n",
              "      <td>21.49</td>\n",
              "      <td>31.82</td>\n",
              "      <td>0.00</td>\n",
              "      <td>4.67</td>\n",
              "      <td>12.92</td>\n",
              "      <td>28.31</td>\n",
              "      <td>875.58</td>\n",
              "    </tr>\n",
              "    <tr>\n",
              "      <th>revenue</th>\n",
              "      <td>4803.00</td>\n",
              "      <td>82260638.65</td>\n",
              "      <td>162857100.94</td>\n",
              "      <td>0.00</td>\n",
              "      <td>0.00</td>\n",
              "      <td>19170001.00</td>\n",
              "      <td>92917187.00</td>\n",
              "      <td>2787965087.00</td>\n",
              "    </tr>\n",
              "    <tr>\n",
              "      <th>runtime</th>\n",
              "      <td>4801.00</td>\n",
              "      <td>106.88</td>\n",
              "      <td>22.61</td>\n",
              "      <td>0.00</td>\n",
              "      <td>94.00</td>\n",
              "      <td>103.00</td>\n",
              "      <td>118.00</td>\n",
              "      <td>338.00</td>\n",
              "    </tr>\n",
              "    <tr>\n",
              "      <th>vote_average</th>\n",
              "      <td>4803.00</td>\n",
              "      <td>6.09</td>\n",
              "      <td>1.19</td>\n",
              "      <td>0.00</td>\n",
              "      <td>5.60</td>\n",
              "      <td>6.20</td>\n",
              "      <td>6.80</td>\n",
              "      <td>10.00</td>\n",
              "    </tr>\n",
              "    <tr>\n",
              "      <th>vote_count</th>\n",
              "      <td>4803.00</td>\n",
              "      <td>690.22</td>\n",
              "      <td>1234.59</td>\n",
              "      <td>0.00</td>\n",
              "      <td>54.00</td>\n",
              "      <td>235.00</td>\n",
              "      <td>737.00</td>\n",
              "      <td>13752.00</td>\n",
              "    </tr>\n",
              "  </tbody>\n",
              "</table>\n",
              "</div>"
            ],
            "text/plain": [
              "               count        mean  ...         75%           max\n",
              "budget       4803.00 29045039.88  ... 40000000.00  380000000.00\n",
              "popularity   4803.00       21.49  ...       28.31        875.58\n",
              "revenue      4803.00 82260638.65  ... 92917187.00 2787965087.00\n",
              "runtime      4801.00      106.88  ...      118.00        338.00\n",
              "vote_average 4803.00        6.09  ...        6.80         10.00\n",
              "vote_count   4803.00      690.22  ...      737.00      13752.00\n",
              "\n",
              "[6 rows x 8 columns]"
            ]
          },
          "metadata": {
            "tags": []
          },
          "execution_count": 16
        }
      ]
    },
    {
      "cell_type": "markdown",
      "metadata": {
        "id": "I2Nnj0KuWlPy"
      },
      "source": [
        "## Overview of data transformations and merge\n",
        "\n",
        "A significant goal of this project is to perform transformations on and merge the dataset. The final result we want is a single dataframe, whose entries are Things which are both a book and a movie, and the corresponding information for each of those.\n",
        "\n",
        "####Failed Attempts/Techniques:\n",
        "\n",
        "\n",
        "\n",
        "**Naive merge with Pandas**\n",
        "\n",
        "\n",
        "\n",
        "```\n",
        "pd.merge(books, movies)\n",
        "```\n",
        "\n",
        "\n",
        "\n",
        "The Pandas library provides a built in merge function, which uses relational database-like joins to combine datasets. If you give these two datasets, unmodified, to this method, it will find the shared column 'title', and merge all entries which have the same title.\n",
        "\n",
        "There are two major problems from this:\n",
        "\n",
        "1.   It only matches titles which are exactly the same.\n",
        "2.   A book and movie might have the same title, but be different things.\n",
        "\n",
        "\n",
        "**Using metadata to merge**\n",
        "\n",
        "A potential solution which avoids these problems is to merge on some other data. The movie dataset in particular has a lot of information in the **overview** and **keywords** columns. If a movie directly mentioned the title of a book in these areas, or mentioned the author of the book in the credits, we could potentially use that information to match with the book. This method had limited success because entries had inconsistent amount of data. Some movies mentioned the books they were based on, some didn't.\n",
        "\n",
        "However, this method was accurate enough for this dataset to be turned into a **verify()** function which checked whether a book/movie pair were actually the same thing, **solving problem 2**.\n",
        "\n",
        "**Partial String Matching with Fuzzywuzzy to solve problem 1**\n",
        "\n",
        "With any data entry, it is common for entries to have slight variations. The goodreads dataset shows a lot of this, with different editions and versions of the same book. For example, the most common versions of the Harry Potter novels have the form 'Harry Potter and the Sorcerers Stone (Harry Potter #1)'. This title would not match with the movie entry, which does not have the trailing part in parentheses. What we want then is to see if a title is at least xx% the same, to account for these differences.\n",
        "\n",
        "One way to do this is to calculate the Levenshtein distance, described in more detail [here](https://en.wikipedia.org/wiki/Levenshtein_distance). One Python library which implements this is Fuzzywuzzy.\n",
        "\n",
        "\n"
      ]
    },
    {
      "cell_type": "markdown",
      "metadata": {
        "id": "VX8nGX-5hFW5"
      },
      "source": [
        "# Exploratory Analysis\n",
        "\n",
        "This section explores the datasets indivually with simple research questions and visualizations.\n"
      ]
    },
    {
      "cell_type": "markdown",
      "metadata": {
        "id": "Yl70S8rEZnta"
      },
      "source": [
        "### What authors have published the most books?"
      ]
    },
    {
      "cell_type": "code",
      "metadata": {
        "id": "w5c54ZSmYS0Q",
        "outputId": "71bdc643-3a6a-4d37-de51-9fc2d3a1d6f3",
        "colab": {
          "base_uri": "https://localhost:8080/",
          "height": 343
        }
      },
      "source": [
        "most_published_authors = books['authors'].value_counts()[:10]\n",
        "mostcounts = most_published_authors.reset_index()\n",
        "mostcounts\n"
      ],
      "execution_count": null,
      "outputs": [
        {
          "output_type": "execute_result",
          "data": {
            "text/html": [
              "<div>\n",
              "<style scoped>\n",
              "    .dataframe tbody tr th:only-of-type {\n",
              "        vertical-align: middle;\n",
              "    }\n",
              "\n",
              "    .dataframe tbody tr th {\n",
              "        vertical-align: top;\n",
              "    }\n",
              "\n",
              "    .dataframe thead th {\n",
              "        text-align: right;\n",
              "    }\n",
              "</style>\n",
              "<table border=\"1\" class=\"dataframe\">\n",
              "  <thead>\n",
              "    <tr style=\"text-align: right;\">\n",
              "      <th></th>\n",
              "      <th>index</th>\n",
              "      <th>authors</th>\n",
              "    </tr>\n",
              "  </thead>\n",
              "  <tbody>\n",
              "    <tr>\n",
              "      <th>0</th>\n",
              "      <td>Agatha Christie</td>\n",
              "      <td>69</td>\n",
              "    </tr>\n",
              "    <tr>\n",
              "      <th>1</th>\n",
              "      <td>Stephen King</td>\n",
              "      <td>66</td>\n",
              "    </tr>\n",
              "    <tr>\n",
              "      <th>2</th>\n",
              "      <td>Orson Scott Card</td>\n",
              "      <td>48</td>\n",
              "    </tr>\n",
              "    <tr>\n",
              "      <th>3</th>\n",
              "      <td>Rumiko Takahashi</td>\n",
              "      <td>46</td>\n",
              "    </tr>\n",
              "    <tr>\n",
              "      <th>4</th>\n",
              "      <td>P.G. Wodehouse</td>\n",
              "      <td>42</td>\n",
              "    </tr>\n",
              "    <tr>\n",
              "      <th>5</th>\n",
              "      <td>Terry Brooks</td>\n",
              "      <td>40</td>\n",
              "    </tr>\n",
              "    <tr>\n",
              "      <th>6</th>\n",
              "      <td>Piers Anthony</td>\n",
              "      <td>34</td>\n",
              "    </tr>\n",
              "    <tr>\n",
              "      <th>7</th>\n",
              "      <td>Margaret Weis-Tracy Hickman</td>\n",
              "      <td>33</td>\n",
              "    </tr>\n",
              "    <tr>\n",
              "      <th>8</th>\n",
              "      <td>Dan Simmons</td>\n",
              "      <td>32</td>\n",
              "    </tr>\n",
              "    <tr>\n",
              "      <th>9</th>\n",
              "      <td>Gabriel García Márquez</td>\n",
              "      <td>31</td>\n",
              "    </tr>\n",
              "  </tbody>\n",
              "</table>\n",
              "</div>"
            ],
            "text/plain": [
              "                         index  authors\n",
              "0              Agatha Christie       69\n",
              "1                 Stephen King       66\n",
              "2             Orson Scott Card       48\n",
              "3             Rumiko Takahashi       46\n",
              "4               P.G. Wodehouse       42\n",
              "5                 Terry Brooks       40\n",
              "6                Piers Anthony       34\n",
              "7  Margaret Weis-Tracy Hickman       33\n",
              "8                  Dan Simmons       32\n",
              "9       Gabriel García Márquez       31"
            ]
          },
          "metadata": {
            "tags": []
          },
          "execution_count": 17
        }
      ]
    },
    {
      "cell_type": "code",
      "metadata": {
        "id": "sAKjC8-UZRIt",
        "outputId": "e9e02dd5-2768-4981-8169-6f3ed73b5d90",
        "colab": {
          "base_uri": "https://localhost:8080/",
          "height": 374
        }
      },
      "source": [
        "authorplot = sns.barplot(x = 'index',y='authors', data=mostcounts, palette=\"pastel\")\n",
        "authorplot.set_xticklabels(authorplot.get_xticklabels(), rotation=40, ha=\"right\")\n",
        "authorplot.set(xlabel='Author', ylabel='Frequency')\n",
        "plt.show()"
      ],
      "execution_count": null,
      "outputs": [
        {
          "output_type": "display_data",
          "data": {
            "image/png": "[encoded data removed]",
            "text/plain": [
              "<Figure size 432x288 with 1 Axes>"
            ]
          },
          "metadata": {
            "tags": []
          }
        }
      ]
    },
    {
      "cell_type": "markdown",
      "metadata": {
        "id": "ml81FGXKZxDQ"
      },
      "source": [
        "### What are the highest rated books?"
      ]
    },
    {
      "cell_type": "code",
      "metadata": {
        "id": "WFl4RqP7Zz8i",
        "outputId": "9468bc6a-a712-4608-8ea6-68406280b0e3",
        "colab": {
          "base_uri": "https://localhost:8080/",
          "height": 676
        }
      },
      "source": [
        "# Do with groupby?\n",
        "\n",
        "highest_rated_all = books.sort_values('average_rating', ascending=False)[:15]\n",
        "highest_rated_books = highest_rated_all[['title', 'authors', 'average_rating', 'ratings_count', 'text_reviews_count']]\n",
        "highest_rated_books\n"
      ],
      "execution_count": null,
      "outputs": [
        {
          "output_type": "execute_result",
          "data": {
            "text/html": [
              "<div>\n",
              "<style scoped>\n",
              "    .dataframe tbody tr th:only-of-type {\n",
              "        vertical-align: middle;\n",
              "    }\n",
              "\n",
              "    .dataframe tbody tr th {\n",
              "        vertical-align: top;\n",
              "    }\n",
              "\n",
              "    .dataframe thead th {\n",
              "        text-align: right;\n",
              "    }\n",
              "</style>\n",
              "<table border=\"1\" class=\"dataframe\">\n",
              "  <thead>\n",
              "    <tr style=\"text-align: right;\">\n",
              "      <th></th>\n",
              "      <th>title</th>\n",
              "      <th>authors</th>\n",
              "      <th>average_rating</th>\n",
              "      <th>ratings_count</th>\n",
              "      <th>text_reviews_count</th>\n",
              "    </tr>\n",
              "  </thead>\n",
              "  <tbody>\n",
              "    <tr>\n",
              "      <th>6077</th>\n",
              "      <td>The Complete Theory Fun Factory: Music Theory Puzzles and Games for the Early Grades</td>\n",
              "      <td>Ian        Martin-Katie Elliott</td>\n",
              "      <td>5.00</td>\n",
              "      <td>1</td>\n",
              "      <td>0</td>\n",
              "    </tr>\n",
              "    <tr>\n",
              "      <th>4939</th>\n",
              "      <td>Zone of the Enders: The 2nd Runner Official Strategy Guide</td>\n",
              "      <td>Tim Bogenn</td>\n",
              "      <td>5.00</td>\n",
              "      <td>2</td>\n",
              "      <td>0</td>\n",
              "    </tr>\n",
              "    <tr>\n",
              "      <th>963</th>\n",
              "      <td>Literature Circle Guide: Bridge to Terabithia: Everything You Need For Successful Literature Circles That Get Kids Thinking  Talking  Writing—and Loving Literature</td>\n",
              "      <td>Tara MacCarthy</td>\n",
              "      <td>5.00</td>\n",
              "      <td>4</td>\n",
              "      <td>1</td>\n",
              "    </tr>\n",
              "    <tr>\n",
              "      <th>7506</th>\n",
              "      <td>The New Big Book of America</td>\n",
              "      <td>Todd Davis-Marc Frey</td>\n",
              "      <td>5.00</td>\n",
              "      <td>2</td>\n",
              "      <td>1</td>\n",
              "    </tr>\n",
              "    <tr>\n",
              "      <th>11067</th>\n",
              "      <td>Bubbles in the Middle (The Powerpuff Girls Plus You Club  #16)</td>\n",
              "      <td>Aaron Rosenberg-Christopher Cook</td>\n",
              "      <td>5.00</td>\n",
              "      <td>5</td>\n",
              "      <td>0</td>\n",
              "    </tr>\n",
              "    <tr>\n",
              "      <th>13050</th>\n",
              "      <td>Ecuador Nature Guide: Southwest Forests:  Sozoranga Forest Project</td>\n",
              "      <td>Chris Jiggins-Pablo Andrade-Eduardo Cueva</td>\n",
              "      <td>5.00</td>\n",
              "      <td>1</td>\n",
              "      <td>0</td>\n",
              "    </tr>\n",
              "    <tr>\n",
              "      <th>879</th>\n",
              "      <td>Willem de Kooning: Late Paintings</td>\n",
              "      <td>Julie Sylvester-David Sylvester</td>\n",
              "      <td>5.00</td>\n",
              "      <td>1</td>\n",
              "      <td>0</td>\n",
              "    </tr>\n",
              "    <tr>\n",
              "      <th>7434</th>\n",
              "      <td>Taxation of Mineral Rents</td>\n",
              "      <td>Ross Garnaut</td>\n",
              "      <td>5.00</td>\n",
              "      <td>1</td>\n",
              "      <td>0</td>\n",
              "    </tr>\n",
              "    <tr>\n",
              "      <th>11542</th>\n",
              "      <td>The Irish Anatomist: A Study of Flann O'Brien</td>\n",
              "      <td>Keith Donohue</td>\n",
              "      <td>5.00</td>\n",
              "      <td>1</td>\n",
              "      <td>0</td>\n",
              "    </tr>\n",
              "    <tr>\n",
              "      <th>8146</th>\n",
              "      <td>Delwau Duon: Peintiadau Nicholas Evans = Symphonies in Black: The Paintings of Nicholas Evans</td>\n",
              "      <td>Nicholas    Evans-Rhonda  Evans</td>\n",
              "      <td>5.00</td>\n",
              "      <td>1</td>\n",
              "      <td>0</td>\n",
              "    </tr>\n",
              "    <tr>\n",
              "      <th>2988</th>\n",
              "      <td>Insights: Talks On The Nature Of Existence</td>\n",
              "      <td>Frederick P. Lenz</td>\n",
              "      <td>5.00</td>\n",
              "      <td>1</td>\n",
              "      <td>0</td>\n",
              "    </tr>\n",
              "    <tr>\n",
              "      <th>705</th>\n",
              "      <td>Comoediae 1: Acharenses/Equites/Nubes/Vespae/Pax/Aves</td>\n",
              "      <td>Aristophanes-F.W. Hall-W.M. Geldart</td>\n",
              "      <td>5.00</td>\n",
              "      <td>0</td>\n",
              "      <td>0</td>\n",
              "    </tr>\n",
              "    <tr>\n",
              "      <th>5786</th>\n",
              "      <td>The Diamond Color Meditation: Color Path to the Soul</td>\n",
              "      <td>John  Diamond</td>\n",
              "      <td>5.00</td>\n",
              "      <td>5</td>\n",
              "      <td>3</td>\n",
              "    </tr>\n",
              "    <tr>\n",
              "      <th>13568</th>\n",
              "      <td>Lectures d'une oeuvre: The Handmaid's tale de Margaret Atwood</td>\n",
              "      <td>Jean-Paul Gabilliet-François Gallix-Janice Fiamengo-Raphaelle Costa de Beauregard-Priscilla Morin-Ollier</td>\n",
              "      <td>5.00</td>\n",
              "      <td>2</td>\n",
              "      <td>0</td>\n",
              "    </tr>\n",
              "    <tr>\n",
              "      <th>11674</th>\n",
              "      <td>The American Campaign: U.S. Presidential Campaigns and the National Vote</td>\n",
              "      <td>James E. Campbell</td>\n",
              "      <td>5.00</td>\n",
              "      <td>0</td>\n",
              "      <td>0</td>\n",
              "    </tr>\n",
              "  </tbody>\n",
              "</table>\n",
              "</div>"
            ],
            "text/plain": [
              "                                                                                                                                                                     title  ... text_reviews_count\n",
              "6077                                                                                  The Complete Theory Fun Factory: Music Theory Puzzles and Games for the Early Grades  ...                  0\n",
              "4939                                                                                                            Zone of the Enders: The 2nd Runner Official Strategy Guide  ...                  0\n",
              "963    Literature Circle Guide: Bridge to Terabithia: Everything You Need For Successful Literature Circles That Get Kids Thinking  Talking  Writing—and Loving Literature  ...                  1\n",
              "7506                                                                                                                                           The New Big Book of America  ...                  1\n",
              "11067                                                                                                       Bubbles in the Middle (The Powerpuff Girls Plus You Club  #16)  ...                  0\n",
              "13050                                                                                                   Ecuador Nature Guide: Southwest Forests:  Sozoranga Forest Project  ...                  0\n",
              "879                                                                                                                                      Willem de Kooning: Late Paintings  ...                  0\n",
              "7434                                                                                                                                             Taxation of Mineral Rents  ...                  0\n",
              "11542                                                                                                                        The Irish Anatomist: A Study of Flann O'Brien  ...                  0\n",
              "8146                                                                         Delwau Duon: Peintiadau Nicholas Evans = Symphonies in Black: The Paintings of Nicholas Evans  ...                  0\n",
              "2988                                                                                                                            Insights: Talks On The Nature Of Existence  ...                  0\n",
              "705                                                                                                                  Comoediae 1: Acharenses/Equites/Nubes/Vespae/Pax/Aves  ...                  0\n",
              "5786                                                                                                                  The Diamond Color Meditation: Color Path to the Soul  ...                  3\n",
              "13568                                                                                                        Lectures d'une oeuvre: The Handmaid's tale de Margaret Atwood  ...                  0\n",
              "11674                                                                                             The American Campaign: U.S. Presidential Campaigns and the National Vote  ...                  0\n",
              "\n",
              "[15 rows x 5 columns]"
            ]
          },
          "metadata": {
            "tags": []
          },
          "execution_count": 19
        }
      ]
    },
    {
      "cell_type": "markdown",
      "metadata": {
        "id": "vEMO-kLiFtdl"
      },
      "source": [
        "The above cell showed an important detail, that not all entries have the same amount of reviews\n",
        "\n",
        "Let's see what the highest rated books with at least 100 reviews are"
      ]
    },
    {
      "cell_type": "code",
      "metadata": {
        "id": "h_D-P8DjF7f4",
        "outputId": "f1896580-c088-48ab-eaef-24eeb800dbeb",
        "colab": {
          "base_uri": "https://localhost:8080/",
          "height": 47
        }
      },
      "source": [
        "highest_with_hundred = highest_rated_all[highest_rated_all['ratings_count'] >= 100][:10]\n",
        "highest_with_hundred = highest_with_hundred[['title', 'authors', 'average_rating', 'ratings_count']]\n",
        "\n",
        "fave_cols = highest_with_hundred[['title', 'average_rating']]\n",
        "\n",
        "highest_with_hundred"
      ],
      "execution_count": null,
      "outputs": [
        {
          "output_type": "execute_result",
          "data": {
            "text/html": [
              "<div>\n",
              "<style scoped>\n",
              "    .dataframe tbody tr th:only-of-type {\n",
              "        vertical-align: middle;\n",
              "    }\n",
              "\n",
              "    .dataframe tbody tr th {\n",
              "        vertical-align: top;\n",
              "    }\n",
              "\n",
              "    .dataframe thead th {\n",
              "        text-align: right;\n",
              "    }\n",
              "</style>\n",
              "<table border=\"1\" class=\"dataframe\">\n",
              "  <thead>\n",
              "    <tr style=\"text-align: right;\">\n",
              "      <th></th>\n",
              "      <th>title</th>\n",
              "      <th>authors</th>\n",
              "      <th>average_rating</th>\n",
              "      <th>ratings_count</th>\n",
              "    </tr>\n",
              "  </thead>\n",
              "  <tbody>\n",
              "  </tbody>\n",
              "</table>\n",
              "</div>"
            ],
            "text/plain": [
              "Empty DataFrame\n",
              "Columns: [title, authors, average_rating, ratings_count]\n",
              "Index: []"
            ]
          },
          "metadata": {
            "tags": []
          },
          "execution_count": 20
        }
      ]
    },
    {
      "cell_type": "markdown",
      "metadata": {
        "id": "6g9dkpBrG_lE"
      },
      "source": [
        "**The world really likes Calvin and Hobbes**"
      ]
    },
    {
      "cell_type": "code",
      "metadata": {
        "id": "ZuNm7UTDHtDM",
        "outputId": "5f017430-07ab-4d9a-f45d-8416662ec043",
        "colab": {
          "base_uri": "https://localhost:8080/",
          "height": 54
        }
      },
      "source": [
        "\"\"\"\n",
        "favebookplot = sns.barplot(x = 'title',y='average_rating', data=fave_cols, palette=\"pastel\")\n",
        "favebookplot.set_xticklabels(favebookplot.get_xticklabels(), rotation=40, ha=\"right\")\n",
        "favebookplot.set(xlabel='Book', ylabel='Rating')\n",
        "plt.show()\n",
        "\"\"\""
      ],
      "execution_count": null,
      "outputs": [
        {
          "output_type": "execute_result",
          "data": {
            "text/plain": [
              "'\\nfavebookplot = sns.barplot(x = \\'title\\',y=\\'average_rating\\', data=fave_cols, palette=\"pastel\")\\nfavebookplot.set_xticklabels(favebookplot.get_xticklabels(), rotation=40, ha=\"right\")\\nfavebookplot.set(xlabel=\\'Book\\', ylabel=\\'Rating\\')\\nplt.show()\\n'"
            ]
          },
          "metadata": {
            "tags": []
          },
          "execution_count": 21
        }
      ]
    },
    {
      "cell_type": "markdown",
      "metadata": {
        "id": "ihfV3TsjcBVf"
      },
      "source": [
        "### What are the highest budget movies?"
      ]
    },
    {
      "cell_type": "code",
      "metadata": {
        "id": "8t3xLAE6cE5H",
        "outputId": "e8e9848c-a174-436d-de53-914d650f5376",
        "colab": {
          "base_uri": "https://localhost:8080/",
          "height": 417
        }
      },
      "source": [
        "most_expensive_df = movies.sort_values('budget',ascending=False)[:10]\n",
        "\n",
        "most_expensive = most_expensive_df[['title', 'budget', 'revenue']]\n",
        "\n",
        "expensiveplot = sns.barplot(x = 'title',y='budget', data=most_expensive, palette=\"pastel\")\n",
        "expensiveplot.set_xticklabels(expensiveplot.get_xticklabels(), rotation=40, ha=\"right\")\n",
        "expensiveplot.set(xlabel='Movie', ylabel='Budget (in US dollars)')\n",
        "plt.ticklabel_format(style='plain', axis='y')\n",
        "plt.show()"
      ],
      "execution_count": null,
      "outputs": [
        {
          "output_type": "display_data",
          "data": {
            "image/png": "[encoded data removed]",
            "text/plain": [
              "<Figure size 432x288 with 1 Axes>"
            ]
          },
          "metadata": {
            "tags": []
          }
        }
      ]
    },
    {
      "cell_type": "code",
      "metadata": {
        "id": "6sLkrtLBIOWt",
        "outputId": "27489e7b-dc2f-4762-8d91-d4e693d3da4f",
        "colab": {
          "base_uri": "https://localhost:8080/",
          "height": 343
        }
      },
      "source": [
        "most_expensive"
      ],
      "execution_count": null,
      "outputs": [
        {
          "output_type": "execute_result",
          "data": {
            "text/html": [
              "<div>\n",
              "<style scoped>\n",
              "    .dataframe tbody tr th:only-of-type {\n",
              "        vertical-align: middle;\n",
              "    }\n",
              "\n",
              "    .dataframe tbody tr th {\n",
              "        vertical-align: top;\n",
              "    }\n",
              "\n",
              "    .dataframe thead th {\n",
              "        text-align: right;\n",
              "    }\n",
              "</style>\n",
              "<table border=\"1\" class=\"dataframe\">\n",
              "  <thead>\n",
              "    <tr style=\"text-align: right;\">\n",
              "      <th></th>\n",
              "      <th>title</th>\n",
              "      <th>budget</th>\n",
              "      <th>revenue</th>\n",
              "    </tr>\n",
              "  </thead>\n",
              "  <tbody>\n",
              "    <tr>\n",
              "      <th>17</th>\n",
              "      <td>Pirates of the Caribbean: On Stranger Tides</td>\n",
              "      <td>380000000</td>\n",
              "      <td>1045713802</td>\n",
              "    </tr>\n",
              "    <tr>\n",
              "      <th>1</th>\n",
              "      <td>Pirates of the Caribbean: At World's End</td>\n",
              "      <td>300000000</td>\n",
              "      <td>961000000</td>\n",
              "    </tr>\n",
              "    <tr>\n",
              "      <th>7</th>\n",
              "      <td>Avengers: Age of Ultron</td>\n",
              "      <td>280000000</td>\n",
              "      <td>1405403694</td>\n",
              "    </tr>\n",
              "    <tr>\n",
              "      <th>10</th>\n",
              "      <td>Superman Returns</td>\n",
              "      <td>270000000</td>\n",
              "      <td>391081192</td>\n",
              "    </tr>\n",
              "    <tr>\n",
              "      <th>4</th>\n",
              "      <td>John Carter</td>\n",
              "      <td>260000000</td>\n",
              "      <td>284139100</td>\n",
              "    </tr>\n",
              "    <tr>\n",
              "      <th>6</th>\n",
              "      <td>Tangled</td>\n",
              "      <td>260000000</td>\n",
              "      <td>591794936</td>\n",
              "    </tr>\n",
              "    <tr>\n",
              "      <th>5</th>\n",
              "      <td>Spider-Man 3</td>\n",
              "      <td>258000000</td>\n",
              "      <td>890871626</td>\n",
              "    </tr>\n",
              "    <tr>\n",
              "      <th>13</th>\n",
              "      <td>The Lone Ranger</td>\n",
              "      <td>255000000</td>\n",
              "      <td>89289910</td>\n",
              "    </tr>\n",
              "    <tr>\n",
              "      <th>46</th>\n",
              "      <td>X-Men: Days of Future Past</td>\n",
              "      <td>250000000</td>\n",
              "      <td>747862775</td>\n",
              "    </tr>\n",
              "    <tr>\n",
              "      <th>22</th>\n",
              "      <td>The Hobbit: The Desolation of Smaug</td>\n",
              "      <td>250000000</td>\n",
              "      <td>958400000</td>\n",
              "    </tr>\n",
              "  </tbody>\n",
              "</table>\n",
              "</div>"
            ],
            "text/plain": [
              "                                          title     budget     revenue\n",
              "17  Pirates of the Caribbean: On Stranger Tides  380000000  1045713802\n",
              "1      Pirates of the Caribbean: At World's End  300000000   961000000\n",
              "7                       Avengers: Age of Ultron  280000000  1405403694\n",
              "10                             Superman Returns  270000000   391081192\n",
              "4                                   John Carter  260000000   284139100\n",
              "6                                       Tangled  260000000   591794936\n",
              "5                                  Spider-Man 3  258000000   890871626\n",
              "13                              The Lone Ranger  255000000    89289910\n",
              "46                   X-Men: Days of Future Past  250000000   747862775\n",
              "22          The Hobbit: The Desolation of Smaug  250000000   958400000"
            ]
          },
          "metadata": {
            "tags": []
          },
          "execution_count": 23
        }
      ]
    },
    {
      "cell_type": "markdown",
      "metadata": {
        "id": "1GeqYl3-dwig"
      },
      "source": [
        "### What are the most popular movies?\n",
        "\n",
        "Using the TMDB popularity metric, which is not clearly defined anywhere.\n",
        "\n",
        "Per the TMDB documentation [here](https://developers.themoviedb.org/3/getting-started/popularity), it is some combination of:\n",
        "\n",
        "\n",
        "Number of votes for the day\n",
        "\n",
        "Number of views for the day\n",
        "\n",
        "Number of users who marked it as a \"favourite\" for the day\n",
        "\n",
        "Number of users who added it to their \"watchlist\" for the day\n",
        "\n",
        "Release date\n",
        "\n",
        "Number of total votes\n",
        "\n",
        "Previous days score"
      ]
    },
    {
      "cell_type": "code",
      "metadata": {
        "id": "WjDXMRxydzX9",
        "outputId": "691aa713-38ec-4ed1-a1c2-3398ae1603a6",
        "colab": {
          "base_uri": "https://localhost:8080/",
          "height": 343
        }
      },
      "source": [
        "most_popular_df = movies.sort_values('popularity',ascending=False)[:10]\n",
        "most_popular = most_popular_df[['title', 'popularity', 'release_date']]\n",
        "most_popular"
      ],
      "execution_count": null,
      "outputs": [
        {
          "output_type": "execute_result",
          "data": {
            "text/html": [
              "<div>\n",
              "<style scoped>\n",
              "    .dataframe tbody tr th:only-of-type {\n",
              "        vertical-align: middle;\n",
              "    }\n",
              "\n",
              "    .dataframe tbody tr th {\n",
              "        vertical-align: top;\n",
              "    }\n",
              "\n",
              "    .dataframe thead th {\n",
              "        text-align: right;\n",
              "    }\n",
              "</style>\n",
              "<table border=\"1\" class=\"dataframe\">\n",
              "  <thead>\n",
              "    <tr style=\"text-align: right;\">\n",
              "      <th></th>\n",
              "      <th>title</th>\n",
              "      <th>popularity</th>\n",
              "      <th>release_date</th>\n",
              "    </tr>\n",
              "  </thead>\n",
              "  <tbody>\n",
              "    <tr>\n",
              "      <th>546</th>\n",
              "      <td>Minions</td>\n",
              "      <td>875.58</td>\n",
              "      <td>2015-06-17</td>\n",
              "    </tr>\n",
              "    <tr>\n",
              "      <th>95</th>\n",
              "      <td>Interstellar</td>\n",
              "      <td>724.25</td>\n",
              "      <td>2014-11-05</td>\n",
              "    </tr>\n",
              "    <tr>\n",
              "      <th>788</th>\n",
              "      <td>Deadpool</td>\n",
              "      <td>514.57</td>\n",
              "      <td>2016-02-09</td>\n",
              "    </tr>\n",
              "    <tr>\n",
              "      <th>94</th>\n",
              "      <td>Guardians of the Galaxy</td>\n",
              "      <td>481.10</td>\n",
              "      <td>2014-07-30</td>\n",
              "    </tr>\n",
              "    <tr>\n",
              "      <th>127</th>\n",
              "      <td>Mad Max: Fury Road</td>\n",
              "      <td>434.28</td>\n",
              "      <td>2015-05-13</td>\n",
              "    </tr>\n",
              "    <tr>\n",
              "      <th>28</th>\n",
              "      <td>Jurassic World</td>\n",
              "      <td>418.71</td>\n",
              "      <td>2015-06-09</td>\n",
              "    </tr>\n",
              "    <tr>\n",
              "      <th>199</th>\n",
              "      <td>Pirates of the Caribbean: The Curse of the Black Pearl</td>\n",
              "      <td>271.97</td>\n",
              "      <td>2003-07-09</td>\n",
              "    </tr>\n",
              "    <tr>\n",
              "      <th>82</th>\n",
              "      <td>Dawn of the Planet of the Apes</td>\n",
              "      <td>243.79</td>\n",
              "      <td>2014-06-26</td>\n",
              "    </tr>\n",
              "    <tr>\n",
              "      <th>200</th>\n",
              "      <td>The Hunger Games: Mockingjay - Part 1</td>\n",
              "      <td>206.23</td>\n",
              "      <td>2014-11-18</td>\n",
              "    </tr>\n",
              "    <tr>\n",
              "      <th>88</th>\n",
              "      <td>Big Hero 6</td>\n",
              "      <td>203.73</td>\n",
              "      <td>2014-10-24</td>\n",
              "    </tr>\n",
              "  </tbody>\n",
              "</table>\n",
              "</div>"
            ],
            "text/plain": [
              "                                                      title  ...  release_date\n",
              "546                                                 Minions  ...    2015-06-17\n",
              "95                                             Interstellar  ...    2014-11-05\n",
              "788                                                Deadpool  ...    2016-02-09\n",
              "94                                  Guardians of the Galaxy  ...    2014-07-30\n",
              "127                                      Mad Max: Fury Road  ...    2015-05-13\n",
              "28                                           Jurassic World  ...    2015-06-09\n",
              "199  Pirates of the Caribbean: The Curse of the Black Pearl  ...    2003-07-09\n",
              "82                           Dawn of the Planet of the Apes  ...    2014-06-26\n",
              "200                   The Hunger Games: Mockingjay - Part 1  ...    2014-11-18\n",
              "88                                               Big Hero 6  ...    2014-10-24\n",
              "\n",
              "[10 rows x 3 columns]"
            ]
          },
          "metadata": {
            "tags": []
          },
          "execution_count": 24
        }
      ]
    },
    {
      "cell_type": "markdown",
      "metadata": {
        "id": "yKQtPBPWWJ_E"
      },
      "source": [
        "# Transformations and merging"
      ]
    },
    {
      "cell_type": "markdown",
      "metadata": {
        "id": "18K7fWR-WSFp"
      },
      "source": [
        "## Partial String Matching"
      ]
    },
    {
      "cell_type": "markdown",
      "metadata": {
        "id": "tDlJ01AazlMr"
      },
      "source": [
        "#### **find_matches()**\n",
        "\n",
        "This function makes use of the fuzzywuzzy library to do partial string matching, and returns all strings at least xx% the same as the input string"
      ]
    },
    {
      "cell_type": "code",
      "metadata": {
        "id": "z_dU0prMLaBv"
      },
      "source": [
        "def find_matches(df, column, string_to_match, min_ratio):\n",
        "    # get a list of unique strings\n",
        "    strings = df[column].unique()\n",
        "\n",
        "    # get the top 10 closest matches to our input string\n",
        "    matches = fuzzywuzzy.process.extract(string_to_match, strings,\n",
        "                                         limit=10, scorer=fuzzywuzzy.fuzz.token_sort_ratio)\n",
        "    #print('matches', matches)\n",
        "\n",
        "    # only get matches with a ratio > min_ratio\n",
        "    close_matches = [matches[0] for matches in matches if matches[1] >= min_ratio]\n",
        "    #print('close_matches',close_matches)\n",
        "    return close_matches\n",
        "\n",
        "\n",
        "\n"
      ],
      "execution_count": null,
      "outputs": []
    },
    {
      "cell_type": "code",
      "metadata": {
        "id": "Twoq7_FCsueH"
      },
      "source": [
        "books_slice = books[0:3000].copy()\n",
        "movie_slice = movies[0:3000].copy()"
      ],
      "execution_count": null,
      "outputs": []
    },
    {
      "cell_type": "markdown",
      "metadata": {
        "id": "C7t57MI8z9wb"
      },
      "source": [
        "Generator below enumerates through all titles to find possible matches. This brute force approach takes ~ minutes for the full datasets."
      ]
    },
    {
      "cell_type": "code",
      "metadata": {
        "id": "kv11YQJTvh8C"
      },
      "source": [
        "\n",
        "matches_dict = {}\n",
        "# smaller_book_section works\n",
        "for i in books['title']:\n",
        "  tmp = find_matches(movies, column='title', string_to_match=str(i),min_ratio=70)\n",
        "  if tmp != []:\n",
        "    matches_dict[i] = tmp\n",
        "\n",
        "\n",
        "# takes ~11 minutes\n",
        "\n",
        "same_names = pd.DataFrame.from_dict(matches_dict, orient='index')\n",
        "same_names = same_names.reset_index()\n",
        "same_names = same_names[['index',0]]\n",
        "same_names.columns = ['Book', 'Movie']\n",
        "\n",
        "# Same names shows all of the book/movie title matches at an 80% threshold\n",
        "#same_names\n",
        "\n",
        ""
      ],
      "execution_count": null,
      "outputs": []
    },
    {
      "cell_type": "markdown",
      "metadata": {
        "id": "0fSTLY--0aFq"
      },
      "source": [
        "Previously we observed that there is a high likelyhood for one word titles to match, but not be the same thing. We do a second pass over one word titles, requiring a higher level of similarity to accept them as the same."
      ]
    },
    {
      "cell_type": "code",
      "metadata": {
        "id": "XYQaRu3BzlOa"
      },
      "source": [
        "\n",
        "one_word_titles = same_names[same_names['Book'].str.split().str.len() == 1]\n",
        "one_word_dict = {}\n",
        "for i in one_word_titles['Book']:\n",
        "  tmp = find_matches(one_word_titles, column='Movie', string_to_match=str(i),min_ratio=95)\n",
        "  if tmp != []:\n",
        "    one_word_dict[i] = tmp\n",
        "\n",
        "# one_word_dict shows all one word title book/movie matches at a 90% threshold\n",
        "one_word_dict\n",
        "one_word_df = pd.DataFrame.from_dict(one_word_dict, orient='index')\n",
        "one_word_df = one_word_df.reset_index()\n",
        "one_word_df\n",
        "\n",
        "\n",
        "one_word_df.columns = ['Book', 'Movie']\n",
        "#one_word_df\n"
      ],
      "execution_count": null,
      "outputs": []
    },
    {
      "cell_type": "code",
      "metadata": {
        "id": "9HM7nZcA02CT"
      },
      "source": [
        "# grab more than one word titles\n",
        "same_names_no_ones = same_names[same_names['Book'].str.split().str.len() > 1]\n",
        "\n",
        "# combine highly likely one-word titles and more than one word titles\n",
        "same_names_final = pd.concat([same_names_no_ones, one_word_df],sort=True).reset_index(drop=True)\n",
        "\n",
        "\n",
        "# *********\n",
        "# Final title matched dataframe\n",
        "#same_names_final\n",
        "\n"
      ],
      "execution_count": null,
      "outputs": []
    },
    {
      "cell_type": "code",
      "metadata": {
        "id": "lEs8aAysM33R"
      },
      "source": [
        "same_names_final = same_names_final.reset_index()\n"
      ],
      "execution_count": null,
      "outputs": []
    },
    {
      "cell_type": "markdown",
      "metadata": {
        "id": "Xitg4jlu1EA9"
      },
      "source": [
        "Our same_names_final dataframe contains our partially string matched titles. If we want to do a pandas merge, they still will not merge with the same title. The easiest way to fix this is to simply set one of the titles to the other, so they are consistent"
      ]
    },
    {
      "cell_type": "code",
      "metadata": {
        "id": "K6bACRfCqlpo"
      },
      "source": [
        "#same_names_final\n",
        "for i in same_names_final['Book']:\n",
        "  movie = same_names_final[same_names_final['Book'] == i]['Movie'].iloc[0]\n",
        "\n",
        "  books.loc[books['title'] == i, 'title'] = movie\n",
        "  same_names_final.loc[same_names_final['Movie']== movie, 'Book'] = movie\n"
      ],
      "execution_count": null,
      "outputs": []
    },
    {
      "cell_type": "code",
      "metadata": {
        "id": "Wyxgp1pp1OWh"
      },
      "source": [
        "book_to_list = same_names_final['Book'].tolist()\n",
        "movie_to_list = same_names_final['Movie'].tolist()\n",
        "\n",
        "get_matched_books = books[books['title'].isin(book_to_list)]\n",
        "get_matched_movies = movies[movies['title'].isin(movie_to_list)]\n",
        "\n",
        "\n",
        "\n"
      ],
      "execution_count": null,
      "outputs": []
    },
    {
      "cell_type": "code",
      "metadata": {
        "id": "B2GYbJx7q9Xs",
        "colab": {
          "base_uri": "https://localhost:8080/",
          "height": 34
        },
        "outputId": "65aba5e1-29ab-4786-e6d3-27a14a7258b8"
      },
      "source": [
        "# potentially unnecessary sorting step\n",
        "get_matched_movies.sort_values(by='title')\n",
        "get_matched_books.sort_values(by='title')\n",
        ";"
      ],
      "execution_count": null,
      "outputs": [
        {
          "output_type": "execute_result",
          "data": {
            "text/plain": [
              "''"
            ]
          },
          "metadata": {
            "tags": []
          },
          "execution_count": 33
        }
      ]
    },
    {
      "cell_type": "markdown",
      "metadata": {
        "id": "tmKm_av1pT5H"
      },
      "source": [
        "### Merge String-matched Titles"
      ]
    },
    {
      "cell_type": "code",
      "metadata": {
        "id": "IqCsjmc9-w2Q"
      },
      "source": [
        "df = pd.merge(get_matched_books,get_matched_movies)\n",
        "\n"
      ],
      "execution_count": null,
      "outputs": []
    },
    {
      "cell_type": "code",
      "metadata": {
        "id": "ByHgIv-Q0nHB",
        "colab": {
          "base_uri": "https://localhost:8080/",
          "height": 437
        },
        "outputId": "97706bc5-49ad-43a4-959b-683e0fd99663"
      },
      "source": [
        "df.info()"
      ],
      "execution_count": null,
      "outputs": [
        {
          "output_type": "stream",
          "text": [
            "<class 'pandas.core.frame.DataFrame'>\n",
            "Int64Index: 1767 entries, 0 to 1766\n",
            "Data columns (total 20 columns):\n",
            "title                   1767 non-null object\n",
            "authors                 1767 non-null object\n",
            "average_rating          1767 non-null float64\n",
            "# num_pages             1767 non-null int64\n",
            "ratings_count           1767 non-null int64\n",
            "text_reviews_count      1767 non-null int64\n",
            "budget                  1767 non-null int64\n",
            "keywords                1767 non-null object\n",
            "original_title          1767 non-null object\n",
            "overview                1767 non-null object\n",
            "popularity              1767 non-null float64\n",
            "production_companies    1767 non-null object\n",
            "release_date            1767 non-null object\n",
            "revenue                 1767 non-null int64\n",
            "runtime                 1767 non-null float64\n",
            "spoken_languages        1767 non-null object\n",
            "status                  1767 non-null object\n",
            "tagline                 1514 non-null object\n",
            "vote_average            1767 non-null float64\n",
            "vote_count              1767 non-null int64\n",
            "dtypes: float64(4), int64(6), object(10)\n",
            "memory usage: 289.9+ KB\n"
          ],
          "name": "stdout"
        }
      ]
    },
    {
      "cell_type": "code",
      "metadata": {
        "id": "NZBV_a1jc2q2",
        "colab": {
          "base_uri": "https://localhost:8080/",
          "height": 1000
        },
        "outputId": "55d1b852-abe1-4704-9448-871486837cad"
      },
      "source": [
        "df.head(5)"
      ],
      "execution_count": null,
      "outputs": [
        {
          "output_type": "execute_result",
          "data": {
            "text/html": [
              "<div>\n",
              "<style scoped>\n",
              "    .dataframe tbody tr th:only-of-type {\n",
              "        vertical-align: middle;\n",
              "    }\n",
              "\n",
              "    .dataframe tbody tr th {\n",
              "        vertical-align: top;\n",
              "    }\n",
              "\n",
              "    .dataframe thead th {\n",
              "        text-align: right;\n",
              "    }\n",
              "</style>\n",
              "<table border=\"1\" class=\"dataframe\">\n",
              "  <thead>\n",
              "    <tr style=\"text-align: right;\">\n",
              "      <th></th>\n",
              "      <th>title</th>\n",
              "      <th>authors</th>\n",
              "      <th>average_rating</th>\n",
              "      <th># num_pages</th>\n",
              "      <th>ratings_count</th>\n",
              "      <th>text_reviews_count</th>\n",
              "      <th>budget</th>\n",
              "      <th>keywords</th>\n",
              "      <th>original_title</th>\n",
              "      <th>overview</th>\n",
              "      <th>popularity</th>\n",
              "      <th>production_companies</th>\n",
              "      <th>release_date</th>\n",
              "      <th>revenue</th>\n",
              "      <th>runtime</th>\n",
              "      <th>spoken_languages</th>\n",
              "      <th>status</th>\n",
              "      <th>tagline</th>\n",
              "      <th>vote_average</th>\n",
              "      <th>vote_count</th>\n",
              "    </tr>\n",
              "  </thead>\n",
              "  <tbody>\n",
              "    <tr>\n",
              "      <th>0</th>\n",
              "      <td>Harry Potter and the Half-Blood Prince</td>\n",
              "      <td>J.K. Rowling-Mary GrandPré</td>\n",
              "      <td>4.56</td>\n",
              "      <td>652</td>\n",
              "      <td>1944099</td>\n",
              "      <td>26249</td>\n",
              "      <td>250000000</td>\n",
              "      <td>[{\"id\": 616, \"name\": \"witch\"}, {\"id\": 2343, \"name\": \"magic\"}, {\"id\": 3872, \"name\": \"broom\"}, {\"id\": 3884, \"name\": \"school of witchcraft\"}, {\"id\": 6333, \"name\": \"wizardry\"}, {\"id\": 10164, \"name\": \"apparition\"}, {\"id\": 10791, \"name\": \"teenage crush\"}, {\"id\": 12564, \"name\": \"werewolf\"}]</td>\n",
              "      <td>Harry Potter and the Half-Blood Prince</td>\n",
              "      <td>As Harry begins his sixth year at Hogwarts, he discovers an old book marked as 'Property of the Half-Blood Prince', and begins to learn more about Lord Voldemort's dark past.</td>\n",
              "      <td>98.89</td>\n",
              "      <td>[{\"name\": \"Warner Bros.\", \"id\": 6194}, {\"name\": \"Heyday Films\", \"id\": 7364}]</td>\n",
              "      <td>2009-07-07</td>\n",
              "      <td>933959197</td>\n",
              "      <td>153.00</td>\n",
              "      <td>[{\"iso_639_1\": \"en\", \"name\": \"English\"}]</td>\n",
              "      <td>Released</td>\n",
              "      <td>Dark Secrets Revealed</td>\n",
              "      <td>7.40</td>\n",
              "      <td>5293</td>\n",
              "    </tr>\n",
              "    <tr>\n",
              "      <th>1</th>\n",
              "      <td>Harry Potter and the Half-Blood Prince</td>\n",
              "      <td>J.K. Rowling</td>\n",
              "      <td>4.56</td>\n",
              "      <td>768</td>\n",
              "      <td>1173</td>\n",
              "      <td>72</td>\n",
              "      <td>250000000</td>\n",
              "      <td>[{\"id\": 616, \"name\": \"witch\"}, {\"id\": 2343, \"name\": \"magic\"}, {\"id\": 3872, \"name\": \"broom\"}, {\"id\": 3884, \"name\": \"school of witchcraft\"}, {\"id\": 6333, \"name\": \"wizardry\"}, {\"id\": 10164, \"name\": \"apparition\"}, {\"id\": 10791, \"name\": \"teenage crush\"}, {\"id\": 12564, \"name\": \"werewolf\"}]</td>\n",
              "      <td>Harry Potter and the Half-Blood Prince</td>\n",
              "      <td>As Harry begins his sixth year at Hogwarts, he discovers an old book marked as 'Property of the Half-Blood Prince', and begins to learn more about Lord Voldemort's dark past.</td>\n",
              "      <td>98.89</td>\n",
              "      <td>[{\"name\": \"Warner Bros.\", \"id\": 6194}, {\"name\": \"Heyday Films\", \"id\": 7364}]</td>\n",
              "      <td>2009-07-07</td>\n",
              "      <td>933959197</td>\n",
              "      <td>153.00</td>\n",
              "      <td>[{\"iso_639_1\": \"en\", \"name\": \"English\"}]</td>\n",
              "      <td>Released</td>\n",
              "      <td>Dark Secrets Revealed</td>\n",
              "      <td>7.40</td>\n",
              "      <td>5293</td>\n",
              "    </tr>\n",
              "    <tr>\n",
              "      <th>2</th>\n",
              "      <td>Harry Potter and the Order of the Phoenix</td>\n",
              "      <td>J.K. Rowling-Mary GrandPré</td>\n",
              "      <td>4.49</td>\n",
              "      <td>870</td>\n",
              "      <td>1996446</td>\n",
              "      <td>27613</td>\n",
              "      <td>150000000</td>\n",
              "      <td>[{\"id\": 530, \"name\": \"prophecy\"}, {\"id\": 616, \"name\": \"witch\"}, {\"id\": 1014, \"name\": \"loss of lover\"}, {\"id\": 2343, \"name\": \"magic\"}, {\"id\": 2630, \"name\": \"cutting the cord\"}, {\"id\": 3650, \"name\": \"child hero\"}, {\"id\": 3737, \"name\": \"dying and death\"}, {\"id\": 3872, \"name\": \"broom\"}, {\"id\": 3873, \"name\": \"sorcerer's apprentice\"}, {\"id\": 3884, \"name\": \"school of witchcraft\"}, {\"id\": 4252, \"name\": \"black magic\"}, {\"id\": 4959, \"name\": \"death of a friend\"}, {\"id\": 5147, \"name\": \"sorcery\"}, {\"id\": 221387, \"name\": \"occultism\"}]</td>\n",
              "      <td>Harry Potter and the Order of the Phoenix</td>\n",
              "      <td>Returning for his fifth year of study at Hogwarts, Harry is stunned to find that his warnings about the return of Lord Voldemort have been ignored. Left with no choice, Harry takes matters into his own hands, training a small group of students – dubbed 'Dumbledore's Army' – to defend themselves against the dark arts.</td>\n",
              "      <td>78.14</td>\n",
              "      <td>[{\"name\": \"Warner Bros.\", \"id\": 6194}, {\"name\": \"Heyday Films\", \"id\": 7364}]</td>\n",
              "      <td>2007-06-28</td>\n",
              "      <td>938212738</td>\n",
              "      <td>138.00</td>\n",
              "      <td>[{\"iso_639_1\": \"en\", \"name\": \"English\"}]</td>\n",
              "      <td>Released</td>\n",
              "      <td>Evil Must Be Confronted.</td>\n",
              "      <td>7.40</td>\n",
              "      <td>5494</td>\n",
              "    </tr>\n",
              "    <tr>\n",
              "      <th>3</th>\n",
              "      <td>Harry Potter and the Philosopher's Stone</td>\n",
              "      <td>J.K. Rowling-Mary GrandPré</td>\n",
              "      <td>4.47</td>\n",
              "      <td>320</td>\n",
              "      <td>5629932</td>\n",
              "      <td>70390</td>\n",
              "      <td>125000000</td>\n",
              "      <td>[{\"id\": 616, \"name\": \"witch\"}, {\"id\": 1441, \"name\": \"christmas party\"}, {\"id\": 2343, \"name\": \"magic\"}, {\"id\": 2630, \"name\": \"cutting the cord\"}, {\"id\": 3335, \"name\": \"halloween\"}, {\"id\": 3650, \"name\": \"child hero\"}, {\"id\": 3872, \"name\": \"broom\"}, {\"id\": 4238, \"name\": \"chosen one\"}, {\"id\": 4456, \"name\": \"frog\"}, {\"id\": 170362, \"name\": \"fantasy world\"}, {\"id\": 223438, \"name\": \"based on young adult novel\"}]</td>\n",
              "      <td>Harry Potter and the Philosopher's Stone</td>\n",
              "      <td>Harry Potter has lived under the stairs at his aunt and uncle's house his whole life. But on his 11th birthday, he learns he's a powerful wizard -- with a place waiting for him at the Hogwarts School of Witchcraft and Wizardry. As he learns to harness his newfound powers with the help of the school's kindly headmaster, Harry uncovers the truth about his parents' deaths -- and about the villain who's to blame.</td>\n",
              "      <td>109.98</td>\n",
              "      <td>[{\"name\": \"1492 Pictures\", \"id\": 436}, {\"name\": \"Warner Bros.\", \"id\": 6194}, {\"name\": \"Heyday Films\", \"id\": 7364}]</td>\n",
              "      <td>2001-11-16</td>\n",
              "      <td>976475550</td>\n",
              "      <td>152.00</td>\n",
              "      <td>[{\"iso_639_1\": \"en\", \"name\": \"English\"}]</td>\n",
              "      <td>Released</td>\n",
              "      <td>Let the Magic Begin.</td>\n",
              "      <td>7.50</td>\n",
              "      <td>7006</td>\n",
              "    </tr>\n",
              "    <tr>\n",
              "      <th>4</th>\n",
              "      <td>Harry Potter and the Philosopher's Stone</td>\n",
              "      <td>J.K. Rowling-Mary GrandPré</td>\n",
              "      <td>4.47</td>\n",
              "      <td>424</td>\n",
              "      <td>132</td>\n",
              "      <td>12</td>\n",
              "      <td>125000000</td>\n",
              "      <td>[{\"id\": 616, \"name\": \"witch\"}, {\"id\": 1441, \"name\": \"christmas party\"}, {\"id\": 2343, \"name\": \"magic\"}, {\"id\": 2630, \"name\": \"cutting the cord\"}, {\"id\": 3335, \"name\": \"halloween\"}, {\"id\": 3650, \"name\": \"child hero\"}, {\"id\": 3872, \"name\": \"broom\"}, {\"id\": 4238, \"name\": \"chosen one\"}, {\"id\": 4456, \"name\": \"frog\"}, {\"id\": 170362, \"name\": \"fantasy world\"}, {\"id\": 223438, \"name\": \"based on young adult novel\"}]</td>\n",
              "      <td>Harry Potter and the Philosopher's Stone</td>\n",
              "      <td>Harry Potter has lived under the stairs at his aunt and uncle's house his whole life. But on his 11th birthday, he learns he's a powerful wizard -- with a place waiting for him at the Hogwarts School of Witchcraft and Wizardry. As he learns to harness his newfound powers with the help of the school's kindly headmaster, Harry uncovers the truth about his parents' deaths -- and about the villain who's to blame.</td>\n",
              "      <td>109.98</td>\n",
              "      <td>[{\"name\": \"1492 Pictures\", \"id\": 436}, {\"name\": \"Warner Bros.\", \"id\": 6194}, {\"name\": \"Heyday Films\", \"id\": 7364}]</td>\n",
              "      <td>2001-11-16</td>\n",
              "      <td>976475550</td>\n",
              "      <td>152.00</td>\n",
              "      <td>[{\"iso_639_1\": \"en\", \"name\": \"English\"}]</td>\n",
              "      <td>Released</td>\n",
              "      <td>Let the Magic Begin.</td>\n",
              "      <td>7.50</td>\n",
              "      <td>7006</td>\n",
              "    </tr>\n",
              "  </tbody>\n",
              "</table>\n",
              "</div>"
            ],
            "text/plain": [
              "                                       title  ... vote_count\n",
              "0     Harry Potter and the Half-Blood Prince  ...       5293\n",
              "1     Harry Potter and the Half-Blood Prince  ...       5293\n",
              "2  Harry Potter and the Order of the Phoenix  ...       5494\n",
              "3   Harry Potter and the Philosopher's Stone  ...       7006\n",
              "4   Harry Potter and the Philosopher's Stone  ...       7006\n",
              "\n",
              "[5 rows x 20 columns]"
            ]
          },
          "metadata": {
            "tags": []
          },
          "execution_count": 36
        }
      ]
    },
    {
      "cell_type": "markdown",
      "metadata": {
        "id": "FsvwbgkTKcu3"
      },
      "source": [
        "'authors' column includes foreward writers, translators etc. The first entry is always the actual author, so grab that and make an 'author' column."
      ]
    },
    {
      "cell_type": "code",
      "metadata": {
        "id": "EezYV0mWfdsl"
      },
      "source": [
        "grab = df['authors'].str.split('-')\n",
        "grab = grab.apply(lambda x: x[0])\n",
        "df['author'] = grab\n"
      ],
      "execution_count": null,
      "outputs": []
    },
    {
      "cell_type": "markdown",
      "metadata": {
        "id": "0A4vx-cYXDap"
      },
      "source": [
        "### Merge Credits\n",
        "\n",
        "The TMDB dataset includes addtional information on a movies cast and cres in a dataset called 'credits'. We will use it in the verify function below"
      ]
    },
    {
      "cell_type": "code",
      "metadata": {
        "id": "rqbqJRoxsmBT"
      },
      "source": [
        "df = pd.merge(df, credits)"
      ],
      "execution_count": null,
      "outputs": []
    },
    {
      "cell_type": "markdown",
      "metadata": {
        "id": "ysA4Das6XU7N"
      },
      "source": [
        "### Drop duplicates"
      ]
    },
    {
      "cell_type": "code",
      "metadata": {
        "id": "wwF1F6ZuLFoE"
      },
      "source": [
        "grab_duplicates = df.sort_values('ratings_count', ascending=False).duplicated(['title'], keep = 'first')\n"
      ],
      "execution_count": null,
      "outputs": []
    },
    {
      "cell_type": "code",
      "metadata": {
        "id": "0uJ87Ugq9EiO",
        "colab": {
          "base_uri": "https://localhost:8080/",
          "height": 558
        },
        "outputId": "f13c3f25-3525-4a3f-ee63-f49428691105"
      },
      "source": [
        "df = df.drop(df[grab_duplicates].index)\n",
        "df.info()"
      ],
      "execution_count": null,
      "outputs": [
        {
          "output_type": "stream",
          "text": [
            "<class 'pandas.core.frame.DataFrame'>\n",
            "Int64Index: 1231 entries, 0 to 1772\n",
            "Data columns (total 24 columns):\n",
            "title                   1231 non-null object\n",
            "authors                 1231 non-null object\n",
            "average_rating          1231 non-null float64\n",
            "# num_pages             1231 non-null int64\n",
            "ratings_count           1231 non-null int64\n",
            "text_reviews_count      1231 non-null int64\n",
            "budget                  1231 non-null int64\n",
            "keywords                1231 non-null object\n",
            "original_title          1231 non-null object\n",
            "overview                1231 non-null object\n",
            "popularity              1231 non-null float64\n",
            "production_companies    1231 non-null object\n",
            "release_date            1231 non-null object\n",
            "revenue                 1231 non-null int64\n",
            "runtime                 1231 non-null float64\n",
            "spoken_languages        1231 non-null object\n",
            "status                  1231 non-null object\n",
            "tagline                 1049 non-null object\n",
            "vote_average            1231 non-null float64\n",
            "vote_count              1231 non-null int64\n",
            "author                  1231 non-null object\n",
            "movie_id                1231 non-null int64\n",
            "cast                    1231 non-null object\n",
            "crew                    1231 non-null object\n",
            "dtypes: float64(4), int64(7), object(13)\n",
            "memory usage: 240.4+ KB\n"
          ],
          "name": "stdout"
        },
        {
          "output_type": "stream",
          "text": [
            "/usr/local/lib/python3.6/dist-packages/ipykernel_launcher.py:1: UserWarning: Boolean Series key will be reindexed to match DataFrame index.\n",
            "  \"\"\"Entry point for launching an IPython kernel.\n"
          ],
          "name": "stderr"
        }
      ]
    },
    {
      "cell_type": "markdown",
      "metadata": {
        "id": "v_3Wt1Nyyt33"
      },
      "source": [
        "### Verify\n",
        "\n",
        "\n",
        "Steps:\n",
        "*   Does movie mention book author?\n",
        "*   Look for 'based on novel' type phrase in movie: keywords, genre, credits\n",
        "*   Look for reference to book in overview\n",
        "\n",
        "\n"
      ]
    },
    {
      "cell_type": "markdown",
      "metadata": {
        "id": "VbW4fRqGV5y_"
      },
      "source": [
        "Verify step 1: Does movie mention book author?"
      ]
    },
    {
      "cell_type": "code",
      "metadata": {
        "id": "ivwc8VxNqLWt"
      },
      "source": [
        "for i in df['title']:\n",
        "  author = df[df['title'] == i]['author']\n",
        "  author = author.iloc[0]\n",
        "  get = df[df['title'] == i]['crew'].str.contains(f'{author}').iloc[0]\n",
        "  #print(f'\"{author}\"\"')\n",
        "  df.loc[df['title'] == i, 'Mentions Author'] = get\n",
        "\n"
      ],
      "execution_count": null,
      "outputs": []
    },
    {
      "cell_type": "markdown",
      "metadata": {
        "id": "6hz8ik57V9ez"
      },
      "source": [
        "Verify step 2: Explicitly says based on novel"
      ]
    },
    {
      "cell_type": "code",
      "metadata": {
        "id": "Or0eLBTPWCZU"
      },
      "source": [
        "for i in df['title']:\n",
        "  keyword = df[df['title'] == i]['keywords'].str.lower()\n",
        "  value = keyword.str.contains('novel')\n",
        "  df.loc[df['title'] == i, 'Based on Novel'] = value\n",
        "\n"
      ],
      "execution_count": null,
      "outputs": []
    },
    {
      "cell_type": "markdown",
      "metadata": {
        "id": "nop5fDl4ZTWY"
      },
      "source": [
        "Verify step 3: Look in overview for 'novel, book, authobiography'"
      ]
    },
    {
      "cell_type": "code",
      "metadata": {
        "id": "qgfDDPp7ZRTv"
      },
      "source": [
        "for i in df['title']:\n",
        "  overview = df[df['title'] == i]['overview'].str.lower()\n",
        "  author = df[df['title'] == i]['author'].str.lower()\n",
        "\n",
        "  novel = overview.str.contains('novel')\n",
        "  book = overview.str.contains('book')\n",
        "  best_selling = overview.str.contains('best selling')\n",
        "  potter = overview.str.contains('potter')\n",
        "  mentions_author = overview.str.contains(str(author))\n",
        "  contains_one = novel | book | best_selling | mentions_author | potter\n",
        "  df.loc[df['title'] == i, 'Overview mentions book'] = contains_one\n",
        "\n"
      ],
      "execution_count": null,
      "outputs": []
    },
    {
      "cell_type": "code",
      "metadata": {
        "id": "0F6EYZXKdDrc"
      },
      "source": [
        "def verify(df):\n",
        "  df['Verify'] = df['Mentions Author'] | df['Based on Novel'] | df['Overview mentions book']\n",
        "\n"
      ],
      "execution_count": null,
      "outputs": []
    },
    {
      "cell_type": "code",
      "metadata": {
        "id": "sAqfEN2s80PT"
      },
      "source": [
        "verify(df)\n",
        "\n",
        "unverified = df[df['Verify'] == False]\n",
        "df = df[df['Verify'] == True]\n"
      ],
      "execution_count": null,
      "outputs": []
    },
    {
      "cell_type": "code",
      "metadata": {
        "id": "CH2fE2vt9fcW",
        "colab": {
          "base_uri": "https://localhost:8080/",
          "height": 571
        },
        "outputId": "6b543bed-a9c6-4d5b-8fc5-3ab5c469c157"
      },
      "source": [
        "unverified.info()"
      ],
      "execution_count": null,
      "outputs": [
        {
          "output_type": "stream",
          "text": [
            "<class 'pandas.core.frame.DataFrame'>\n",
            "Int64Index: 905 entries, 20 to 1772\n",
            "Data columns (total 28 columns):\n",
            "title                     905 non-null object\n",
            "authors                   905 non-null object\n",
            "average_rating            905 non-null float64\n",
            "# num_pages               905 non-null int64\n",
            "ratings_count             905 non-null int64\n",
            "text_reviews_count        905 non-null int64\n",
            "budget                    905 non-null int64\n",
            "keywords                  905 non-null object\n",
            "original_title            905 non-null object\n",
            "overview                  905 non-null object\n",
            "popularity                905 non-null float64\n",
            "production_companies      905 non-null object\n",
            "release_date              905 non-null object\n",
            "revenue                   905 non-null int64\n",
            "runtime                   905 non-null float64\n",
            "spoken_languages          905 non-null object\n",
            "status                    905 non-null object\n",
            "tagline                   768 non-null object\n",
            "vote_average              905 non-null float64\n",
            "vote_count                905 non-null int64\n",
            "author                    905 non-null object\n",
            "movie_id                  905 non-null int64\n",
            "cast                      905 non-null object\n",
            "crew                      905 non-null object\n",
            "Mentions Author           905 non-null bool\n",
            "Based on Novel            905 non-null bool\n",
            "Overview mentions book    905 non-null bool\n",
            "Verify                    905 non-null bool\n",
            "dtypes: bool(4), float64(4), int64(7), object(13)\n",
            "memory usage: 180.3+ KB\n"
          ],
          "name": "stdout"
        }
      ]
    },
    {
      "cell_type": "markdown",
      "metadata": {
        "id": "hJ5svtPjo_yP"
      },
      "source": [
        "# Merged Set\n",
        "\n"
      ]
    },
    {
      "cell_type": "code",
      "metadata": {
        "id": "PjUvdaGQ19K_"
      },
      "source": [
        "df = df.rename(columns={'average_rating': 'book_rating', 'vote_average': 'movie_rating'})\n"
      ],
      "execution_count": null,
      "outputs": []
    },
    {
      "cell_type": "markdown",
      "metadata": {
        "id": "oR3s2TEeWgrI"
      },
      "source": [
        "Utility function for saving df to drive"
      ]
    },
    {
      "cell_type": "code",
      "metadata": {
        "id": "PcEIYiXtnK53"
      },
      "source": [
        "def save_df(df):\n",
        "  dataframe_csv = df.to_csv()\n",
        "  with open(\"/content/drive/My Drive/data/Dataframe.csv\", 'w') as f:\n",
        "    f.write(dataframe_csv)\n"
      ],
      "execution_count": null,
      "outputs": []
    },
    {
      "cell_type": "code",
      "metadata": {
        "id": "jPH4I1zxo-Rm",
        "colab": {
          "base_uri": "https://localhost:8080/",
          "height": 571
        },
        "outputId": "5a35a6d5-2ced-4215-a9db-61b76354206a"
      },
      "source": [
        "df.info()"
      ],
      "execution_count": null,
      "outputs": [
        {
          "output_type": "stream",
          "text": [
            "<class 'pandas.core.frame.DataFrame'>\n",
            "Int64Index: 326 entries, 0 to 1766\n",
            "Data columns (total 28 columns):\n",
            "title                     326 non-null object\n",
            "authors                   326 non-null object\n",
            "book_rating               326 non-null float64\n",
            "# num_pages               326 non-null int64\n",
            "ratings_count             326 non-null int64\n",
            "text_reviews_count        326 non-null int64\n",
            "budget                    326 non-null int64\n",
            "keywords                  326 non-null object\n",
            "original_title            326 non-null object\n",
            "overview                  326 non-null object\n",
            "popularity                326 non-null float64\n",
            "production_companies      326 non-null object\n",
            "release_date              326 non-null object\n",
            "revenue                   326 non-null int64\n",
            "runtime                   326 non-null float64\n",
            "spoken_languages          326 non-null object\n",
            "status                    326 non-null object\n",
            "tagline                   281 non-null object\n",
            "movie_rating              326 non-null float64\n",
            "vote_count                326 non-null int64\n",
            "author                    326 non-null object\n",
            "movie_id                  326 non-null int64\n",
            "cast                      326 non-null object\n",
            "crew                      326 non-null object\n",
            "Mentions Author           326 non-null bool\n",
            "Based on Novel            326 non-null bool\n",
            "Overview mentions book    326 non-null bool\n",
            "Verify                    326 non-null bool\n",
            "dtypes: bool(4), float64(4), int64(7), object(13)\n",
            "memory usage: 64.9+ KB\n"
          ],
          "name": "stdout"
        }
      ]
    },
    {
      "cell_type": "code",
      "metadata": {
        "id": "hnnk0Zy7RzEn",
        "colab": {
          "base_uri": "https://localhost:8080/",
          "height": 373
        },
        "outputId": "027f6337-1e6e-447e-df19-2195900b212a"
      },
      "source": [
        "df.describe().T"
      ],
      "execution_count": null,
      "outputs": [
        {
          "output_type": "execute_result",
          "data": {
            "text/html": [
              "<div>\n",
              "<style scoped>\n",
              "    .dataframe tbody tr th:only-of-type {\n",
              "        vertical-align: middle;\n",
              "    }\n",
              "\n",
              "    .dataframe tbody tr th {\n",
              "        vertical-align: top;\n",
              "    }\n",
              "\n",
              "    .dataframe thead th {\n",
              "        text-align: right;\n",
              "    }\n",
              "</style>\n",
              "<table border=\"1\" class=\"dataframe\">\n",
              "  <thead>\n",
              "    <tr style=\"text-align: right;\">\n",
              "      <th></th>\n",
              "      <th>count</th>\n",
              "      <th>mean</th>\n",
              "      <th>std</th>\n",
              "      <th>min</th>\n",
              "      <th>25%</th>\n",
              "      <th>50%</th>\n",
              "      <th>75%</th>\n",
              "      <th>max</th>\n",
              "    </tr>\n",
              "  </thead>\n",
              "  <tbody>\n",
              "    <tr>\n",
              "      <th>book_rating</th>\n",
              "      <td>326.00</td>\n",
              "      <td>3.94</td>\n",
              "      <td>0.25</td>\n",
              "      <td>2.86</td>\n",
              "      <td>3.80</td>\n",
              "      <td>3.96</td>\n",
              "      <td>4.10</td>\n",
              "      <td>4.56</td>\n",
              "    </tr>\n",
              "    <tr>\n",
              "      <th># num_pages</th>\n",
              "      <td>326.00</td>\n",
              "      <td>333.96</td>\n",
              "      <td>202.64</td>\n",
              "      <td>1.00</td>\n",
              "      <td>211.00</td>\n",
              "      <td>303.50</td>\n",
              "      <td>418.25</td>\n",
              "      <td>1463.00</td>\n",
              "    </tr>\n",
              "    <tr>\n",
              "      <th>ratings_count</th>\n",
              "      <td>326.00</td>\n",
              "      <td>177326.98</td>\n",
              "      <td>457442.85</td>\n",
              "      <td>2.00</td>\n",
              "      <td>1392.25</td>\n",
              "      <td>15072.00</td>\n",
              "      <td>159474.75</td>\n",
              "      <td>5629932.00</td>\n",
              "    </tr>\n",
              "    <tr>\n",
              "      <th>text_reviews_count</th>\n",
              "      <td>326.00</td>\n",
              "      <td>4153.71</td>\n",
              "      <td>9674.73</td>\n",
              "      <td>0.00</td>\n",
              "      <td>94.00</td>\n",
              "      <td>848.50</td>\n",
              "      <td>3472.25</td>\n",
              "      <td>84237.00</td>\n",
              "    </tr>\n",
              "    <tr>\n",
              "      <th>budget</th>\n",
              "      <td>326.00</td>\n",
              "      <td>40125102.94</td>\n",
              "      <td>45849453.26</td>\n",
              "      <td>0.00</td>\n",
              "      <td>7050000.00</td>\n",
              "      <td>25000000.00</td>\n",
              "      <td>60000000.00</td>\n",
              "      <td>250000000.00</td>\n",
              "    </tr>\n",
              "    <tr>\n",
              "      <th>popularity</th>\n",
              "      <td>326.00</td>\n",
              "      <td>30.04</td>\n",
              "      <td>29.44</td>\n",
              "      <td>0.02</td>\n",
              "      <td>9.37</td>\n",
              "      <td>21.10</td>\n",
              "      <td>42.57</td>\n",
              "      <td>167.93</td>\n",
              "    </tr>\n",
              "    <tr>\n",
              "      <th>revenue</th>\n",
              "      <td>326.00</td>\n",
              "      <td>132691983.58</td>\n",
              "      <td>212837541.87</td>\n",
              "      <td>0.00</td>\n",
              "      <td>9355599.00</td>\n",
              "      <td>49848044.50</td>\n",
              "      <td>150765877.25</td>\n",
              "      <td>1118888979.00</td>\n",
              "    </tr>\n",
              "    <tr>\n",
              "      <th>runtime</th>\n",
              "      <td>326.00</td>\n",
              "      <td>118.99</td>\n",
              "      <td>24.85</td>\n",
              "      <td>75.00</td>\n",
              "      <td>101.00</td>\n",
              "      <td>115.00</td>\n",
              "      <td>131.00</td>\n",
              "      <td>242.00</td>\n",
              "    </tr>\n",
              "    <tr>\n",
              "      <th>movie_rating</th>\n",
              "      <td>326.00</td>\n",
              "      <td>6.61</td>\n",
              "      <td>0.80</td>\n",
              "      <td>4.40</td>\n",
              "      <td>6.10</td>\n",
              "      <td>6.70</td>\n",
              "      <td>7.20</td>\n",
              "      <td>8.40</td>\n",
              "    </tr>\n",
              "    <tr>\n",
              "      <th>vote_count</th>\n",
              "      <td>326.00</td>\n",
              "      <td>1128.04</td>\n",
              "      <td>1667.59</td>\n",
              "      <td>1.00</td>\n",
              "      <td>130.25</td>\n",
              "      <td>482.50</td>\n",
              "      <td>1291.25</td>\n",
              "      <td>9413.00</td>\n",
              "    </tr>\n",
              "    <tr>\n",
              "      <th>movie_id</th>\n",
              "      <td>326.00</td>\n",
              "      <td>32385.80</td>\n",
              "      <td>61891.52</td>\n",
              "      <td>66.00</td>\n",
              "      <td>2168.25</td>\n",
              "      <td>10547.00</td>\n",
              "      <td>25916.75</td>\n",
              "      <td>339984.00</td>\n",
              "    </tr>\n",
              "  </tbody>\n",
              "</table>\n",
              "</div>"
            ],
            "text/plain": [
              "                    count         mean  ...          75%           max\n",
              "book_rating        326.00         3.94  ...         4.10          4.56\n",
              "# num_pages        326.00       333.96  ...       418.25       1463.00\n",
              "ratings_count      326.00    177326.98  ...    159474.75    5629932.00\n",
              "text_reviews_count 326.00      4153.71  ...      3472.25      84237.00\n",
              "budget             326.00  40125102.94  ...  60000000.00  250000000.00\n",
              "popularity         326.00        30.04  ...        42.57        167.93\n",
              "revenue            326.00 132691983.58  ... 150765877.25 1118888979.00\n",
              "runtime            326.00       118.99  ...       131.00        242.00\n",
              "movie_rating       326.00         6.61  ...         7.20          8.40\n",
              "vote_count         326.00      1128.04  ...      1291.25       9413.00\n",
              "movie_id           326.00     32385.80  ...     25916.75     339984.00\n",
              "\n",
              "[11 rows x 8 columns]"
            ]
          },
          "metadata": {
            "tags": []
          },
          "execution_count": 50
        }
      ]
    },
    {
      "cell_type": "code",
      "metadata": {
        "id": "JTu0-UzA9fyL",
        "colab": {
          "base_uri": "https://localhost:8080/",
          "height": 1000
        },
        "outputId": "f6db8375-3694-4642-ba0a-1a563420484e"
      },
      "source": [
        "df['title'].unique()"
      ],
      "execution_count": null,
      "outputs": [
        {
          "output_type": "execute_result",
          "data": {
            "text/plain": [
              "array(['Harry Potter and the Half-Blood Prince',\n",
              "       'Harry Potter and the Order of the Phoenix',\n",
              "       \"Harry Potter and the Philosopher's Stone\",\n",
              "       'Harry Potter and the Chamber of Secrets',\n",
              "       'Harry Potter and the Prisoner of Azkaban',\n",
              "       \"The Hitchhiker's Guide to the Galaxy\",\n",
              "       'The Lord of the Rings: The Fellowship of the Ring',\n",
              "       'The Lord of the Rings: The Two Towers',\n",
              "       'The Count of Monte Cristo',\n",
              "       \"What to Expect When You're Expecting\", 'Anna Karenina',\n",
              "       'Treasure Planet', 'The Wedding Date', 'The Namesake',\n",
              "       'Paper Towns', 'The Lovely Bones', 'Atlas Shrugged Part II',\n",
              "       'The Living Wake', 'The Big Year', 'The Kite Runner',\n",
              "       'Memoirs of a Geisha', 'Angels & Demons', 'The Da Vinci Code',\n",
              "       'Snow Flower and the Secret Fan', 'Life of Pi',\n",
              "       'The Clan of the Cave Bear', 'Warm Bodies', 'The Great Raid',\n",
              "       'The Princess and the Frog', 'Hamlet', 'Veronika Decides to Die',\n",
              "       'Brokeback Mountain', 'The Town', 'The Men Who Stare at Goats',\n",
              "       'Into the Wild', 'Pride & Prejudice',\n",
              "       'Pride and Prejudice and Zombies', 'Little Women', 'The Hours',\n",
              "       'A Home at the End of the World', 'Dear John', 'Peaceful Warrior',\n",
              "       'In Cold Blood', 'The House of Mirth', 'Moby Dick',\n",
              "       'The Time Machine', \"All the King's Men\", 'On the Road',\n",
              "       'To Kill a Mockingbird', 'The Book of Eli',\n",
              "       'Snow Falling on Cedars', 'Bridge to Terabithia',\n",
              "       'Girl with a Pearl Earring', 'The Virgin Suicides',\n",
              "       'The Adventures of Huck Finn', 'The Little Prince', 'The Firm',\n",
              "       'The Revenant', 'A Room with a View', 'Howards End', 'Maurice',\n",
              "       \"Captain Corelli's Mandolin\", 'Message in a Bottle',\n",
              "       'A Walk to Remember', 'The Giver', 'The Quiet American',\n",
              "       'The Ninth Gate', 'The Extra Man', 'Stranger Than Fiction',\n",
              "       \"Charlotte's Web\", 'Harriet the Spy', 'Diamonds Are Forever',\n",
              "       'You Only Live Twice', \"On Her Majesty's Secret Service\",\n",
              "       'Live and Let Die', 'From Russia with Love', 'Legends of the Fall',\n",
              "       'The Haunting', 'American Psycho', 'Fever Pitch', 'High Fidelity',\n",
              "       'About a Boy', 'Running with Scissors', \"Bridget Jones's Diary\",\n",
              "       'Bridget Jones: The Edge of Reason',\n",
              "       'Extremely Loud & Incredibly Close', 'Catch-22',\n",
              "       'The Great Gatsby', 'The Raid', 'A Beautiful Mind',\n",
              "       'Star Wars: Episode I - The Phantom Menace', 'Midnight in Paris',\n",
              "       \"Angela's Ashes\", 'Breakfast of Champions', 'A Dangerous Method',\n",
              "       'The Deep End of the Ocean', 'Where the Heart Is', 'The Reader',\n",
              "       'White Oleander', 'An Ideal Husband', 'A Christmas Story',\n",
              "       'A Christmas Carol', 'The Rainmaker', 'The Client', 'Fight Club',\n",
              "       'Choke', 'Vanity Fair', 'Casino Royale', 'The Host', 'The Road',\n",
              "       'Beloved', 'All the Pretty Horses', \"The General's Daughter\",\n",
              "       \"Howl's Moving Castle\", 'Charlie and the Chocolate Factory',\n",
              "       'The BFG', 'Never Let Me Go', 'One Night with the King',\n",
              "       'The Puffy Chair', 'Fantastic Mr. Fox', 'Cloud Atlas',\n",
              "       'Romeo + Juliet', 'Atonement', \"My Sister's Keeper\", 'Emma',\n",
              "       \"Legend of the Guardians: The Owls of Ga'Hoole\",\n",
              "       'Under the Tuscan Sun', 'The Secret Life of Bees',\n",
              "       'The Lord of the Rings: The Return of the King',\n",
              "       'The Shipping News', 'Midnight in the Garden of Good and Evil',\n",
              "       'Lolita', 'Timeline', 'The Andromeda Strain', 'Congo',\n",
              "       'The First Great Train Robbery', 'My Fair Lady',\n",
              "       \"Gulliver's Travels\", 'Fear and Loathing in Las Vegas',\n",
              "       'The Bourne Identity', \"Winter's Tale\",\n",
              "       'Cloudy with a Chance of Meatballs',\n",
              "       'Cloudy with a Chance of Meatballs 2', 'Anne of Green Gables',\n",
              "       'The Man Who Knew Too Little', 'Nerve',\n",
              "       'The Lost World: Jurassic Park', 'The Last Temptation of Christ',\n",
              "       'Planet of the Apes', 'War of the Worlds',\n",
              "       \"Cirque du Freak: The Vampire's Assistant\",\n",
              "       'I Hope They Serve Beer in Hell', 'The Homesman',\n",
              "       'The Fault in Our Stars', 'The Rules of Attraction',\n",
              "       'The Informers', 'The Secret of Kells', 'The Three Musketeers',\n",
              "       'Pet Sematary', 'The Shining', 'Carrie', 'Now Is Good',\n",
              "       'A Farewell to Arms', 'Shopgirl', 'Cold Mountain', 'The Mighty',\n",
              "       'The Chronicles of Narnia: Prince Caspian', 'The Scarlet Letter',\n",
              "       \"One Flew Over the Cuckoo's Nest\", 'Elmer Gantry',\n",
              "       'Betty Fisher and Other Stories', 'The Color Purple',\n",
              "       'Body of Lies', 'The Green Mile', 'Dreamcatcher', 'The Dead Zone',\n",
              "       'Creepshow', 'Hearts in Atlantis', 'Stand by Me',\n",
              "       'The Hotel New Hampshire', 'The Princess Diaries',\n",
              "       'The Killer Inside Me', 'Henry V', 'Glengarry Glen Ross',\n",
              "       'A Streetcar Named Desire', 'No Country for Old Men', 'Caravans',\n",
              "       'Rebecca', 'Much Ado About Nothing', 'Alice in Wonderland',\n",
              "       'Gone Girl', 'Striptease', 'Hoot', 'Along Came a Spider',\n",
              "       'The Prestige', 'Miracles from Heaven',\n",
              "       'The Chronicles of Narnia: The Lion, the Witch and the Wardrobe',\n",
              "       \"The Time Traveler's Wife\", 'I Am Legend', 'The Relic',\n",
              "       'Fun with Dick and Jane', 'Under the Rainbow', 'One for the Money',\n",
              "       'The Bridge of San Luis Rey', 'A Scanner Darkly', 'The Outsiders',\n",
              "       'Sense and Sensibility', 'Absolute Power', 'The Words',\n",
              "       'The Ice Storm', 'The Bourne Supremacy', 'Sideways',\n",
              "       'House of Sand and Fog', 'Dark Water', 'The Inhabited Island',\n",
              "       'The End of the Affair', 'Wonder Boys', 'The Prince of Tides',\n",
              "       'Stardust', 'A Single Man', 'The Amazing Spider-Man',\n",
              "       'Notes on a Scandal', 'Coraline', 'Starship Troopers', 'Dracula',\n",
              "       'The Great Escape', 'The Princess Bride',\n",
              "       'Alice Through the Looking Glass',\n",
              "       'The Chronicles of Narnia: The Voyage of the Dawn Treader',\n",
              "       'Oliver Twist', 'Gone with the Wind', 'The Spy Who Loved Me',\n",
              "       'The Book Thief', 'Confessions of a Teenage Drama Queen',\n",
              "       \"It's Kind of a Funny Story\", 'Moonraker', 'Eat Pray Love',\n",
              "       'Where the Wild Things Are', 'Four Weddings and a Funeral',\n",
              "       'Halloween', 'Mystic River', 'Shutter Island', 'The Black Dahlia',\n",
              "       'First Blood', 'The Godfather', 'Jurassic Park',\n",
              "       'The Dangerous Lives of Altar Boys', 'Practical Magic',\n",
              "       'Miracle at St. Anna', 'From Hell', 'Something Borrowed',\n",
              "       'The Silence of the Lambs', 'Trainspotting',\n",
              "       'When Harry Met Sally...', 'The Notebook',\n",
              "       'The Merchant of Venice', 'Les Misérables',\n",
              "       'Because of Winn-Dixie', 'Ella Enchanted', 'How to Be Single',\n",
              "       'The Tale of Despereaux', 'In Dreams', 'Bright Lights, Big City',\n",
              "       'The Golden Compass', 'Tuck Everlasting', 'Out of Africa',\n",
              "       \"Nick and Norah's Infinite Playlist\",\n",
              "       'The Postman Always Rings Twice', 'The NeverEnding Story',\n",
              "       'Percy Jackson: Sea of Monsters',\n",
              "       'Percy Jackson & the Olympians: The Lightning Thief', 'Inkheart',\n",
              "       'Taxi Driver', 'Layer Cake', '20,000 Leagues Under the Sea',\n",
              "       'The Adventurer: The Curse of the Midas Box',\n",
              "       'The Island of Dr. Moreau', 'Blood and Chocolate',\n",
              "       'American Splendor', 'Evil Words', 'Atlantis: The Lost Empire',\n",
              "       'The Hunchback of Notre Dame', 'Little Children', 'Up in the Air',\n",
              "       'Thumbsucker', 'The Other Boleyn Girl', 'Tom Jones',\n",
              "       'The Bourne Ultimatum', 'Richard III', 'Safe Haven',\n",
              "       'The Pelican Brief', 'A Time to Kill', 'Clear and Present Danger',\n",
              "       'The Mothman Prophecies', 'The Tempest', 'Stuart Little',\n",
              "       'What Dreams May Come', 'Interview with the Vampire',\n",
              "       'Damnation Alley', 'The Woman in Black', 'The Ring Two',\n",
              "       'The Big Bounce', 'The Jungle Book', 'The Maze Runner', 'Holes',\n",
              "       'Rabbit Hole', 'The Great Beauty', 'The Martian',\n",
              "       'Thank You for Smoking', 'How Green Was My Valley',\n",
              "       'The Right Stuff', 'The Eclipse', 'Raise the Titanic',\n",
              "       'Head Over Heels', 'The Wizard of Oz', 'White Fang',\n",
              "       'Harry Potter and the Goblet of Fire', 'Water for Elephants',\n",
              "       'A Passage to India', 'Quo Vadis',\n",
              "       'Jekyll and Hyde ... Together Again', 'The Musketeer',\n",
              "       'Alexander and the Terrible, Horrible, No Good, Very Bad Day',\n",
              "       'Requiem for a Dream', 'Freedom Writers', 'Chocolat'], dtype=object)"
            ]
          },
          "metadata": {
            "tags": []
          },
          "execution_count": 51
        }
      ]
    },
    {
      "cell_type": "markdown",
      "metadata": {
        "id": "iUQMPMNCMviK"
      },
      "source": [
        "We have the books which have movies, grab those that don't, store in datafraem called just_books"
      ]
    },
    {
      "cell_type": "code",
      "metadata": {
        "id": "SvHcos5IfCVI"
      },
      "source": [
        "just_books = books[~books['title'].isin(df['title'])]\n",
        "just_movies = movies[~movies['title'].isin(df['title'])]\n",
        "books['Made into movie'] = books['title'].isin(df['title'])"
      ],
      "execution_count": null,
      "outputs": []
    },
    {
      "cell_type": "code",
      "metadata": {
        "id": "Q5cd69gy3flB",
        "colab": {
          "base_uri": "https://localhost:8080/",
          "height": 321
        },
        "outputId": "d4eaf2c0-b9af-4789-e665-357b237196bf"
      },
      "source": [
        "just_books = just_books.rename(columns={'average_rating': 'book_rating'})\n",
        "\n",
        "just_books.describe()\n",
        "df.describe()"
      ],
      "execution_count": null,
      "outputs": [
        {
          "output_type": "execute_result",
          "data": {
            "text/html": [
              "<div>\n",
              "<style scoped>\n",
              "    .dataframe tbody tr th:only-of-type {\n",
              "        vertical-align: middle;\n",
              "    }\n",
              "\n",
              "    .dataframe tbody tr th {\n",
              "        vertical-align: top;\n",
              "    }\n",
              "\n",
              "    .dataframe thead th {\n",
              "        text-align: right;\n",
              "    }\n",
              "</style>\n",
              "<table border=\"1\" class=\"dataframe\">\n",
              "  <thead>\n",
              "    <tr style=\"text-align: right;\">\n",
              "      <th></th>\n",
              "      <th>book_rating</th>\n",
              "      <th># num_pages</th>\n",
              "      <th>ratings_count</th>\n",
              "      <th>text_reviews_count</th>\n",
              "      <th>budget</th>\n",
              "      <th>popularity</th>\n",
              "      <th>revenue</th>\n",
              "      <th>runtime</th>\n",
              "      <th>movie_rating</th>\n",
              "      <th>vote_count</th>\n",
              "      <th>movie_id</th>\n",
              "    </tr>\n",
              "  </thead>\n",
              "  <tbody>\n",
              "    <tr>\n",
              "      <th>count</th>\n",
              "      <td>326.00</td>\n",
              "      <td>326.00</td>\n",
              "      <td>326.00</td>\n",
              "      <td>326.00</td>\n",
              "      <td>326.00</td>\n",
              "      <td>326.00</td>\n",
              "      <td>326.00</td>\n",
              "      <td>326.00</td>\n",
              "      <td>326.00</td>\n",
              "      <td>326.00</td>\n",
              "      <td>326.00</td>\n",
              "    </tr>\n",
              "    <tr>\n",
              "      <th>mean</th>\n",
              "      <td>3.94</td>\n",
              "      <td>333.96</td>\n",
              "      <td>177326.98</td>\n",
              "      <td>4153.71</td>\n",
              "      <td>40125102.94</td>\n",
              "      <td>30.04</td>\n",
              "      <td>132691983.58</td>\n",
              "      <td>118.99</td>\n",
              "      <td>6.61</td>\n",
              "      <td>1128.04</td>\n",
              "      <td>32385.80</td>\n",
              "    </tr>\n",
              "    <tr>\n",
              "      <th>std</th>\n",
              "      <td>0.25</td>\n",
              "      <td>202.64</td>\n",
              "      <td>457442.85</td>\n",
              "      <td>9674.73</td>\n",
              "      <td>45849453.26</td>\n",
              "      <td>29.44</td>\n",
              "      <td>212837541.87</td>\n",
              "      <td>24.85</td>\n",
              "      <td>0.80</td>\n",
              "      <td>1667.59</td>\n",
              "      <td>61891.52</td>\n",
              "    </tr>\n",
              "    <tr>\n",
              "      <th>min</th>\n",
              "      <td>2.86</td>\n",
              "      <td>1.00</td>\n",
              "      <td>2.00</td>\n",
              "      <td>0.00</td>\n",
              "      <td>0.00</td>\n",
              "      <td>0.02</td>\n",
              "      <td>0.00</td>\n",
              "      <td>75.00</td>\n",
              "      <td>4.40</td>\n",
              "      <td>1.00</td>\n",
              "      <td>66.00</td>\n",
              "    </tr>\n",
              "    <tr>\n",
              "      <th>25%</th>\n",
              "      <td>3.80</td>\n",
              "      <td>211.00</td>\n",
              "      <td>1392.25</td>\n",
              "      <td>94.00</td>\n",
              "      <td>7050000.00</td>\n",
              "      <td>9.37</td>\n",
              "      <td>9355599.00</td>\n",
              "      <td>101.00</td>\n",
              "      <td>6.10</td>\n",
              "      <td>130.25</td>\n",
              "      <td>2168.25</td>\n",
              "    </tr>\n",
              "    <tr>\n",
              "      <th>50%</th>\n",
              "      <td>3.96</td>\n",
              "      <td>303.50</td>\n",
              "      <td>15072.00</td>\n",
              "      <td>848.50</td>\n",
              "      <td>25000000.00</td>\n",
              "      <td>21.10</td>\n",
              "      <td>49848044.50</td>\n",
              "      <td>115.00</td>\n",
              "      <td>6.70</td>\n",
              "      <td>482.50</td>\n",
              "      <td>10547.00</td>\n",
              "    </tr>\n",
              "    <tr>\n",
              "      <th>75%</th>\n",
              "      <td>4.10</td>\n",
              "      <td>418.25</td>\n",
              "      <td>159474.75</td>\n",
              "      <td>3472.25</td>\n",
              "      <td>60000000.00</td>\n",
              "      <td>42.57</td>\n",
              "      <td>150765877.25</td>\n",
              "      <td>131.00</td>\n",
              "      <td>7.20</td>\n",
              "      <td>1291.25</td>\n",
              "      <td>25916.75</td>\n",
              "    </tr>\n",
              "    <tr>\n",
              "      <th>max</th>\n",
              "      <td>4.56</td>\n",
              "      <td>1463.00</td>\n",
              "      <td>5629932.00</td>\n",
              "      <td>84237.00</td>\n",
              "      <td>250000000.00</td>\n",
              "      <td>167.93</td>\n",
              "      <td>1118888979.00</td>\n",
              "      <td>242.00</td>\n",
              "      <td>8.40</td>\n",
              "      <td>9413.00</td>\n",
              "      <td>339984.00</td>\n",
              "    </tr>\n",
              "  </tbody>\n",
              "</table>\n",
              "</div>"
            ],
            "text/plain": [
              "       book_rating  # num_pages  ...  vote_count  movie_id\n",
              "count       326.00       326.00  ...      326.00    326.00\n",
              "mean          3.94       333.96  ...     1128.04  32385.80\n",
              "std           0.25       202.64  ...     1667.59  61891.52\n",
              "min           2.86         1.00  ...        1.00     66.00\n",
              "25%           3.80       211.00  ...      130.25   2168.25\n",
              "50%           3.96       303.50  ...      482.50  10547.00\n",
              "75%           4.10       418.25  ...     1291.25  25916.75\n",
              "max           4.56      1463.00  ...     9413.00 339984.00\n",
              "\n",
              "[8 rows x 11 columns]"
            ]
          },
          "metadata": {
            "tags": []
          },
          "execution_count": 53
        }
      ]
    },
    {
      "cell_type": "markdown",
      "metadata": {
        "id": "H4OtuvVuLOJ9"
      },
      "source": [
        "### Combined rating\n",
        "Books on goodreads are rated out out of 5.\n",
        "\n",
        "Movies are rated out of 10\n",
        "\n",
        "In comparing a book+movie combination it would make sense to have a total rating that fairly weighs the two scores. For now I am multiplying the book rating by 2, adding it to the movie score, dividing the total by 2."
      ]
    },
    {
      "cell_type": "code",
      "metadata": {
        "id": "ZsgR0zG_k61z",
        "colab": {
          "base_uri": "https://localhost:8080/",
          "height": 360
        },
        "outputId": "cc4c8a60-a2c2-498e-dfd5-ff619ceee471"
      },
      "source": [
        "df['Combined Rating'] = ((df['book_rating'] * 2)  + df['movie_rating']) / 2\n",
        "print('Highest combined rating')\n",
        "df.sort_values('Combined Rating', ascending=False)[:10][['title','Combined Rating']]"
      ],
      "execution_count": null,
      "outputs": [
        {
          "output_type": "stream",
          "text": [
            "Highest combined rating\n"
          ],
          "name": "stdout"
        },
        {
          "output_type": "execute_result",
          "data": {
            "text/html": [
              "<div>\n",
              "<style scoped>\n",
              "    .dataframe tbody tr th:only-of-type {\n",
              "        vertical-align: middle;\n",
              "    }\n",
              "\n",
              "    .dataframe tbody tr th {\n",
              "        vertical-align: top;\n",
              "    }\n",
              "\n",
              "    .dataframe thead th {\n",
              "        text-align: right;\n",
              "    }\n",
              "</style>\n",
              "<table border=\"1\" class=\"dataframe\">\n",
              "  <thead>\n",
              "    <tr style=\"text-align: right;\">\n",
              "      <th></th>\n",
              "      <th>title</th>\n",
              "      <th>Combined Rating</th>\n",
              "    </tr>\n",
              "  </thead>\n",
              "  <tbody>\n",
              "    <tr>\n",
              "      <th>633</th>\n",
              "      <td>Howl's Moving Castle</td>\n",
              "      <td>8.61</td>\n",
              "    </tr>\n",
              "    <tr>\n",
              "      <th>1305</th>\n",
              "      <td>The Godfather</td>\n",
              "      <td>8.57</td>\n",
              "    </tr>\n",
              "    <tr>\n",
              "      <th>952</th>\n",
              "      <td>The Green Mile</td>\n",
              "      <td>8.54</td>\n",
              "    </tr>\n",
              "    <tr>\n",
              "      <th>19</th>\n",
              "      <td>The Lord of the Rings: The Two Towers</td>\n",
              "      <td>8.53</td>\n",
              "    </tr>\n",
              "    <tr>\n",
              "      <th>704</th>\n",
              "      <td>The Lord of the Rings: The Return of the King</td>\n",
              "      <td>8.51</td>\n",
              "    </tr>\n",
              "    <tr>\n",
              "      <th>11</th>\n",
              "      <td>The Lord of the Rings: The Fellowship of the Ring</td>\n",
              "      <td>8.49</td>\n",
              "    </tr>\n",
              "    <tr>\n",
              "      <th>7</th>\n",
              "      <td>Harry Potter and the Prisoner of Azkaban</td>\n",
              "      <td>8.40</td>\n",
              "    </tr>\n",
              "    <tr>\n",
              "      <th>589</th>\n",
              "      <td>Fight Club</td>\n",
              "      <td>8.35</td>\n",
              "    </tr>\n",
              "    <tr>\n",
              "      <th>771</th>\n",
              "      <td>Anne of Green Gables</td>\n",
              "      <td>8.34</td>\n",
              "    </tr>\n",
              "    <tr>\n",
              "      <th>1711</th>\n",
              "      <td>Harry Potter and the Goblet of Fire</td>\n",
              "      <td>8.30</td>\n",
              "    </tr>\n",
              "  </tbody>\n",
              "</table>\n",
              "</div>"
            ],
            "text/plain": [
              "                                                  title  Combined Rating\n",
              "633                                Howl's Moving Castle             8.61\n",
              "1305                                      The Godfather             8.57\n",
              "952                                      The Green Mile             8.54\n",
              "19                The Lord of the Rings: The Two Towers             8.53\n",
              "704       The Lord of the Rings: The Return of the King             8.51\n",
              "11    The Lord of the Rings: The Fellowship of the Ring             8.49\n",
              "7              Harry Potter and the Prisoner of Azkaban             8.40\n",
              "589                                          Fight Club             8.35\n",
              "771                                Anne of Green Gables             8.34\n",
              "1711                Harry Potter and the Goblet of Fire             8.30"
            ]
          },
          "metadata": {
            "tags": []
          },
          "execution_count": 54
        }
      ]
    },
    {
      "cell_type": "code",
      "metadata": {
        "id": "a7vI1HaXQm9e",
        "colab": {
          "base_uri": "https://localhost:8080/",
          "height": 360
        },
        "outputId": "3bfe103c-3f7e-4790-a190-f2e0c9e75376"
      },
      "source": [
        "print('Lowest combined rating')\n",
        "df.sort_values('Combined Rating', ascending=True)[:10][['title','Combined Rating']]"
      ],
      "execution_count": null,
      "outputs": [
        {
          "output_type": "stream",
          "text": [
            "Lowest combined rating\n"
          ],
          "name": "stdout"
        },
        {
          "output_type": "execute_result",
          "data": {
            "text/html": [
              "<div>\n",
              "<style scoped>\n",
              "    .dataframe tbody tr th:only-of-type {\n",
              "        vertical-align: middle;\n",
              "    }\n",
              "\n",
              "    .dataframe tbody tr th {\n",
              "        vertical-align: top;\n",
              "    }\n",
              "\n",
              "    .dataframe thead th {\n",
              "        text-align: right;\n",
              "    }\n",
              "</style>\n",
              "<table border=\"1\" class=\"dataframe\">\n",
              "  <thead>\n",
              "    <tr style=\"text-align: right;\">\n",
              "      <th></th>\n",
              "      <th>title</th>\n",
              "      <th>Combined Rating</th>\n",
              "    </tr>\n",
              "  </thead>\n",
              "  <tbody>\n",
              "    <tr>\n",
              "      <th>842</th>\n",
              "      <td>The Informers</td>\n",
              "      <td>5.58</td>\n",
              "    </tr>\n",
              "    <tr>\n",
              "      <th>1252</th>\n",
              "      <td>Confessions of a Teenage Drama Queen</td>\n",
              "      <td>5.87</td>\n",
              "    </tr>\n",
              "    <tr>\n",
              "      <th>736</th>\n",
              "      <td>Gulliver's Travels</td>\n",
              "      <td>6.01</td>\n",
              "    </tr>\n",
              "    <tr>\n",
              "      <th>1488</th>\n",
              "      <td>The Island of Dr. Moreau</td>\n",
              "      <td>6.02</td>\n",
              "    </tr>\n",
              "    <tr>\n",
              "      <th>1082</th>\n",
              "      <td>Under the Rainbow</td>\n",
              "      <td>6.04</td>\n",
              "    </tr>\n",
              "    <tr>\n",
              "      <th>1034</th>\n",
              "      <td>Striptease</td>\n",
              "      <td>6.04</td>\n",
              "    </tr>\n",
              "    <tr>\n",
              "      <th>109</th>\n",
              "      <td>The Big Year</td>\n",
              "      <td>6.05</td>\n",
              "    </tr>\n",
              "    <tr>\n",
              "      <th>1608</th>\n",
              "      <td>Damnation Alley</td>\n",
              "      <td>6.07</td>\n",
              "    </tr>\n",
              "    <tr>\n",
              "      <th>729</th>\n",
              "      <td>Congo</td>\n",
              "      <td>6.08</td>\n",
              "    </tr>\n",
              "    <tr>\n",
              "      <th>389</th>\n",
              "      <td>The Extra Man</td>\n",
              "      <td>6.10</td>\n",
              "    </tr>\n",
              "  </tbody>\n",
              "</table>\n",
              "</div>"
            ],
            "text/plain": [
              "                                     title  Combined Rating\n",
              "842                          The Informers             5.58\n",
              "1252  Confessions of a Teenage Drama Queen             5.87\n",
              "736                     Gulliver's Travels             6.01\n",
              "1488              The Island of Dr. Moreau             6.02\n",
              "1082                     Under the Rainbow             6.04\n",
              "1034                            Striptease             6.04\n",
              "109                           The Big Year             6.05\n",
              "1608                       Damnation Alley             6.07\n",
              "729                                  Congo             6.08\n",
              "389                          The Extra Man             6.10"
            ]
          },
          "metadata": {
            "tags": []
          },
          "execution_count": 55
        }
      ]
    },
    {
      "cell_type": "code",
      "metadata": {
        "id": "nUPB0IeJCUw6",
        "colab": {
          "base_uri": "https://localhost:8080/",
          "height": 265
        },
        "outputId": "b3f3350d-5929-42e2-d978-5ad32b13a36b"
      },
      "source": [
        "df['Combined Rating'].hist()\n",
        "plt.ylabel('Combined Rating')\n",
        "plt.show()"
      ],
      "execution_count": null,
      "outputs": [
        {
          "output_type": "display_data",
          "data": {
            "image/png": "[encoded data removed]",
            "text/plain": [
              "<Figure size 432x288 with 1 Axes>"
            ]
          },
          "metadata": {
            "tags": []
          }
        }
      ]
    },
    {
      "cell_type": "code",
      "metadata": {
        "id": "hW5QJZ8bNxvL",
        "colab": {
          "base_uri": "https://localhost:8080/",
          "height": 302
        },
        "outputId": "d233038a-2df3-4a4f-f4ee-2ea3cc3553b8"
      },
      "source": [
        "df.corr()['Combined Rating'].abs().sort_values(ascending=False)"
      ],
      "execution_count": null,
      "outputs": [
        {
          "output_type": "execute_result",
          "data": {
            "text/plain": [
              "Combined Rating          1.00\n",
              "movie_rating             0.92\n",
              "book_rating              0.76\n",
              "popularity               0.49\n",
              "vote_count               0.48\n",
              "runtime                  0.41\n",
              "revenue                  0.31\n",
              "ratings_count            0.24\n",
              "text_reviews_count       0.19\n",
              "# num_pages              0.12\n",
              "Mentions Author          0.09\n",
              "budget                   0.07\n",
              "Based on Novel           0.05\n",
              "movie_id                 0.04\n",
              "Overview mentions book   0.01\n",
              "Verify                    nan\n",
              "Name: Combined Rating, dtype: float64"
            ]
          },
          "metadata": {
            "tags": []
          },
          "execution_count": 57
        }
      ]
    },
    {
      "cell_type": "code",
      "metadata": {
        "id": "SzzlfEOPqIwT",
        "colab": {
          "base_uri": "https://localhost:8080/",
          "height": 302
        },
        "outputId": "ef6fdfea-b4ad-4e9b-ade9-22262f59b990"
      },
      "source": [
        "df.corr()['book_rating'].abs().sort_values(ascending=False)"
      ],
      "execution_count": null,
      "outputs": [
        {
          "output_type": "execute_result",
          "data": {
            "text/plain": [
              "book_rating              1.00\n",
              "Combined Rating          0.76\n",
              "movie_rating             0.44\n",
              "popularity               0.32\n",
              "vote_count               0.31\n",
              "ratings_count            0.30\n",
              "runtime                  0.29\n",
              "revenue                  0.28\n",
              "text_reviews_count       0.24\n",
              "budget                   0.17\n",
              "# num_pages              0.16\n",
              "Based on Novel           0.10\n",
              "Mentions Author          0.06\n",
              "movie_id                 0.03\n",
              "Overview mentions book   0.01\n",
              "Verify                    nan\n",
              "Name: book_rating, dtype: float64"
            ]
          },
          "metadata": {
            "tags": []
          },
          "execution_count": 58
        }
      ]
    },
    {
      "cell_type": "code",
      "metadata": {
        "id": "bZj86tx9qiQF",
        "colab": {
          "base_uri": "https://localhost:8080/",
          "height": 302
        },
        "outputId": "9b3fb4e6-98c2-47d4-9db2-785c8f233561"
      },
      "source": [
        "df.corr()['movie_rating'].abs().sort_values(ascending=False)"
      ],
      "execution_count": null,
      "outputs": [
        {
          "output_type": "execute_result",
          "data": {
            "text/plain": [
              "movie_rating             1.00\n",
              "Combined Rating          0.92\n",
              "popularity               0.48\n",
              "vote_count               0.48\n",
              "book_rating              0.44\n",
              "runtime                  0.40\n",
              "revenue                  0.26\n",
              "ratings_count            0.14\n",
              "text_reviews_count       0.11\n",
              "Mentions Author          0.08\n",
              "# num_pages              0.06\n",
              "movie_id                 0.04\n",
              "budget                   0.01\n",
              "Overview mentions book   0.01\n",
              "Based on Novel           0.00\n",
              "Verify                    nan\n",
              "Name: movie_rating, dtype: float64"
            ]
          },
          "metadata": {
            "tags": []
          },
          "execution_count": 59
        }
      ]
    },
    {
      "cell_type": "code",
      "metadata": {
        "id": "TIVX12cJBpEP",
        "colab": {
          "base_uri": "https://localhost:8080/",
          "height": 296
        },
        "outputId": "1836165a-f00d-4c19-bdc9-069cf28a4f4a"
      },
      "source": [
        "sns.distplot(df['Combined Rating'])"
      ],
      "execution_count": null,
      "outputs": [
        {
          "output_type": "execute_result",
          "data": {
            "text/plain": [
              "<matplotlib.axes._subplots.AxesSubplot at 0x7fb81c6f5c18>"
            ]
          },
          "metadata": {
            "tags": []
          },
          "execution_count": 60
        },
        {
          "output_type": "display_data",
          "data": {
            "image/png": "[encoded data removed]",
            "text/plain": [
              "<Figure size 432x288 with 1 Axes>"
            ]
          },
          "metadata": {
            "tags": []
          }
        }
      ]
    },
    {
      "cell_type": "markdown",
      "metadata": {
        "id": "1Qn2EMeWUefm"
      },
      "source": [
        "## T-Tests\n",
        "\n",
        "The assumption has been made that there is some relationship between good books and being made into a movie, or that good books predict good movies.\n",
        "\n",
        "This section runs formal tests to see if the average means between books with movies and books without are significantly different."
      ]
    },
    {
      "cell_type": "markdown",
      "metadata": {
        "id": "3Xm0OKN-0ecK"
      },
      "source": [
        "### Is the average rating of books with a movie different than those without?\n",
        "\n",
        "Two tailed, independent\n",
        "\n",
        "Following this guide https://pythonfordatascience.org/independent-t-test-python/\n",
        "\n"
      ]
    },
    {
      "cell_type": "code",
      "metadata": {
        "id": "1N2wRDCa06oe"
      },
      "source": [
        "from scipy import stats\n"
      ],
      "execution_count": null,
      "outputs": []
    },
    {
      "cell_type": "markdown",
      "metadata": {
        "id": "2-aPmxYHD1ub"
      },
      "source": [
        "####Assumptions:\n",
        "\n",
        "1. Equal variance\n",
        "* Levene Test\n",
        "* Bartlett Test\n",
        "\n",
        "Normally distributed:\n",
        "* Kind of"
      ]
    },
    {
      "cell_type": "code",
      "metadata": {
        "id": "hMvGxlEVEhiN",
        "colab": {
          "base_uri": "https://localhost:8080/",
          "height": 34
        },
        "outputId": "acbebc90-b20c-4b5f-9f1c-2dc6435cd5af"
      },
      "source": [
        "# levene's test for homogenity of variance\n",
        "stats.levene(df['book_rating'], just_books['book_rating'])"
      ],
      "execution_count": null,
      "outputs": [
        {
          "output_type": "execute_result",
          "data": {
            "text/plain": [
              "LeveneResult(statistic=9.78319496438978, pvalue=0.0017648998990131596)"
            ]
          },
          "metadata": {
            "tags": []
          },
          "execution_count": 62
        }
      ]
    },
    {
      "cell_type": "code",
      "metadata": {
        "id": "r_YIIsT0GOE5",
        "colab": {
          "base_uri": "https://localhost:8080/",
          "height": 34
        },
        "outputId": "9a687485-575b-4a6c-e751-b4f274a2c234"
      },
      "source": [
        "stats.bartlett(df['book_rating'], just_books['book_rating'])"
      ],
      "execution_count": null,
      "outputs": [
        {
          "output_type": "execute_result",
          "data": {
            "text/plain": [
              "BartlettResult(statistic=71.33512807939051, pvalue=3.014212917754956e-17)"
            ]
          },
          "metadata": {
            "tags": []
          },
          "execution_count": 63
        }
      ]
    },
    {
      "cell_type": "markdown",
      "metadata": {
        "id": "uOALNjd6E54e"
      },
      "source": [
        "Tiny p-value, we reject the null hypothesis of equal variance. Conclude that our samples have different variance.\n",
        "\n"
      ]
    },
    {
      "cell_type": "code",
      "metadata": {
        "id": "D_lvEZR4-qrr",
        "colab": {
          "base_uri": "https://localhost:8080/",
          "height": 297
        },
        "outputId": "ae37e964-f31c-46e4-9202-9a23d6182be3"
      },
      "source": [
        "just_books['book_rating'].mean(), sns.distplot(just_books['book_rating'])"
      ],
      "execution_count": null,
      "outputs": [
        {
          "output_type": "execute_result",
          "data": {
            "text/plain": [
              "(3.929766803840863, <matplotlib.axes._subplots.AxesSubplot at 0x7fb81c66dcc0>)"
            ]
          },
          "metadata": {
            "tags": []
          },
          "execution_count": 64
        },
        {
          "output_type": "display_data",
          "data": {
            "image/png": "[encoded data removed]",
            "text/plain": [
              "<Figure size 432x288 with 1 Axes>"
            ]
          },
          "metadata": {
            "tags": []
          }
        }
      ]
    },
    {
      "cell_type": "code",
      "metadata": {
        "id": "euz_05rd-72o",
        "colab": {
          "base_uri": "https://localhost:8080/",
          "height": 297
        },
        "outputId": "9f2c1bbb-b945-4065-a595-785c87d1ce5f"
      },
      "source": [
        "df['book_rating'].mean(), sns.distplot(df['book_rating'])"
      ],
      "execution_count": null,
      "outputs": [
        {
          "output_type": "execute_result",
          "data": {
            "text/plain": [
              "(3.9433435582822094, <matplotlib.axes._subplots.AxesSubplot at 0x7fb81c632668>)"
            ]
          },
          "metadata": {
            "tags": []
          },
          "execution_count": 65
        },
        {
          "output_type": "display_data",
          "data": {
            "image/png": "[encoded data removed]",
            "text/plain": [
              "<Figure size 432x288 with 1 Axes>"
            ]
          },
          "metadata": {
            "tags": []
          }
        }
      ]
    },
    {
      "cell_type": "code",
      "metadata": {
        "id": "kmcRNlOKG1VV"
      },
      "source": [
        "diff = df['book_rating'] - just_books['book_rating']"
      ],
      "execution_count": null,
      "outputs": []
    },
    {
      "cell_type": "code",
      "metadata": {
        "id": "6AW-m0PoG5qi",
        "colab": {
          "base_uri": "https://localhost:8080/",
          "height": 362
        },
        "outputId": "f037280f-9407-4f9a-fc3a-5376de9e0352"
      },
      "source": [
        "stats.probplot(diff, plot= plt)\n"
      ],
      "execution_count": null,
      "outputs": [
        {
          "output_type": "execute_result",
          "data": {
            "text/plain": [
              "((array([-3.87786126, -3.65639293, -3.53497198, ...,  3.53497198,\n",
              "          3.65639293,  3.87786126]),\n",
              "  array([-1.15, -1.08, -0.94, ...,   nan,   nan,   nan])),\n",
              " (nan, nan, nan))"
            ]
          },
          "metadata": {
            "tags": []
          },
          "execution_count": 67
        },
        {
          "output_type": "display_data",
          "data": {
            "image/png": "[encoded data removed]",
            "text/plain": [
              "<Figure size 432x288 with 1 Axes>"
            ]
          },
          "metadata": {
            "tags": []
          }
        }
      ]
    },
    {
      "cell_type": "markdown",
      "metadata": {
        "id": "U1ANfd-EGqd6"
      },
      "source": [
        "Welch's T-test may work for unequal variance"
      ]
    },
    {
      "cell_type": "code",
      "metadata": {
        "id": "4lwJB53vGth_",
        "colab": {
          "base_uri": "https://localhost:8080/",
          "height": 34
        },
        "outputId": "73330ab0-b407-4204-98be-ae0999ad2514"
      },
      "source": [
        "stats.ttest_ind(df['book_rating'], just_books['book_rating'], equal_var=False)"
      ],
      "execution_count": null,
      "outputs": [
        {
          "output_type": "execute_result",
          "data": {
            "text/plain": [
              "Ttest_indResult(statistic=0.9611519252322183, pvalue=0.33712069660557586)"
            ]
          },
          "metadata": {
            "tags": []
          },
          "execution_count": 68
        }
      ]
    },
    {
      "cell_type": "markdown",
      "metadata": {
        "id": "-PmYKkUb_f5A"
      },
      "source": [
        "The test returned a pvalue of 0.337. At a 5% confidence interval we can not reject the null hypothesis, which says there is no difference between the true averages of the groups. We conclude the average ratings between books which are made into movies, and those which are not, is NOT significantly different."
      ]
    },
    {
      "cell_type": "markdown",
      "metadata": {
        "id": "9m8Ndq-RVSf8"
      },
      "source": [
        "### Is the average rating of movies based on books different than those that are not?"
      ]
    },
    {
      "cell_type": "code",
      "metadata": {
        "id": "hsMsZn8rVa6U",
        "colab": {
          "base_uri": "https://localhost:8080/",
          "height": 34
        },
        "outputId": "7fec3ade-0231-47ad-afe9-b39570b554a0"
      },
      "source": [
        "stats.levene(df['movie_rating'], just_movies['vote_average'])"
      ],
      "execution_count": null,
      "outputs": [
        {
          "output_type": "execute_result",
          "data": {
            "text/plain": [
              "LeveneResult(statistic=12.390661931877023, pvalue=0.0004354919343715371)"
            ]
          },
          "metadata": {
            "tags": []
          },
          "execution_count": 69
        }
      ]
    },
    {
      "cell_type": "markdown",
      "metadata": {
        "id": "jicUQXIzXDEA"
      },
      "source": [
        "Tiny p-value, we reject the null hypothesis of equal variance. Conclude that our samples have different variance.\n"
      ]
    },
    {
      "cell_type": "code",
      "metadata": {
        "id": "8PdrJjExED0F",
        "colab": {
          "base_uri": "https://localhost:8080/",
          "height": 297
        },
        "outputId": "06825a30-15f4-486a-be35-eb693428987c"
      },
      "source": [
        "just_movies['vote_average'].mean(), sns.distplot(just_movies['vote_average'])"
      ],
      "execution_count": null,
      "outputs": [
        {
          "output_type": "execute_result",
          "data": {
            "text/plain": [
              "(6.054535299374435, <matplotlib.axes._subplots.AxesSubplot at 0x7fb81c45dcf8>)"
            ]
          },
          "metadata": {
            "tags": []
          },
          "execution_count": 70
        },
        {
          "output_type": "display_data",
          "data": {
            "image/png": "[encoded data removed]",
            "text/plain": [
              "<Figure size 432x288 with 1 Axes>"
            ]
          },
          "metadata": {
            "tags": []
          }
        }
      ]
    },
    {
      "cell_type": "code",
      "metadata": {
        "id": "ddA23JR7XoUW",
        "colab": {
          "base_uri": "https://localhost:8080/",
          "height": 300
        },
        "outputId": "c3c59bb0-bd27-457a-ef1b-f585e9529947"
      },
      "source": [
        "df['movie_rating'].mean(), sns.distplot(df['movie_rating'])"
      ],
      "execution_count": null,
      "outputs": [
        {
          "output_type": "execute_result",
          "data": {
            "text/plain": [
              "(6.607055214723931, <matplotlib.axes._subplots.AxesSubplot at 0x7fb81c3bdf60>)"
            ]
          },
          "metadata": {
            "tags": []
          },
          "execution_count": 71
        },
        {
          "output_type": "display_data",
          "data": {
            "image/png": "[encoded data removed]",
            "text/plain": [
              "<Figure size 432x288 with 1 Axes>"
            ]
          },
          "metadata": {
            "tags": []
          }
        }
      ]
    },
    {
      "cell_type": "code",
      "metadata": {
        "id": "D8LgSUKFY-CM",
        "colab": {
          "base_uri": "https://localhost:8080/",
          "height": 34
        },
        "outputId": "17554518-ae93-4b7f-d877-164a82e4caea"
      },
      "source": [
        "stats.ttest_ind(df['movie_rating'], just_movies['vote_average'], equal_var=False)"
      ],
      "execution_count": null,
      "outputs": [
        {
          "output_type": "execute_result",
          "data": {
            "text/plain": [
              "Ttest_indResult(statistic=11.521324340526398, pvalue=4.9811969757445784e-27)"
            ]
          },
          "metadata": {
            "tags": []
          },
          "execution_count": 72
        }
      ]
    },
    {
      "cell_type": "markdown",
      "metadata": {
        "id": "lSZQ1KYhZOkH"
      },
      "source": [
        "The test returned a pvalue of 4.981. At a 5% confidence level, we can not reject the null hypothesis, which says there is no difference between the true averages of the groups. We conclude the average ratings between movies which are based on books and those which are not is NOT significantly different."
      ]
    },
    {
      "cell_type": "markdown",
      "metadata": {
        "id": "h6DDr41Br61Q"
      },
      "source": [
        "## Models"
      ]
    },
    {
      "cell_type": "markdown",
      "metadata": {
        "id": "-kkxIRf--I9Q"
      },
      "source": [
        "### Can we use linear regression to predict what a book's movie rating would be?\n",
        "\n",
        "Say I worked at a production company, and was interested in possibly making a movie out of a book. Linear regression is a statistical tool for predicting a continuous outcome (dependent variable) given one or more predictors (independent variables). We are looking to predict **movie_rating** based on **book_rating, ratings_count, number of pages, and text_reviews_count**."
      ]
    },
    {
      "cell_type": "code",
      "metadata": {
        "id": "F6ysBTjDshPM",
        "colab": {
          "base_uri": "https://localhost:8080/",
          "height": 302
        },
        "outputId": "118e51f6-b1d3-40f5-9620-9af0925157ba"
      },
      "source": [
        "df.corr()['movie_rating'].abs().sort_values(ascending=False)"
      ],
      "execution_count": null,
      "outputs": [
        {
          "output_type": "execute_result",
          "data": {
            "text/plain": [
              "movie_rating             1.00\n",
              "Combined Rating          0.92\n",
              "popularity               0.48\n",
              "vote_count               0.48\n",
              "book_rating              0.44\n",
              "runtime                  0.40\n",
              "revenue                  0.26\n",
              "ratings_count            0.14\n",
              "text_reviews_count       0.11\n",
              "Mentions Author          0.08\n",
              "# num_pages              0.06\n",
              "movie_id                 0.04\n",
              "budget                   0.01\n",
              "Overview mentions book   0.01\n",
              "Based on Novel           0.00\n",
              "Verify                    nan\n",
              "Name: movie_rating, dtype: float64"
            ]
          },
          "metadata": {
            "tags": []
          },
          "execution_count": 73
        }
      ]
    },
    {
      "cell_type": "code",
      "metadata": {
        "id": "GFbOWqDsq9YE"
      },
      "source": [
        "from sklearn.linear_model import LinearRegression"
      ],
      "execution_count": null,
      "outputs": []
    },
    {
      "cell_type": "code",
      "metadata": {
        "id": "AiYVsWLwrCqa"
      },
      "source": [
        "# to predict combined rating\n",
        "features = df[['book_rating', 'ratings_count', '# num_pages', 'text_reviews_count']].values.reshape(-1,4)\n",
        "outcome = df['movie_rating'].values.reshape(-1,1)"
      ],
      "execution_count": null,
      "outputs": []
    },
    {
      "cell_type": "markdown",
      "metadata": {
        "id": "xck9YvhWrE4I"
      },
      "source": [
        "Here I set aside 20% of the data for testing accuracy, and 80% for training the model."
      ]
    },
    {
      "cell_type": "code",
      "metadata": {
        "id": "Ua7dtQpSrOwS",
        "colab": {
          "base_uri": "https://localhost:8080/",
          "height": 50
        },
        "outputId": "eae23f3f-6199-4f12-d00c-ad05db7c4fe2"
      },
      "source": [
        "from sklearn.model_selection import train_test_split\n",
        "# 80% of data train, 20% to test\n",
        "X_train, X_test, y_train, y_test = train_test_split(features, outcome, test_size=0.2, random_state=0)\n",
        "\n",
        "movie_rating_regression = LinearRegression().fit(X_train, y_train)\n",
        "\n",
        "print('intercept', movie_rating_regression.intercept_)\n",
        "print('coefficient', movie_rating_regression.coef_)\n"
      ],
      "execution_count": null,
      "outputs": [
        {
          "output_type": "stream",
          "text": [
            "intercept [1.00465962]\n",
            "coefficient [[ 1.40231249e+00  4.92959618e-08  8.52395772e-05 -7.23584793e-07]]\n"
          ],
          "name": "stdout"
        }
      ]
    },
    {
      "cell_type": "markdown",
      "metadata": {
        "id": "uIHOpEk8rXOj"
      },
      "source": [
        "Seen above, our regression line has the equation:\n",
        "\n",
        "movie_rating = 1.005 + 1.40book_rating + 4.63e-08ratings_count + 8.52e-05#num_pages + -7,24e-07text_reviews_count.\n",
        "\n",
        "\n",
        "How do the models predictions compare to the actual values?"
      ]
    },
    {
      "cell_type": "code",
      "metadata": {
        "id": "77EPBLyhrPuA",
        "colab": {
          "base_uri": "https://localhost:8080/",
          "height": 402
        },
        "outputId": "daba0adb-00ca-43eb-e21f-e3d5852677eb"
      },
      "source": [
        "y_pred = movie_rating_regression.predict(X_test)\n",
        "\n",
        "regression_test = pd.DataFrame({'Actual': y_test.flatten(), 'Predicted': y_pred.flatten()})\n",
        "regression_test"
      ],
      "execution_count": null,
      "outputs": [
        {
          "output_type": "execute_result",
          "data": {
            "text/html": [
              "<div>\n",
              "<style scoped>\n",
              "    .dataframe tbody tr th:only-of-type {\n",
              "        vertical-align: middle;\n",
              "    }\n",
              "\n",
              "    .dataframe tbody tr th {\n",
              "        vertical-align: top;\n",
              "    }\n",
              "\n",
              "    .dataframe thead th {\n",
              "        text-align: right;\n",
              "    }\n",
              "</style>\n",
              "<table border=\"1\" class=\"dataframe\">\n",
              "  <thead>\n",
              "    <tr style=\"text-align: right;\">\n",
              "      <th></th>\n",
              "      <th>Actual</th>\n",
              "      <th>Predicted</th>\n",
              "    </tr>\n",
              "  </thead>\n",
              "  <tbody>\n",
              "    <tr>\n",
              "      <th>0</th>\n",
              "      <td>7.40</td>\n",
              "      <td>6.50</td>\n",
              "    </tr>\n",
              "    <tr>\n",
              "      <th>1</th>\n",
              "      <td>6.30</td>\n",
              "      <td>6.23</td>\n",
              "    </tr>\n",
              "    <tr>\n",
              "      <th>2</th>\n",
              "      <td>6.40</td>\n",
              "      <td>6.20</td>\n",
              "    </tr>\n",
              "    <tr>\n",
              "      <th>3</th>\n",
              "      <td>7.60</td>\n",
              "      <td>6.67</td>\n",
              "    </tr>\n",
              "    <tr>\n",
              "      <th>4</th>\n",
              "      <td>6.20</td>\n",
              "      <td>6.32</td>\n",
              "    </tr>\n",
              "    <tr>\n",
              "      <th>...</th>\n",
              "      <td>...</td>\n",
              "      <td>...</td>\n",
              "    </tr>\n",
              "    <tr>\n",
              "      <th>61</th>\n",
              "      <td>6.90</td>\n",
              "      <td>6.83</td>\n",
              "    </tr>\n",
              "    <tr>\n",
              "      <th>62</th>\n",
              "      <td>6.40</td>\n",
              "      <td>6.11</td>\n",
              "    </tr>\n",
              "    <tr>\n",
              "      <th>63</th>\n",
              "      <td>6.40</td>\n",
              "      <td>6.47</td>\n",
              "    </tr>\n",
              "    <tr>\n",
              "      <th>64</th>\n",
              "      <td>5.90</td>\n",
              "      <td>6.26</td>\n",
              "    </tr>\n",
              "    <tr>\n",
              "      <th>65</th>\n",
              "      <td>5.30</td>\n",
              "      <td>6.24</td>\n",
              "    </tr>\n",
              "  </tbody>\n",
              "</table>\n",
              "<p>66 rows × 2 columns</p>\n",
              "</div>"
            ],
            "text/plain": [
              "    Actual  Predicted\n",
              "0     7.40       6.50\n",
              "1     6.30       6.23\n",
              "2     6.40       6.20\n",
              "3     7.60       6.67\n",
              "4     6.20       6.32\n",
              "..     ...        ...\n",
              "61    6.90       6.83\n",
              "62    6.40       6.11\n",
              "63    6.40       6.47\n",
              "64    5.90       6.26\n",
              "65    5.30       6.24\n",
              "\n",
              "[66 rows x 2 columns]"
            ]
          },
          "metadata": {
            "tags": []
          },
          "execution_count": 77
        }
      ]
    },
    {
      "cell_type": "code",
      "metadata": {
        "id": "5wmjmfIZrdWT",
        "colab": {
          "base_uri": "https://localhost:8080/",
          "height": 594
        },
        "outputId": "54ef6330-c254-4ebf-ea04-166780ecd03e"
      },
      "source": [
        "regression_test_plot = regression_test.head(25)\n",
        "regression_test_plot.plot(kind='bar',figsize=(16,10))\n",
        "plt.grid(which='major', linestyle='-', linewidth='0.5', color='green')\n",
        "plt.grid(which='minor', linestyle=':', linewidth='0.5', color='black')\n",
        "plt.show()"
      ],
      "execution_count": null,
      "outputs": [
        {
          "output_type": "display_data",
          "data": {
            "image/png": "[encoded data removed]",
            "text/plain": [
              "<Figure size 1152x720 with 1 Axes>"
            ]
          },
          "metadata": {
            "tags": []
          }
        }
      ]
    },
    {
      "cell_type": "markdown",
      "metadata": {
        "id": "9b-3JaI9sKXf"
      },
      "source": [
        "The regression line plotted against the data, shows a positive linear relationship."
      ]
    },
    {
      "cell_type": "code",
      "metadata": {
        "id": "MXP56cs3rn0M",
        "colab": {
          "base_uri": "https://localhost:8080/",
          "height": 265
        },
        "outputId": "6d014184-4181-46c6-d130-b8a9f6cc2328"
      },
      "source": [
        "plt.scatter(X_test[:,0], y_test,  color='gray')\n",
        "plt.plot(X_test[:,0], y_pred, color='red', linewidth=1)\n",
        "plt.show()"
      ],
      "execution_count": null,
      "outputs": [
        {
          "output_type": "display_data",
          "data": {
            "image/png": "[encoded data removed]",
            "text/plain": [
              "<Figure size 432x288 with 1 Axes>"
            ]
          },
          "metadata": {
            "tags": []
          }
        }
      ]
    },
    {
      "cell_type": "markdown",
      "metadata": {
        "id": "fF22zclVW5ub"
      },
      "source": [
        "The predictors account for 19% of the variability in movie rating."
      ]
    },
    {
      "cell_type": "code",
      "metadata": {
        "id": "lxAqleuYruPp",
        "colab": {
          "base_uri": "https://localhost:8080/",
          "height": 34
        },
        "outputId": "701e7631-c983-40ae-d086-d48c6828a8ae"
      },
      "source": [
        "print(\"This model's r-squared is:\", movie_rating_regression.score(features,outcome).round(2))"
      ],
      "execution_count": null,
      "outputs": [
        {
          "output_type": "stream",
          "text": [
            "This model's r-squared is: 0.19\n"
          ],
          "name": "stdout"
        }
      ]
    },
    {
      "cell_type": "markdown",
      "metadata": {
        "id": "p6w9X2Dmsiks"
      },
      "source": [
        "Predict a book with: 3.5 rating, 500 ratings, 250 pages long, 100 text reviews"
      ]
    },
    {
      "cell_type": "code",
      "metadata": {
        "id": "iMpsVDKhmAIS",
        "colab": {
          "base_uri": "https://localhost:8080/",
          "height": 34
        },
        "outputId": "235ae2c1-e2e7-45c8-e512-3c98be5ee5f6"
      },
      "source": [
        "movie_rating_regression.predict([[3.5, 500, 250, 50]])"
      ],
      "execution_count": null,
      "outputs": [
        {
          "output_type": "execute_result",
          "data": {
            "text/plain": [
              "array([[5.93405172]])"
            ]
          },
          "metadata": {
            "tags": []
          },
          "execution_count": 98
        }
      ]
    },
    {
      "cell_type": "code",
      "metadata": {
        "id": "6JF4H2fvmQoG",
        "colab": {
          "base_uri": "https://localhost:8080/",
          "height": 994
        },
        "outputId": "3c0fa4d1-38f9-4e88-cee8-419699c2287f"
      },
      "source": [
        "df[(df['book_rating'] > 3.5) & (df['book_rating'] < 3.7)][['book_rating','ratings_count','text_reviews_count', '# num_pages', 'movie_rating']]"
      ],
      "execution_count": null,
      "outputs": [
        {
          "output_type": "execute_result",
          "data": {
            "text/html": [
              "<div>\n",
              "<style scoped>\n",
              "    .dataframe tbody tr th:only-of-type {\n",
              "        vertical-align: middle;\n",
              "    }\n",
              "\n",
              "    .dataframe tbody tr th {\n",
              "        vertical-align: top;\n",
              "    }\n",
              "\n",
              "    .dataframe thead th {\n",
              "        text-align: right;\n",
              "    }\n",
              "</style>\n",
              "<table border=\"1\" class=\"dataframe\">\n",
              "  <thead>\n",
              "    <tr style=\"text-align: right;\">\n",
              "      <th></th>\n",
              "      <th>book_rating</th>\n",
              "      <th>ratings_count</th>\n",
              "      <th>text_reviews_count</th>\n",
              "      <th># num_pages</th>\n",
              "      <th>movie_rating</th>\n",
              "    </tr>\n",
              "  </thead>\n",
              "  <tbody>\n",
              "    <tr>\n",
              "      <th>59</th>\n",
              "      <td>3.58</td>\n",
              "      <td>89</td>\n",
              "      <td>11</td>\n",
              "      <td>256</td>\n",
              "      <td>6.20</td>\n",
              "    </tr>\n",
              "    <tr>\n",
              "      <th>93</th>\n",
              "      <td>3.68</td>\n",
              "      <td>311883</td>\n",
              "      <td>14267</td>\n",
              "      <td>1168</td>\n",
              "      <td>5.40</td>\n",
              "    </tr>\n",
              "    <tr>\n",
              "      <th>207</th>\n",
              "      <td>3.60</td>\n",
              "      <td>9956</td>\n",
              "      <td>858</td>\n",
              "      <td>259</td>\n",
              "      <td>5.90</td>\n",
              "    </tr>\n",
              "    <tr>\n",
              "      <th>293</th>\n",
              "      <td>3.63</td>\n",
              "      <td>7407</td>\n",
              "      <td>515</td>\n",
              "      <td>293</td>\n",
              "      <td>5.50</td>\n",
              "    </tr>\n",
              "    <tr>\n",
              "      <th>304</th>\n",
              "      <td>3.51</td>\n",
              "      <td>4182</td>\n",
              "      <td>604</td>\n",
              "      <td>261</td>\n",
              "      <td>6.60</td>\n",
              "    </tr>\n",
              "    <tr>\n",
              "      <th>345</th>\n",
              "      <td>3.66</td>\n",
              "      <td>633</td>\n",
              "      <td>45</td>\n",
              "      <td>248</td>\n",
              "      <td>7.30</td>\n",
              "    </tr>\n",
              "    <tr>\n",
              "      <th>391</th>\n",
              "      <td>3.57</td>\n",
              "      <td>18175</td>\n",
              "      <td>631</td>\n",
              "      <td>233</td>\n",
              "      <td>7.10</td>\n",
              "    </tr>\n",
              "    <tr>\n",
              "      <th>400</th>\n",
              "      <td>3.60</td>\n",
              "      <td>11597</td>\n",
              "      <td>519</td>\n",
              "      <td>230</td>\n",
              "      <td>6.30</td>\n",
              "    </tr>\n",
              "    <tr>\n",
              "      <th>403</th>\n",
              "      <td>3.63</td>\n",
              "      <td>16198</td>\n",
              "      <td>916</td>\n",
              "      <td>229</td>\n",
              "      <td>6.40</td>\n",
              "    </tr>\n",
              "    <tr>\n",
              "      <th>418</th>\n",
              "      <td>3.59</td>\n",
              "      <td>5835</td>\n",
              "      <td>447</td>\n",
              "      <td>371</td>\n",
              "      <td>5.20</td>\n",
              "    </tr>\n",
              "    <tr>\n",
              "      <th>458</th>\n",
              "      <td>3.56</td>\n",
              "      <td>2083</td>\n",
              "      <td>91</td>\n",
              "      <td>338</td>\n",
              "      <td>6.10</td>\n",
              "    </tr>\n",
              "    <tr>\n",
              "      <th>475</th>\n",
              "      <td>3.67</td>\n",
              "      <td>891</td>\n",
              "      <td>44</td>\n",
              "      <td>448</td>\n",
              "      <td>7.30</td>\n",
              "    </tr>\n",
              "    <tr>\n",
              "      <th>592</th>\n",
              "      <td>3.69</td>\n",
              "      <td>165418</td>\n",
              "      <td>5063</td>\n",
              "      <td>293</td>\n",
              "      <td>6.00</td>\n",
              "    </tr>\n",
              "    <tr>\n",
              "      <th>729</th>\n",
              "      <td>3.58</td>\n",
              "      <td>140223</td>\n",
              "      <td>1468</td>\n",
              "      <td>442</td>\n",
              "      <td>5.00</td>\n",
              "    </tr>\n",
              "    <tr>\n",
              "      <th>736</th>\n",
              "      <td>3.56</td>\n",
              "      <td>185945</td>\n",
              "      <td>3273</td>\n",
              "      <td>306</td>\n",
              "      <td>4.90</td>\n",
              "    </tr>\n",
              "    <tr>\n",
              "      <th>813</th>\n",
              "      <td>3.51</td>\n",
              "      <td>48218</td>\n",
              "      <td>4137</td>\n",
              "      <td>288</td>\n",
              "      <td>5.70</td>\n",
              "    </tr>\n",
              "    <tr>\n",
              "      <th>840</th>\n",
              "      <td>3.59</td>\n",
              "      <td>566</td>\n",
              "      <td>37</td>\n",
              "      <td>192</td>\n",
              "      <td>7.60</td>\n",
              "    </tr>\n",
              "    <tr>\n",
              "      <th>953</th>\n",
              "      <td>3.62</td>\n",
              "      <td>130976</td>\n",
              "      <td>1505</td>\n",
              "      <td>688</td>\n",
              "      <td>5.30</td>\n",
              "    </tr>\n",
              "    <tr>\n",
              "      <th>1033</th>\n",
              "      <td>3.62</td>\n",
              "      <td>18741</td>\n",
              "      <td>1506</td>\n",
              "      <td>306</td>\n",
              "      <td>7.90</td>\n",
              "    </tr>\n",
              "    <tr>\n",
              "      <th>1082</th>\n",
              "      <td>3.59</td>\n",
              "      <td>1495</td>\n",
              "      <td>172</td>\n",
              "      <td>240</td>\n",
              "      <td>4.90</td>\n",
              "    </tr>\n",
              "    <tr>\n",
              "      <th>1114</th>\n",
              "      <td>3.63</td>\n",
              "      <td>1377</td>\n",
              "      <td>246</td>\n",
              "      <td>308</td>\n",
              "      <td>6.40</td>\n",
              "    </tr>\n",
              "    <tr>\n",
              "      <th>1117</th>\n",
              "      <td>3.67</td>\n",
              "      <td>4482</td>\n",
              "      <td>324</td>\n",
              "      <td>288</td>\n",
              "      <td>6.90</td>\n",
              "    </tr>\n",
              "    <tr>\n",
              "      <th>1129</th>\n",
              "      <td>3.69</td>\n",
              "      <td>4365</td>\n",
              "      <td>511</td>\n",
              "      <td>368</td>\n",
              "      <td>6.90</td>\n",
              "    </tr>\n",
              "    <tr>\n",
              "      <th>1141</th>\n",
              "      <td>3.53</td>\n",
              "      <td>5243</td>\n",
              "      <td>460</td>\n",
              "      <td>160</td>\n",
              "      <td>5.30</td>\n",
              "    </tr>\n",
              "    <tr>\n",
              "      <th>1255</th>\n",
              "      <td>3.54</td>\n",
              "      <td>1309623</td>\n",
              "      <td>47291</td>\n",
              "      <td>368</td>\n",
              "      <td>5.80</td>\n",
              "    </tr>\n",
              "    <tr>\n",
              "      <th>1390</th>\n",
              "      <td>3.52</td>\n",
              "      <td>3490</td>\n",
              "      <td>296</td>\n",
              "      <td>245</td>\n",
              "      <td>5.40</td>\n",
              "    </tr>\n",
              "    <tr>\n",
              "      <th>1500</th>\n",
              "      <td>3.66</td>\n",
              "      <td>1281</td>\n",
              "      <td>27</td>\n",
              "      <td>280</td>\n",
              "      <td>7.10</td>\n",
              "    </tr>\n",
              "    <tr>\n",
              "      <th>1502</th>\n",
              "      <td>3.55</td>\n",
              "      <td>2600</td>\n",
              "      <td>133</td>\n",
              "      <td>224</td>\n",
              "      <td>6.90</td>\n",
              "    </tr>\n",
              "    <tr>\n",
              "      <th>1513</th>\n",
              "      <td>3.62</td>\n",
              "      <td>25811</td>\n",
              "      <td>1956</td>\n",
              "      <td>355</td>\n",
              "      <td>6.90</td>\n",
              "    </tr>\n",
              "    <tr>\n",
              "      <th>1571</th>\n",
              "      <td>3.54</td>\n",
              "      <td>104</td>\n",
              "      <td>14</td>\n",
              "      <td>352</td>\n",
              "      <td>6.10</td>\n",
              "    </tr>\n",
              "    <tr>\n",
              "      <th>1608</th>\n",
              "      <td>3.57</td>\n",
              "      <td>223</td>\n",
              "      <td>10</td>\n",
              "      <td>217</td>\n",
              "      <td>5.00</td>\n",
              "    </tr>\n",
              "    <tr>\n",
              "      <th>1736</th>\n",
              "      <td>3.68</td>\n",
              "      <td>53972</td>\n",
              "      <td>2060</td>\n",
              "      <td>376</td>\n",
              "      <td>6.90</td>\n",
              "    </tr>\n",
              "  </tbody>\n",
              "</table>\n",
              "</div>"
            ],
            "text/plain": [
              "      book_rating  ratings_count  text_reviews_count  # num_pages  movie_rating\n",
              "59           3.58             89                  11          256          6.20\n",
              "93           3.68         311883               14267         1168          5.40\n",
              "207          3.60           9956                 858          259          5.90\n",
              "293          3.63           7407                 515          293          5.50\n",
              "304          3.51           4182                 604          261          6.60\n",
              "345          3.66            633                  45          248          7.30\n",
              "391          3.57          18175                 631          233          7.10\n",
              "400          3.60          11597                 519          230          6.30\n",
              "403          3.63          16198                 916          229          6.40\n",
              "418          3.59           5835                 447          371          5.20\n",
              "458          3.56           2083                  91          338          6.10\n",
              "475          3.67            891                  44          448          7.30\n",
              "592          3.69         165418                5063          293          6.00\n",
              "729          3.58         140223                1468          442          5.00\n",
              "736          3.56         185945                3273          306          4.90\n",
              "813          3.51          48218                4137          288          5.70\n",
              "840          3.59            566                  37          192          7.60\n",
              "953          3.62         130976                1505          688          5.30\n",
              "1033         3.62          18741                1506          306          7.90\n",
              "1082         3.59           1495                 172          240          4.90\n",
              "1114         3.63           1377                 246          308          6.40\n",
              "1117         3.67           4482                 324          288          6.90\n",
              "1129         3.69           4365                 511          368          6.90\n",
              "1141         3.53           5243                 460          160          5.30\n",
              "1255         3.54        1309623               47291          368          5.80\n",
              "1390         3.52           3490                 296          245          5.40\n",
              "1500         3.66           1281                  27          280          7.10\n",
              "1502         3.55           2600                 133          224          6.90\n",
              "1513         3.62          25811                1956          355          6.90\n",
              "1571         3.54            104                  14          352          6.10\n",
              "1608         3.57            223                  10          217          5.00\n",
              "1736         3.68          53972                2060          376          6.90"
            ]
          },
          "metadata": {
            "tags": []
          },
          "execution_count": 82
        }
      ]
    },
    {
      "cell_type": "markdown",
      "metadata": {
        "id": "0KP5AZ-4XpUO"
      },
      "source": [
        "### Can we use Logistic regression to categorize books as likely/not likely to be made into a movie?\n",
        "\n",
        "The books have been split into a binary categorization of Made into a movie, 1, or not Made into a movie 0. Given a book of unknown categorization, I would like to make a model which could predict which it will fall into. One technique to do this is to use logistic regression.\n",
        "\n",
        "I followed standard techniques which I found [here](https://www.geeksforgeeks.org/ml-logistic-regression-using-python/) and [here](https://www.datacamp.com/community/tutorials/understanding-logistic-regression-python)."
      ]
    },
    {
      "cell_type": "markdown",
      "metadata": {
        "id": "BpcbBkhS5oDm"
      },
      "source": [
        "** Revised\n",
        "Pick random sample of 300 non-movie books, try again"
      ]
    },
    {
      "cell_type": "code",
      "metadata": {
        "id": "m-nXCa0z5UFa",
        "colab": {
          "base_uri": "https://localhost:8080/",
          "height": 570
        },
        "outputId": "b632ddcc-4099-4c0d-f15c-f67edc45ba3c"
      },
      "source": [
        "log_book_slice = books[books['Made into movie'] == 0][:300]\n",
        "#log_book_slice"
      ],
      "execution_count": null,
      "outputs": [
        {
          "output_type": "execute_result",
          "data": {
            "text/html": [
              "<div>\n",
              "<style scoped>\n",
              "    .dataframe tbody tr th:only-of-type {\n",
              "        vertical-align: middle;\n",
              "    }\n",
              "\n",
              "    .dataframe tbody tr th {\n",
              "        vertical-align: top;\n",
              "    }\n",
              "\n",
              "    .dataframe thead th {\n",
              "        text-align: right;\n",
              "    }\n",
              "</style>\n",
              "<table border=\"1\" class=\"dataframe\">\n",
              "  <thead>\n",
              "    <tr style=\"text-align: right;\">\n",
              "      <th></th>\n",
              "      <th>title</th>\n",
              "      <th>authors</th>\n",
              "      <th>average_rating</th>\n",
              "      <th># num_pages</th>\n",
              "      <th>ratings_count</th>\n",
              "      <th>text_reviews_count</th>\n",
              "      <th>Made into movie</th>\n",
              "    </tr>\n",
              "  </thead>\n",
              "  <tbody>\n",
              "    <tr>\n",
              "      <th>5</th>\n",
              "      <td>Harry Potter Boxed Set  Books 1-5 (Harry Potter  #1-5)</td>\n",
              "      <td>J.K. Rowling-Mary GrandPré</td>\n",
              "      <td>4.78</td>\n",
              "      <td>2690</td>\n",
              "      <td>38872</td>\n",
              "      <td>154</td>\n",
              "      <td>0</td>\n",
              "    </tr>\n",
              "    <tr>\n",
              "      <th>6</th>\n",
              "      <td>Unauthorized Harry Potter Book Seven News: \"Half-Blood Prince\" Analysis and Speculation</td>\n",
              "      <td>W. Frederick Zimmerman</td>\n",
              "      <td>3.69</td>\n",
              "      <td>152</td>\n",
              "      <td>18</td>\n",
              "      <td>1</td>\n",
              "      <td>0</td>\n",
              "    </tr>\n",
              "    <tr>\n",
              "      <th>7</th>\n",
              "      <td>Harry Potter Collection (Harry Potter  #1-6)</td>\n",
              "      <td>J.K. Rowling</td>\n",
              "      <td>4.73</td>\n",
              "      <td>3342</td>\n",
              "      <td>27410</td>\n",
              "      <td>820</td>\n",
              "      <td>0</td>\n",
              "    </tr>\n",
              "    <tr>\n",
              "      <th>8</th>\n",
              "      <td>The Ultimate Hitchhiker's Guide: Five Complete Novels and One Story (Hitchhiker's Guide to the Galaxy  #1-5)</td>\n",
              "      <td>Douglas Adams</td>\n",
              "      <td>4.38</td>\n",
              "      <td>815</td>\n",
              "      <td>3602</td>\n",
              "      <td>258</td>\n",
              "      <td>0</td>\n",
              "    </tr>\n",
              "    <tr>\n",
              "      <th>10</th>\n",
              "      <td>The Hitchhiker's Guide to the Galaxy (Hitchhiker's Guide to the Galaxy  #1)</td>\n",
              "      <td>Douglas Adams</td>\n",
              "      <td>4.22</td>\n",
              "      <td>215</td>\n",
              "      <td>4416</td>\n",
              "      <td>408</td>\n",
              "      <td>0</td>\n",
              "    </tr>\n",
              "    <tr>\n",
              "      <th>...</th>\n",
              "      <td>...</td>\n",
              "      <td>...</td>\n",
              "      <td>...</td>\n",
              "      <td>...</td>\n",
              "      <td>...</td>\n",
              "      <td>...</td>\n",
              "      <td>...</td>\n",
              "    </tr>\n",
              "    <tr>\n",
              "      <th>327</th>\n",
              "      <td>The Westing Game</td>\n",
              "      <td>Ellen Raskin</td>\n",
              "      <td>4.02</td>\n",
              "      <td>182</td>\n",
              "      <td>134362</td>\n",
              "      <td>8278</td>\n",
              "      <td>0</td>\n",
              "    </tr>\n",
              "    <tr>\n",
              "      <th>328</th>\n",
              "      <td>The Egyptian</td>\n",
              "      <td>Zilpha Keatley Snyder</td>\n",
              "      <td>3.82</td>\n",
              "      <td>215</td>\n",
              "      <td>29160</td>\n",
              "      <td>1083</td>\n",
              "      <td>0</td>\n",
              "    </tr>\n",
              "    <tr>\n",
              "      <th>332</th>\n",
              "      <td>Memoirs of a Geisha: A Portrait of the Film</td>\n",
              "      <td>David        James-Peggy Mulloy-Rob Marshall-Arthur Golden</td>\n",
              "      <td>4.08</td>\n",
              "      <td>144</td>\n",
              "      <td>142</td>\n",
              "      <td>8</td>\n",
              "      <td>0</td>\n",
              "    </tr>\n",
              "    <tr>\n",
              "      <th>334</th>\n",
              "      <td>Geisha of Gion</td>\n",
              "      <td>Mineko Iwasaki-Rande Brown</td>\n",
              "      <td>3.93</td>\n",
              "      <td>334</td>\n",
              "      <td>1438</td>\n",
              "      <td>148</td>\n",
              "      <td>0</td>\n",
              "    </tr>\n",
              "    <tr>\n",
              "      <th>335</th>\n",
              "      <td>Memoirs Of A Geisha</td>\n",
              "      <td>Arthur Golden</td>\n",
              "      <td>4.10</td>\n",
              "      <td>3</td>\n",
              "      <td>24</td>\n",
              "      <td>5</td>\n",
              "      <td>0</td>\n",
              "    </tr>\n",
              "  </tbody>\n",
              "</table>\n",
              "<p>300 rows × 7 columns</p>\n",
              "</div>"
            ],
            "text/plain": [
              "                                                                                                            title  ... Made into movie\n",
              "5                                                          Harry Potter Boxed Set  Books 1-5 (Harry Potter  #1-5)  ...               0\n",
              "6                         Unauthorized Harry Potter Book Seven News: \"Half-Blood Prince\" Analysis and Speculation  ...               0\n",
              "7                                                                    Harry Potter Collection (Harry Potter  #1-6)  ...               0\n",
              "8    The Ultimate Hitchhiker's Guide: Five Complete Novels and One Story (Hitchhiker's Guide to the Galaxy  #1-5)  ...               0\n",
              "10                                    The Hitchhiker's Guide to the Galaxy (Hitchhiker's Guide to the Galaxy  #1)  ...               0\n",
              "..                                                                                                            ...  ...             ...\n",
              "327                                                                                              The Westing Game  ...               0\n",
              "328                                                                                                  The Egyptian  ...               0\n",
              "332                                                                   Memoirs of a Geisha: A Portrait of the Film  ...               0\n",
              "334                                                                                                Geisha of Gion  ...               0\n",
              "335                                                                                           Memoirs Of A Geisha  ...               0\n",
              "\n",
              "[300 rows x 7 columns]"
            ]
          },
          "metadata": {
            "tags": []
          },
          "execution_count": 104
        }
      ]
    },
    {
      "cell_type": "code",
      "metadata": {
        "id": "UkZ1nlj3dwjw",
        "colab": {
          "base_uri": "https://localhost:8080/",
          "height": 386
        },
        "outputId": "1c3a7872-9e23-41c7-f578-03df8f61ac82"
      },
      "source": [
        "sns.relplot(x='ratings_count', y='text_reviews_count', hue = 'Made into movie', data = books)"
      ],
      "execution_count": null,
      "outputs": [
        {
          "output_type": "execute_result",
          "data": {
            "text/plain": [
              "<seaborn.axisgrid.FacetGrid at 0x7fb81c3394e0>"
            ]
          },
          "metadata": {
            "tags": []
          },
          "execution_count": 83
        },
        {
          "output_type": "display_data",
          "data": {
            "image/png": "[encoded data removed]",
            "text/plain": [
              "<Figure size 479.125x360 with 1 Axes>"
            ]
          },
          "metadata": {
            "tags": []
          }
        }
      ]
    },
    {
      "cell_type": "code",
      "metadata": {
        "id": "pZRTJ_Dfs12a",
        "colab": {
          "base_uri": "https://localhost:8080/",
          "height": 118
        },
        "outputId": "e0cc77c6-26b6-4792-eaa2-285f6921e993"
      },
      "source": [
        "books.corr()['Made into movie'].abs().sort_values(ascending=False)"
      ],
      "execution_count": null,
      "outputs": [
        {
          "output_type": "execute_result",
          "data": {
            "text/plain": [
              "Made into movie      1.00\n",
              "text_reviews_count   0.15\n",
              "ratings_count        0.15\n",
              "average_rating       0.01\n",
              "# num_pages          0.00\n",
              "Name: Made into movie, dtype: float64"
            ]
          },
          "metadata": {
            "tags": []
          },
          "execution_count": 84
        }
      ]
    },
    {
      "cell_type": "code",
      "metadata": {
        "id": "MvFZFsOVncuT"
      },
      "source": [
        "books['Made into movie'] = books['Made into movie'].map({True: 1, False: 0})\n"
      ],
      "execution_count": null,
      "outputs": []
    },
    {
      "cell_type": "markdown",
      "metadata": {
        "id": "AStV5NPmnK-U"
      },
      "source": [
        "The **average_rating**, **text_reviews_count** and **ratings_count** attributes will be the predictors (independent variables) for **Made into Movie**."
      ]
    },
    {
      "cell_type": "code",
      "metadata": {
        "id": "iTXIGGXsYjQk"
      },
      "source": [
        "logfeatures = books[['average_rating', 'ratings_count', 'text_reviews_count']].values.reshape(-1,3)\n",
        "\n",
        "logoutcomes = books['Made into movie'].values.reshape(-1,1)"
      ],
      "execution_count": null,
      "outputs": []
    },
    {
      "cell_type": "markdown",
      "metadata": {
        "id": "XCrnZjxenc9t"
      },
      "source": [
        "25% of the data is set aside for testing, the rest is used to train the model."
      ]
    },
    {
      "cell_type": "code",
      "metadata": {
        "id": "Sa_YYrp1Xyrb"
      },
      "source": [
        "from sklearn.model_selection import train_test_split\n",
        "log_xtrain, log_xtest, log_ytrain, log_ytest = train_test_split(\n",
        "        logfeatures, logoutcomes, test_size = 0.25, random_state = 0)"
      ],
      "execution_count": null,
      "outputs": []
    },
    {
      "cell_type": "markdown",
      "metadata": {
        "id": "2ekLSdR2stMO"
      },
      "source": [
        "Our predictors are on different scales. Average_rating will never be more than 5, but ratings_count and text_reviews_count will be in the hundreds or thousands. We scale these values so that they have the same amount of impact on the model."
      ]
    },
    {
      "cell_type": "code",
      "metadata": {
        "id": "4U38fO1pYXD9"
      },
      "source": [
        "\n",
        "from sklearn.preprocessing import StandardScaler\n",
        "sc_x = StandardScaler()\n",
        "log_xtrain = sc_x.fit_transform(log_xtrain)\n",
        "log_xtest = sc_x.transform(log_xtest)\n",
        "\n",
        "#print(xtrain[0:10, :])\n"
      ],
      "execution_count": null,
      "outputs": []
    },
    {
      "cell_type": "code",
      "metadata": {
        "id": "r2nWAUxQZWYP",
        "colab": {
          "base_uri": "https://localhost:8080/",
          "height": 104
        },
        "outputId": "5d06c9e2-aed2-4c1b-c030-4ea779b35d21"
      },
      "source": [
        "from sklearn.linear_model import LogisticRegression\n",
        "classifier = LogisticRegression(random_state = 0)\n",
        "classifier.fit(log_xtrain, log_ytrain)\n",
        "log_y_pred = classifier.predict(log_xtest)"
      ],
      "execution_count": null,
      "outputs": [
        {
          "output_type": "stream",
          "text": [
            "/usr/local/lib/python3.6/dist-packages/sklearn/linear_model/logistic.py:432: FutureWarning: Default solver will be changed to 'lbfgs' in 0.22. Specify a solver to silence this warning.\n",
            "  FutureWarning)\n",
            "/usr/local/lib/python3.6/dist-packages/sklearn/utils/validation.py:724: DataConversionWarning: A column-vector y was passed when a 1d array was expected. Please change the shape of y to (n_samples, ), for example using ravel().\n",
            "  y = column_or_1d(y, warn=True)\n"
          ],
          "name": "stderr"
        }
      ]
    },
    {
      "cell_type": "code",
      "metadata": {
        "id": "KrRG5n19ZdTg",
        "colab": {
          "base_uri": "https://localhost:8080/",
          "height": 84
        },
        "outputId": "2096f476-f3c6-42f6-9f27-062f7061edc4"
      },
      "source": [
        "from sklearn.metrics import confusion_matrix\n",
        "from sklearn.metrics import accuracy_score\n",
        "log_cm = confusion_matrix(log_ytest, log_y_pred)\n",
        "\n",
        "print (\"Confusion Matrix : \\n\", log_cm)\n",
        "print (\"Accuracy : \", accuracy_score(log_ytest, log_y_pred))"
      ],
      "execution_count": null,
      "outputs": [
        {
          "output_type": "stream",
          "text": [
            "Confusion Matrix : \n",
            " [[3284    3]\n",
            " [ 141    1]]\n",
            "Accuracy :  0.958005249343832\n"
          ],
          "name": "stdout"
        }
      ]
    },
    {
      "cell_type": "code",
      "metadata": {
        "id": "S89K8FIq4CU0",
        "colab": {
          "base_uri": "https://localhost:8080/",
          "height": 282
        },
        "outputId": "cafc3362-0400-4635-9a46-55951095bd80"
      },
      "source": [
        "sns.regplot(x=logfeatures[:,0], y=logoutcomes, data=books, logistic=True)\n"
      ],
      "execution_count": null,
      "outputs": [
        {
          "output_type": "execute_result",
          "data": {
            "text/plain": [
              "<matplotlib.axes._subplots.AxesSubplot at 0x7fb816332240>"
            ]
          },
          "metadata": {
            "tags": []
          },
          "execution_count": 91
        },
        {
          "output_type": "display_data",
          "data": {
            "image/png": "[encoded data removed]",
            "text/plain": [
              "<Figure size 432x288 with 1 Axes>"
            ]
          },
          "metadata": {
            "tags": []
          }
        }
      ]
    },
    {
      "cell_type": "code",
      "metadata": {
        "id": "Kp0hPSBsr4Zp",
        "colab": {
          "base_uri": "https://localhost:8080/",
          "height": 134
        },
        "outputId": "55a6d7f9-57d8-41d3-92bc-48f921997111"
      },
      "source": [
        "classifier.predict_proba(log_xtest)"
      ],
      "execution_count": null,
      "outputs": [
        {
          "output_type": "execute_result",
          "data": {
            "text/plain": [
              "array([[0.95931006, 0.04068994],\n",
              "       [0.95843134, 0.04156866],\n",
              "       [0.96006293, 0.03993707],\n",
              "       ...,\n",
              "       [0.9613994 , 0.0386006 ],\n",
              "       [0.96359781, 0.03640219],\n",
              "       [0.95905004, 0.04094996]])"
            ]
          },
          "metadata": {
            "tags": []
          },
          "execution_count": 92
        }
      ]
    },
    {
      "cell_type": "code",
      "metadata": {
        "id": "NXcjc_1rsLx3",
        "colab": {
          "base_uri": "https://localhost:8080/",
          "height": 402
        },
        "outputId": "4cc2a7dd-23cc-469e-f686-5ce044d08c51"
      },
      "source": [
        "classifier_test = pd.DataFrame({'Actual': log_ytest.flatten(), 'Predicted': log_y_pred.flatten()})\n",
        "classifier_test[classifier_test['Actual'] ==1]"
      ],
      "execution_count": null,
      "outputs": [
        {
          "output_type": "execute_result",
          "data": {
            "text/html": [
              "<div>\n",
              "<style scoped>\n",
              "    .dataframe tbody tr th:only-of-type {\n",
              "        vertical-align: middle;\n",
              "    }\n",
              "\n",
              "    .dataframe tbody tr th {\n",
              "        vertical-align: top;\n",
              "    }\n",
              "\n",
              "    .dataframe thead th {\n",
              "        text-align: right;\n",
              "    }\n",
              "</style>\n",
              "<table border=\"1\" class=\"dataframe\">\n",
              "  <thead>\n",
              "    <tr style=\"text-align: right;\">\n",
              "      <th></th>\n",
              "      <th>Actual</th>\n",
              "      <th>Predicted</th>\n",
              "    </tr>\n",
              "  </thead>\n",
              "  <tbody>\n",
              "    <tr>\n",
              "      <th>2</th>\n",
              "      <td>1</td>\n",
              "      <td>0</td>\n",
              "    </tr>\n",
              "    <tr>\n",
              "      <th>44</th>\n",
              "      <td>1</td>\n",
              "      <td>0</td>\n",
              "    </tr>\n",
              "    <tr>\n",
              "      <th>50</th>\n",
              "      <td>1</td>\n",
              "      <td>0</td>\n",
              "    </tr>\n",
              "    <tr>\n",
              "      <th>141</th>\n",
              "      <td>1</td>\n",
              "      <td>0</td>\n",
              "    </tr>\n",
              "    <tr>\n",
              "      <th>162</th>\n",
              "      <td>1</td>\n",
              "      <td>0</td>\n",
              "    </tr>\n",
              "    <tr>\n",
              "      <th>...</th>\n",
              "      <td>...</td>\n",
              "      <td>...</td>\n",
              "    </tr>\n",
              "    <tr>\n",
              "      <th>3211</th>\n",
              "      <td>1</td>\n",
              "      <td>0</td>\n",
              "    </tr>\n",
              "    <tr>\n",
              "      <th>3241</th>\n",
              "      <td>1</td>\n",
              "      <td>0</td>\n",
              "    </tr>\n",
              "    <tr>\n",
              "      <th>3269</th>\n",
              "      <td>1</td>\n",
              "      <td>0</td>\n",
              "    </tr>\n",
              "    <tr>\n",
              "      <th>3336</th>\n",
              "      <td>1</td>\n",
              "      <td>0</td>\n",
              "    </tr>\n",
              "    <tr>\n",
              "      <th>3384</th>\n",
              "      <td>1</td>\n",
              "      <td>0</td>\n",
              "    </tr>\n",
              "  </tbody>\n",
              "</table>\n",
              "<p>142 rows × 2 columns</p>\n",
              "</div>"
            ],
            "text/plain": [
              "      Actual  Predicted\n",
              "2          1          0\n",
              "44         1          0\n",
              "50         1          0\n",
              "141        1          0\n",
              "162        1          0\n",
              "...      ...        ...\n",
              "3211       1          0\n",
              "3241       1          0\n",
              "3269       1          0\n",
              "3336       1          0\n",
              "3384       1          0\n",
              "\n",
              "[142 rows x 2 columns]"
            ]
          },
          "metadata": {
            "tags": []
          },
          "execution_count": 93
        }
      ]
    },
    {
      "cell_type": "markdown",
      "metadata": {
        "id": "GIgRpkt1ngto"
      },
      "source": [
        "Conclusion\n",
        "\n",
        "The model almost always predicts zero, predicting wrong almost every time the actual value is 1. This could be because most of the books are 0 (only 300/15000 are 1). It could be because the predictors are weakly correlated with the outcome."
      ]
    },
    {
      "cell_type": "markdown",
      "metadata": {
        "id": "vTbMcwTcWOlK"
      },
      "source": [
        "## Interesting questions/visualizations"
      ]
    },
    {
      "cell_type": "markdown",
      "metadata": {
        "id": "Vf3C4d4nCwjK"
      },
      "source": [
        "### What were the best books that made the worst movies?"
      ]
    },
    {
      "cell_type": "code",
      "metadata": {
        "id": "NLs6eBvgC6Xu",
        "colab": {
          "base_uri": "https://localhost:8080/",
          "height": 343
        },
        "outputId": "f7a3801a-92bd-4895-d9f6-5d85f987dacc"
      },
      "source": [
        "df['rating_difference'] = (df['book_rating'] * 2) - df['movie_rating']\n",
        "df['book_rating (normalized)'] = df['book_rating'] * 2\n",
        "df.sort_values(by='rating_difference', ascending=False)[['title', 'book_rating (normalized)', 'movie_rating', 'rating_difference']][:10]"
      ],
      "execution_count": null,
      "outputs": [
        {
          "output_type": "execute_result",
          "data": {
            "text/html": [
              "<div>\n",
              "<style scoped>\n",
              "    .dataframe tbody tr th:only-of-type {\n",
              "        vertical-align: middle;\n",
              "    }\n",
              "\n",
              "    .dataframe tbody tr th {\n",
              "        vertical-align: top;\n",
              "    }\n",
              "\n",
              "    .dataframe thead th {\n",
              "        text-align: right;\n",
              "    }\n",
              "</style>\n",
              "<table border=\"1\" class=\"dataframe\">\n",
              "  <thead>\n",
              "    <tr style=\"text-align: right;\">\n",
              "      <th></th>\n",
              "      <th>title</th>\n",
              "      <th>book_rating (normalized)</th>\n",
              "      <th>movie_rating</th>\n",
              "      <th>rating_difference</th>\n",
              "    </tr>\n",
              "  </thead>\n",
              "  <tbody>\n",
              "    <tr>\n",
              "      <th>1087</th>\n",
              "      <td>The Bridge of San Luis Rey</td>\n",
              "      <td>8.86</td>\n",
              "      <td>5.40</td>\n",
              "      <td>3.46</td>\n",
              "    </tr>\n",
              "    <tr>\n",
              "      <th>1085</th>\n",
              "      <td>One for the Money</td>\n",
              "      <td>8.70</td>\n",
              "      <td>5.30</td>\n",
              "      <td>3.40</td>\n",
              "    </tr>\n",
              "    <tr>\n",
              "      <th>221</th>\n",
              "      <td>Pride and Prejudice and Zombies</td>\n",
              "      <td>8.86</td>\n",
              "      <td>5.50</td>\n",
              "      <td>3.36</td>\n",
              "    </tr>\n",
              "    <tr>\n",
              "      <th>138</th>\n",
              "      <td>The Clan of the Cave Bear</td>\n",
              "      <td>8.08</td>\n",
              "      <td>4.80</td>\n",
              "      <td>3.28</td>\n",
              "    </tr>\n",
              "    <tr>\n",
              "      <th>1034</th>\n",
              "      <td>Striptease</td>\n",
              "      <td>7.68</td>\n",
              "      <td>4.40</td>\n",
              "      <td>3.28</td>\n",
              "    </tr>\n",
              "    <tr>\n",
              "      <th>1755</th>\n",
              "      <td>Jekyll and Hyde ... Together Again</td>\n",
              "      <td>7.60</td>\n",
              "      <td>4.60</td>\n",
              "      <td>3.00</td>\n",
              "    </tr>\n",
              "    <tr>\n",
              "      <th>513</th>\n",
              "      <td>Breakfast of Champions</td>\n",
              "      <td>8.16</td>\n",
              "      <td>5.20</td>\n",
              "      <td>2.96</td>\n",
              "    </tr>\n",
              "    <tr>\n",
              "      <th>1757</th>\n",
              "      <td>The Musketeer</td>\n",
              "      <td>8.14</td>\n",
              "      <td>5.20</td>\n",
              "      <td>2.94</td>\n",
              "    </tr>\n",
              "    <tr>\n",
              "      <th>1633</th>\n",
              "      <td>The Big Bounce</td>\n",
              "      <td>7.90</td>\n",
              "      <td>5.00</td>\n",
              "      <td>2.90</td>\n",
              "    </tr>\n",
              "    <tr>\n",
              "      <th>1488</th>\n",
              "      <td>The Island of Dr. Moreau</td>\n",
              "      <td>7.44</td>\n",
              "      <td>4.60</td>\n",
              "      <td>2.84</td>\n",
              "    </tr>\n",
              "  </tbody>\n",
              "</table>\n",
              "</div>"
            ],
            "text/plain": [
              "                                   title  ...  rating_difference\n",
              "1087          The Bridge of San Luis Rey  ...               3.46\n",
              "1085                   One for the Money  ...               3.40\n",
              "221      Pride and Prejudice and Zombies  ...               3.36\n",
              "138            The Clan of the Cave Bear  ...               3.28\n",
              "1034                          Striptease  ...               3.28\n",
              "1755  Jekyll and Hyde ... Together Again  ...               3.00\n",
              "513               Breakfast of Champions  ...               2.96\n",
              "1757                       The Musketeer  ...               2.94\n",
              "1633                      The Big Bounce  ...               2.90\n",
              "1488            The Island of Dr. Moreau  ...               2.84\n",
              "\n",
              "[10 rows x 4 columns]"
            ]
          },
          "metadata": {
            "tags": []
          },
          "execution_count": 94
        }
      ]
    },
    {
      "cell_type": "markdown",
      "metadata": {
        "id": "eqotf8ZMWI_3"
      },
      "source": [
        "### What movies were much better than the book?"
      ]
    },
    {
      "cell_type": "code",
      "metadata": {
        "id": "IPuHwTftWDqX",
        "colab": {
          "base_uri": "https://localhost:8080/",
          "height": 343
        },
        "outputId": "459a793d-87a9-44ba-bfd7-0edf2546fbe3"
      },
      "source": [
        "df.sort_values(by='rating_difference', ascending=True)[['title', 'book_rating (normalized)', 'movie_rating', 'rating_difference']][:10]"
      ],
      "execution_count": null,
      "outputs": [
        {
          "output_type": "execute_result",
          "data": {
            "text/html": [
              "<div>\n",
              "<style scoped>\n",
              "    .dataframe tbody tr th:only-of-type {\n",
              "        vertical-align: middle;\n",
              "    }\n",
              "\n",
              "    .dataframe tbody tr th {\n",
              "        vertical-align: top;\n",
              "    }\n",
              "\n",
              "    .dataframe thead th {\n",
              "        text-align: right;\n",
              "    }\n",
              "</style>\n",
              "<table border=\"1\" class=\"dataframe\">\n",
              "  <thead>\n",
              "    <tr style=\"text-align: right;\">\n",
              "      <th></th>\n",
              "      <th>title</th>\n",
              "      <th>book_rating (normalized)</th>\n",
              "      <th>movie_rating</th>\n",
              "      <th>rating_difference</th>\n",
              "    </tr>\n",
              "  </thead>\n",
              "  <tbody>\n",
              "    <tr>\n",
              "      <th>1520</th>\n",
              "      <td>Up in the Air</td>\n",
              "      <td>5.72</td>\n",
              "      <td>6.70</td>\n",
              "      <td>-0.98</td>\n",
              "    </tr>\n",
              "    <tr>\n",
              "      <th>1033</th>\n",
              "      <td>Gone Girl</td>\n",
              "      <td>7.24</td>\n",
              "      <td>7.90</td>\n",
              "      <td>-0.66</td>\n",
              "    </tr>\n",
              "    <tr>\n",
              "      <th>840</th>\n",
              "      <td>The Fault in Our Stars</td>\n",
              "      <td>7.18</td>\n",
              "      <td>7.60</td>\n",
              "      <td>-0.42</td>\n",
              "    </tr>\n",
              "    <tr>\n",
              "      <th>1048</th>\n",
              "      <td>The Prestige</td>\n",
              "      <td>7.76</td>\n",
              "      <td>8.00</td>\n",
              "      <td>-0.24</td>\n",
              "    </tr>\n",
              "    <tr>\n",
              "      <th>1355</th>\n",
              "      <td>The Notebook</td>\n",
              "      <td>7.52</td>\n",
              "      <td>7.70</td>\n",
              "      <td>-0.18</td>\n",
              "    </tr>\n",
              "    <tr>\n",
              "      <th>1666</th>\n",
              "      <td>The Martian</td>\n",
              "      <td>7.54</td>\n",
              "      <td>7.60</td>\n",
              "      <td>-0.06</td>\n",
              "    </tr>\n",
              "    <tr>\n",
              "      <th>345</th>\n",
              "      <td>The Revenant</td>\n",
              "      <td>7.32</td>\n",
              "      <td>7.30</td>\n",
              "      <td>0.02</td>\n",
              "    </tr>\n",
              "    <tr>\n",
              "      <th>475</th>\n",
              "      <td>The Raid</td>\n",
              "      <td>7.34</td>\n",
              "      <td>7.30</td>\n",
              "      <td>0.04</td>\n",
              "    </tr>\n",
              "    <tr>\n",
              "      <th>391</th>\n",
              "      <td>Stranger Than Fiction</td>\n",
              "      <td>7.14</td>\n",
              "      <td>7.10</td>\n",
              "      <td>0.04</td>\n",
              "    </tr>\n",
              "    <tr>\n",
              "      <th>270</th>\n",
              "      <td>Moby Dick</td>\n",
              "      <td>6.98</td>\n",
              "      <td>6.90</td>\n",
              "      <td>0.08</td>\n",
              "    </tr>\n",
              "  </tbody>\n",
              "</table>\n",
              "</div>"
            ],
            "text/plain": [
              "                       title  ...  rating_difference\n",
              "1520           Up in the Air  ...              -0.98\n",
              "1033               Gone Girl  ...              -0.66\n",
              "840   The Fault in Our Stars  ...              -0.42\n",
              "1048            The Prestige  ...              -0.24\n",
              "1355            The Notebook  ...              -0.18\n",
              "1666             The Martian  ...              -0.06\n",
              "345             The Revenant  ...               0.02\n",
              "475                 The Raid  ...               0.04\n",
              "391    Stranger Than Fiction  ...               0.04\n",
              "270                Moby Dick  ...               0.08\n",
              "\n",
              "[10 rows x 4 columns]"
            ]
          },
          "metadata": {
            "tags": []
          },
          "execution_count": 95
        }
      ]
    },
    {
      "cell_type": "markdown",
      "metadata": {
        "id": "iODpPvk7ofs7"
      },
      "source": [
        "## Interface (in progress)\n",
        "\n",
        "Say I wanted to know: 'I really like book X, I wonder if it's a movie? If not, I wonder if it will be, and how well it would do?'\n",
        "\n",
        "This notebook has created the tools to potentially answer those questions, but not a means for accessing them. My final step will be to create an interface function which will:\n",
        "\n",
        "Take in the title of a book as input:\n",
        "\n",
        "*   Determine if it is in the dataset or not\n",
        "*   If it is a movie, return information\n",
        "*   If it is not a movie:\n",
        "*   Use the logistic regression to determine it's likelihood of being made into a movie\n",
        "*   Use the linear regression to predict its movie rating\n",
        "\n"
      ]
    },
    {
      "cell_type": "code",
      "metadata": {
        "id": "LbO5iDMeppw-"
      },
      "source": [
        "def interface(input_title):\n",
        "  msg = ''\n",
        "  look_df = df[df['title'] ==input_title][['title', 'author', 'book_rating', 'movie_rating', '# num_pages', 'text_reviews_count', 'ratings_count']]\n",
        "  look_books = books[books['title'] == input_title][['title', 'authors', 'average_rating', 'ratings_count']]\n",
        "  if look_books.empty:\n",
        "    print('That book isn\\'t in our dataset. Try another!')\n",
        "\n",
        "  elif ~look_books.empty and look_df.empty:\n",
        "    print('Match found! That book doesn\\'t have a movie.')\n",
        "    params = look_df[['book_rating', 'ratings_count','# num_pages', 'text_reviews_count']].values.reshape(-1,4)\n",
        "    print(movie_rating_regression.predict([[params]]))\n",
        "\n",
        "  elif ~look_books.empty and ~look_df.empty:\n",
        "    print('Match found! That book already has a movie.')\n",
        "    print(look_df)\n",
        "\n",
        "#interface('In a Sunburned Country')"
      ],
      "execution_count": null,
      "outputs": []
    },
    {
      "cell_type": "markdown",
      "metadata": {
        "id": "l_U-ozJ4u6AL"
      },
      "source": [
        "# Conclusion and Summary\n",
        "\n",
        "This notebook achieved the following goals:\n",
        "\n",
        "\n",
        "1.   Merged the Goodreads books and TMDB Movie datasets from Kaggle\n",
        "2.   Identified a subset of things which are both books and movies, for use in future analysis\n",
        "3.   Found that being made into a movie is not proof of a higher average rating for books or movies\n",
        "4.   Used linear regression to predict a movie score from features of a book\n",
        "5.   Used logistic regression to predict whether a book was likely to be made into a movie.\n",
        "\n",
        "\n",
        "Improvements:\n",
        "\n",
        "*   Make verification function more accurate. Right now it pretty solidly guarantees a pair is the same, but probably misses some.\n",
        "\n",
        "*   Improve accuracy of classification, possibly use different model.\n"
      ]
    },
    {
      "cell_type": "code",
      "metadata": {
        "id": "bY5u0g0qpq48"
      },
      "source": [],
      "execution_count": null,
      "outputs": []
    }
  ]
}